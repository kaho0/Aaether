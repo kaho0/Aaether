{
  "nbformat": 4,
  "nbformat_minor": 0,
  "metadata": {
    "colab": {
      "provenance": [],
      "authorship_tag": "ABX9TyMhiHPgSx+qMqNjzWNebFsD",
      "include_colab_link": true
    },
    "kernelspec": {
      "name": "python3",
      "display_name": "Python 3"
    },
    "language_info": {
      "name": "python"
    }
  },
  "cells": [
    {
      "cell_type": "markdown",
      "metadata": {
        "id": "view-in-github",
        "colab_type": "text"
      },
      "source": [
        "<a href=\"https://colab.research.google.com/github/kaho0/LossBoss/blob/main/Module4.ipynb\" target=\"_parent\"><img src=\"https://colab.research.google.com/assets/colab-badge.svg\" alt=\"Open In Colab\"/></a>"
      ]
    },
    {
      "cell_type": "code",
      "execution_count": 1,
      "metadata": {
        "colab": {
          "base_uri": "https://localhost:8080/"
        },
        "id": "6i5nufQGVmXt",
        "outputId": "ba9fb737-4147-470d-9b3a-3496bed36236"
      },
      "outputs": [
        {
          "output_type": "stream",
          "name": "stdout",
          "text": [
            "2.5 0 10\n",
            "0.25\n"
          ]
        }
      ],
      "source": [
        "x,min_v,max_v=map(float,input().split())\n",
        "norm = (x - min_v) / (max_v - min_v)\n",
        "print(f\"{norm:.2f}\")"
      ]
    },
    {
      "cell_type": "code",
      "source": [
        "N=int(input())\n",
        "target=float(input())\n",
        "total_loss=0\n",
        "for i in range(N):\n",
        "  loss=float(input())\n",
        "  total_loss+=loss\n",
        "avrg_loss=total_loss/N\n",
        "\n",
        "if(avrg_loss<=target):\n",
        "  print(\"PASS\")\n",
        "else:\n",
        "  print(\"RETRY\")"
      ],
      "metadata": {
        "colab": {
          "base_uri": "https://localhost:8080/"
        },
        "id": "qfsJzuL7WXJL",
        "outputId": "0d43e249-0ca1-4c3f-a570-a828de63149f"
      },
      "execution_count": 2,
      "outputs": [
        {
          "output_type": "stream",
          "name": "stdout",
          "text": [
            "3\n",
            "0.35\n",
            "0.20\n",
            ".30\n",
            ".40\n",
            "PASS\n"
          ]
        }
      ]
    },
    {
      "cell_type": "code",
      "source": [
        "N=int(input())\n",
        "y=0\n",
        "n=0\n",
        "for i in range(N):\n",
        "  votes=input()\n",
        "  if votes==\"YES\":\n",
        "     y+=1\n",
        "\n",
        "  else:\n",
        "    n+=1\n",
        "if(y>n):\n",
        "  print(\"ACCEPT\")\n",
        "else:\n",
        "  print(\"REJETC\")\n",
        "\n"
      ],
      "metadata": {
        "colab": {
          "base_uri": "https://localhost:8080/"
        },
        "id": "ALYcc6IKXcrM",
        "outputId": "90a21640-7525-49ce-8f26-4f68ef8f207d"
      },
      "execution_count": 4,
      "outputs": [
        {
          "output_type": "stream",
          "name": "stdout",
          "text": [
            "2\n",
            "YES\n",
            "NO\n",
            "REJETC\n"
          ]
        }
      ]
    },
    {
      "cell_type": "code",
      "source": [
        "msg=input()\n",
        "if \"happy\" in msg or \"joy\" in msg or \"smile\" in msg:\n",
        "  print(\"Happy mood\")\n",
        "elif \"sad\" in msg or \"cry\" in msg or \"angry\" in msg:\n",
        "  print(\"Sad mood\")\n",
        "else:\n",
        "  print(\"Newtral\")"
      ],
      "metadata": {
        "colab": {
          "base_uri": "https://localhost:8080/"
        },
        "id": "Ee6FGXJJYchi",
        "outputId": "394ad114-ad3b-4a67-af7a-838c5ed80148"
      },
      "execution_count": 5,
      "outputs": [
        {
          "output_type": "stream",
          "name": "stdout",
          "text": [
            "happy birthday\n",
            "Happy mood\n"
          ]
        }
      ]
    },
    {
      "cell_type": "code",
      "source": [
        "pixels=list(map(int,input().split()))\n",
        "avrg_br=sum(pixels) / len(pixels)\n",
        "if avrg_br< 85:\n",
        "  print(\"Dark\")\n",
        "elif avrg_br<=170:\n",
        "  print(\"Normal\")\n",
        "elif avrg_br>170:\n",
        "  print(\"Bright\")"
      ],
      "metadata": {
        "colab": {
          "base_uri": "https://localhost:8080/"
        },
        "id": "uw3CMbX1ZU-3",
        "outputId": "6241e7ec-0da6-49b4-c4b5-5b8911d826e5"
      },
      "execution_count": 6,
      "outputs": [
        {
          "output_type": "stream",
          "name": "stdout",
          "text": [
            "10 20 30 40\n",
            "Dark\n"
          ]
        }
      ]
    },
    {
      "cell_type": "code",
      "source": [
        "models=input().split()\n",
        "a_c=0\n",
        "b_c=0\n",
        "for model in models:\n",
        "  if model == \"A\":\n",
        "     a_c+=1\n",
        "  elif model == \"B\":\n",
        "     b_c+=1\n",
        "\n",
        "total_predictions = len(models)\n",
        "if total_predictions > 0:\n",
        "    if (a_c / total_predictions > 0.7) or (b_c / total_predictions > 0.7):\n",
        "        print(\"Biased Model\")\n",
        "    else:\n",
        "        print(\"Fair Model\")\n",
        "else:\n",
        "    print(\"Fair Model\") # Handle empty input case"
      ],
      "metadata": {
        "colab": {
          "base_uri": "https://localhost:8080/"
        },
        "id": "CFyr7pJ3Z4S6",
        "outputId": "2b992985-2d02-4f60-9b31-e66e84b89094"
      },
      "execution_count": 8,
      "outputs": [
        {
          "output_type": "stream",
          "name": "stdout",
          "text": [
            "A A A B B A A\n",
            "A A A B B A A\n"
          ]
        }
      ]
    },
    {
      "cell_type": "code",
      "source": [
        "msg=input()\n",
        "g_l=[\"ai\",'data','model','learn','train','neural']\n",
        "count=0\n",
        "for keyword in g_l:\n",
        "  if keyword in msg:\n",
        "    count+=1\n",
        "\n",
        "if count>=2:\n",
        "  print(\"AI Detected\")\n",
        "else:\n",
        "  print(\"Not AI Related\")"
      ],
      "metadata": {
        "colab": {
          "base_uri": "https://localhost:8080/"
        },
        "id": "H5k9Ei-_a0S4",
        "outputId": "2f2ce825-b979-470b-cbaa-d3bff3661f1e"
      },
      "execution_count": 9,
      "outputs": [
        {
          "output_type": "stream",
          "name": "stdout",
          "text": [
            "i work with ai\n",
            "Not AI Related\n"
          ]
        }
      ]
    },
    {
      "cell_type": "code",
      "source": [
        "!apt-get install git\n",
        "!git config --global user.name \"kaho0\"\n",
        "!git config --global user.email \"kahonbintezaman@gmail.com\""
      ],
      "metadata": {
        "colab": {
          "base_uri": "https://localhost:8080/"
        },
        "id": "wGrEFNa6bTiv",
        "outputId": "c638c5a3-2cc7-423d-d47d-ee10d60c7f7b"
      },
      "execution_count": 11,
      "outputs": [
        {
          "output_type": "stream",
          "name": "stdout",
          "text": [
            "Reading package lists... Done\n",
            "Building dependency tree... Done\n",
            "Reading state information... Done\n",
            "git is already the newest version (1:2.34.1-1ubuntu1.15).\n",
            "0 upgraded, 0 newly installed, 0 to remove and 38 not upgraded.\n"
          ]
        }
      ]
    }
  ]
}