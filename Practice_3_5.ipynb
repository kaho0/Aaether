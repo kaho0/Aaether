{
  "nbformat": 4,
  "nbformat_minor": 0,
  "metadata": {
    "colab": {
      "provenance": [],
      "authorship_tag": "ABX9TyPdOpv59HGWzM5BcGEz6I1Z",
      "include_colab_link": true
    },
    "kernelspec": {
      "name": "python3",
      "display_name": "Python 3"
    },
    "language_info": {
      "name": "python"
    }
  },
  "cells": [
    {
      "cell_type": "markdown",
      "metadata": {
        "id": "view-in-github",
        "colab_type": "text"
      },
      "source": [
        "<a href=\"https://colab.research.google.com/github/kaho0/Abstract/blob/main/Practice_3_5.ipynb\" target=\"_parent\"><img src=\"https://colab.research.google.com/assets/colab-badge.svg\" alt=\"Open In Colab\"/></a>"
      ]
    },
    {
      "cell_type": "code",
      "execution_count": 3,
      "metadata": {
        "colab": {
          "base_uri": "https://localhost:8080/"
        },
        "id": "hwMo6lr3ajgd",
        "outputId": "8411eefd-4a22-4a5a-cbdb-ea9c6fb865c8"
      },
      "outputs": [
        {
          "output_type": "stream",
          "name": "stdout",
          "text": [
            "[34 18 25 37 84 95 84  1 26 99]\n",
            "99\n",
            "1\n",
            "50.3\n"
          ]
        }
      ],
      "source": [
        "import numpy as np\n",
        "\n",
        "arr=np.random.randint(0,100,10)\n",
        "print(arr)\n",
        "print(arr.max())\n",
        "print(arr.min())\n",
        "print(arr.mean())"
      ]
    },
    {
      "cell_type": "code",
      "source": [
        "arr2= np.array([45, 60, 55, 30, 90, 75, 40, 50])\n",
        "print(arr2)\n",
        "print(arr2[arr2>50])\n",
        "print(np.sort(arr2))\n",
        "print(np.argmax(arr2))"
      ],
      "metadata": {
        "colab": {
          "base_uri": "https://localhost:8080/"
        },
        "id": "VA6N35_ObXIo",
        "outputId": "51488556-b6b9-4756-81ad-4fac364e8ca6"
      },
      "execution_count": 11,
      "outputs": [
        {
          "output_type": "stream",
          "name": "stdout",
          "text": [
            "[45 60 55 30 90 75 40 50]\n",
            "[60 55 90 75]\n",
            "[30 40 45 50 55 60 75 90]\n",
            "4\n"
          ]
        }
      ]
    },
    {
      "cell_type": "code",
      "source": [
        "temp=np.random.randint(20,40,(4,4))\n",
        "print(temp)\n",
        "print(np.mean(temp,axis=1)) #if row axis=1,col axis=0\n",
        "print(np.max(temp))\n",
        "temp[temp>35]=35\n",
        "print(temp)\n"
      ],
      "metadata": {
        "colab": {
          "base_uri": "https://localhost:8080/"
        },
        "id": "MbArldRZc9wD",
        "outputId": "6d51349d-a92c-4f5c-85c0-cc91c8246cb4"
      },
      "execution_count": 21,
      "outputs": [
        {
          "output_type": "stream",
          "name": "stdout",
          "text": [
            "[[24 37 31 32]\n",
            " [37 30 20 37]\n",
            " [27 22 28 23]\n",
            " [22 28 26 23]]\n",
            "[31.   31.   25.   24.75]\n",
            "37\n",
            "[[24 35 31 32]\n",
            " [35 30 20 35]\n",
            " [27 22 28 23]\n",
            " [22 28 26 23]]\n"
          ]
        }
      ]
    },
    {
      "cell_type": "code",
      "source": [
        "traffic=np.random.randint(0,50,(3,5))\n",
        "print(traffic)\n",
        "print(np.sum(traffic,axis=0))\n",
        "print(np.sum(traffic,axis=1))"
      ],
      "metadata": {
        "colab": {
          "base_uri": "https://localhost:8080/"
        },
        "id": "xANtXatFfAUd",
        "outputId": "972f2eb7-632d-4e18-e65f-3df73e338598"
      },
      "execution_count": 23,
      "outputs": [
        {
          "output_type": "stream",
          "name": "stdout",
          "text": [
            "[[11 33  5 20  2]\n",
            " [49 48 28 24 49]\n",
            " [17 11 27 39 35]]\n",
            "[77 92 60 83 86]\n",
            "[ 71 198 129]\n"
          ]
        }
      ]
    },
    {
      "cell_type": "code",
      "source": [
        "stock = np.array([12, 15, 9, 20, 18])\n",
        "new_delivery=stock+5\n",
        "print(new_delivery)\n",
        "spoiled=new_delivery*0.10\n",
        "print(spoiled)\n",
        "final_stock=new_delivery-spoiled\n",
        "print(final_stock)"
      ],
      "metadata": {
        "colab": {
          "base_uri": "https://localhost:8080/"
        },
        "id": "gFXEeCSbfBtw",
        "outputId": "244f14e0-410b-4564-e73c-cc8c4934a84d"
      },
      "execution_count": 30,
      "outputs": [
        {
          "output_type": "stream",
          "name": "stdout",
          "text": [
            "[17 20 14 25 23]\n",
            "[1.7 2.  1.4 2.5 2.3]\n",
            "[15.3 18.  12.6 22.5 20.7]\n"
          ]
        }
      ]
    },
    {
      "cell_type": "markdown",
      "source": [
        "# Pandas Practice"
      ],
      "metadata": {
        "id": "S2KnryDzg0Py"
      }
    },
    {
      "cell_type": "code",
      "source": [
        "import pandas as pd\n",
        "\n",
        "data = {\n",
        " \t'Name': ['Rahim', 'Karim', 'Selina', 'Babul', 'Mitu'],\n",
        " \t'Math': [88, 75, 95, 60, 80],\n",
        " \t'English': [78, 85, 90, 70, 88],\n",
        " \t'Science': [92, 70, 85, 65, 90]\n",
        " }\n",
        "df = pd.DataFrame(data)\n",
        "print(df)\n",
        "print( df.columns)\n",
        "print( df.index)"
      ],
      "metadata": {
        "colab": {
          "base_uri": "https://localhost:8080/"
        },
        "id": "yZryiNDLggGn",
        "outputId": "cd6a572d-d1df-476d-d2d4-1f5ec1271cfb"
      },
      "execution_count": 45,
      "outputs": [
        {
          "output_type": "stream",
          "name": "stdout",
          "text": [
            "     Name  Math  English  Science\n",
            "0   Rahim    88       78       92\n",
            "1   Karim    75       85       70\n",
            "2  Selina    95       90       85\n",
            "3   Babul    60       70       65\n",
            "4    Mitu    80       88       90\n",
            "Index(['Name', 'Math', 'English', 'Science'], dtype='object')\n",
            "RangeIndex(start=0, stop=5, step=1)\n"
          ]
        }
      ]
    },
    {
      "cell_type": "code",
      "source": [
        "df.head(3)"
      ],
      "metadata": {
        "colab": {
          "base_uri": "https://localhost:8080/",
          "height": 143
        },
        "id": "PRrek8EkhEWo",
        "outputId": "ce166a66-9bd4-445a-fab2-d2213ba9a320"
      },
      "execution_count": 35,
      "outputs": [
        {
          "output_type": "execute_result",
          "data": {
            "text/plain": [
              "     Name  Math  English  Science\n",
              "0   Rahim    88       78       92\n",
              "1   Karim    75       85       70\n",
              "2  Selina    95       90       85"
            ],
            "text/html": [
              "\n",
              "  <div id=\"df-09cc9870-b5e8-49b8-a31d-351ded628551\" class=\"colab-df-container\">\n",
              "    <div>\n",
              "<style scoped>\n",
              "    .dataframe tbody tr th:only-of-type {\n",
              "        vertical-align: middle;\n",
              "    }\n",
              "\n",
              "    .dataframe tbody tr th {\n",
              "        vertical-align: top;\n",
              "    }\n",
              "\n",
              "    .dataframe thead th {\n",
              "        text-align: right;\n",
              "    }\n",
              "</style>\n",
              "<table border=\"1\" class=\"dataframe\">\n",
              "  <thead>\n",
              "    <tr style=\"text-align: right;\">\n",
              "      <th></th>\n",
              "      <th>Name</th>\n",
              "      <th>Math</th>\n",
              "      <th>English</th>\n",
              "      <th>Science</th>\n",
              "    </tr>\n",
              "  </thead>\n",
              "  <tbody>\n",
              "    <tr>\n",
              "      <th>0</th>\n",
              "      <td>Rahim</td>\n",
              "      <td>88</td>\n",
              "      <td>78</td>\n",
              "      <td>92</td>\n",
              "    </tr>\n",
              "    <tr>\n",
              "      <th>1</th>\n",
              "      <td>Karim</td>\n",
              "      <td>75</td>\n",
              "      <td>85</td>\n",
              "      <td>70</td>\n",
              "    </tr>\n",
              "    <tr>\n",
              "      <th>2</th>\n",
              "      <td>Selina</td>\n",
              "      <td>95</td>\n",
              "      <td>90</td>\n",
              "      <td>85</td>\n",
              "    </tr>\n",
              "  </tbody>\n",
              "</table>\n",
              "</div>\n",
              "    <div class=\"colab-df-buttons\">\n",
              "\n",
              "  <div class=\"colab-df-container\">\n",
              "    <button class=\"colab-df-convert\" onclick=\"convertToInteractive('df-09cc9870-b5e8-49b8-a31d-351ded628551')\"\n",
              "            title=\"Convert this dataframe to an interactive table.\"\n",
              "            style=\"display:none;\">\n",
              "\n",
              "  <svg xmlns=\"http://www.w3.org/2000/svg\" height=\"24px\" viewBox=\"0 -960 960 960\">\n",
              "    <path d=\"M120-120v-720h720v720H120Zm60-500h600v-160H180v160Zm220 220h160v-160H400v160Zm0 220h160v-160H400v160ZM180-400h160v-160H180v160Zm440 0h160v-160H620v160ZM180-180h160v-160H180v160Zm440 0h160v-160H620v160Z\"/>\n",
              "  </svg>\n",
              "    </button>\n",
              "\n",
              "  <style>\n",
              "    .colab-df-container {\n",
              "      display:flex;\n",
              "      gap: 12px;\n",
              "    }\n",
              "\n",
              "    .colab-df-convert {\n",
              "      background-color: #E8F0FE;\n",
              "      border: none;\n",
              "      border-radius: 50%;\n",
              "      cursor: pointer;\n",
              "      display: none;\n",
              "      fill: #1967D2;\n",
              "      height: 32px;\n",
              "      padding: 0 0 0 0;\n",
              "      width: 32px;\n",
              "    }\n",
              "\n",
              "    .colab-df-convert:hover {\n",
              "      background-color: #E2EBFA;\n",
              "      box-shadow: 0px 1px 2px rgba(60, 64, 67, 0.3), 0px 1px 3px 1px rgba(60, 64, 67, 0.15);\n",
              "      fill: #174EA6;\n",
              "    }\n",
              "\n",
              "    .colab-df-buttons div {\n",
              "      margin-bottom: 4px;\n",
              "    }\n",
              "\n",
              "    [theme=dark] .colab-df-convert {\n",
              "      background-color: #3B4455;\n",
              "      fill: #D2E3FC;\n",
              "    }\n",
              "\n",
              "    [theme=dark] .colab-df-convert:hover {\n",
              "      background-color: #434B5C;\n",
              "      box-shadow: 0px 1px 3px 1px rgba(0, 0, 0, 0.15);\n",
              "      filter: drop-shadow(0px 1px 2px rgba(0, 0, 0, 0.3));\n",
              "      fill: #FFFFFF;\n",
              "    }\n",
              "  </style>\n",
              "\n",
              "    <script>\n",
              "      const buttonEl =\n",
              "        document.querySelector('#df-09cc9870-b5e8-49b8-a31d-351ded628551 button.colab-df-convert');\n",
              "      buttonEl.style.display =\n",
              "        google.colab.kernel.accessAllowed ? 'block' : 'none';\n",
              "\n",
              "      async function convertToInteractive(key) {\n",
              "        const element = document.querySelector('#df-09cc9870-b5e8-49b8-a31d-351ded628551');\n",
              "        const dataTable =\n",
              "          await google.colab.kernel.invokeFunction('convertToInteractive',\n",
              "                                                    [key], {});\n",
              "        if (!dataTable) return;\n",
              "\n",
              "        const docLinkHtml = 'Like what you see? Visit the ' +\n",
              "          '<a target=\"_blank\" href=https://colab.research.google.com/notebooks/data_table.ipynb>data table notebook</a>'\n",
              "          + ' to learn more about interactive tables.';\n",
              "        element.innerHTML = '';\n",
              "        dataTable['output_type'] = 'display_data';\n",
              "        await google.colab.output.renderOutput(dataTable, element);\n",
              "        const docLink = document.createElement('div');\n",
              "        docLink.innerHTML = docLinkHtml;\n",
              "        element.appendChild(docLink);\n",
              "      }\n",
              "    </script>\n",
              "  </div>\n",
              "\n",
              "\n",
              "    <div id=\"df-d36ae56d-6756-4a86-961e-23fb59d70ae1\">\n",
              "      <button class=\"colab-df-quickchart\" onclick=\"quickchart('df-d36ae56d-6756-4a86-961e-23fb59d70ae1')\"\n",
              "                title=\"Suggest charts\"\n",
              "                style=\"display:none;\">\n",
              "\n",
              "<svg xmlns=\"http://www.w3.org/2000/svg\" height=\"24px\"viewBox=\"0 0 24 24\"\n",
              "     width=\"24px\">\n",
              "    <g>\n",
              "        <path d=\"M19 3H5c-1.1 0-2 .9-2 2v14c0 1.1.9 2 2 2h14c1.1 0 2-.9 2-2V5c0-1.1-.9-2-2-2zM9 17H7v-7h2v7zm4 0h-2V7h2v10zm4 0h-2v-4h2v4z\"/>\n",
              "    </g>\n",
              "</svg>\n",
              "      </button>\n",
              "\n",
              "<style>\n",
              "  .colab-df-quickchart {\n",
              "      --bg-color: #E8F0FE;\n",
              "      --fill-color: #1967D2;\n",
              "      --hover-bg-color: #E2EBFA;\n",
              "      --hover-fill-color: #174EA6;\n",
              "      --disabled-fill-color: #AAA;\n",
              "      --disabled-bg-color: #DDD;\n",
              "  }\n",
              "\n",
              "  [theme=dark] .colab-df-quickchart {\n",
              "      --bg-color: #3B4455;\n",
              "      --fill-color: #D2E3FC;\n",
              "      --hover-bg-color: #434B5C;\n",
              "      --hover-fill-color: #FFFFFF;\n",
              "      --disabled-bg-color: #3B4455;\n",
              "      --disabled-fill-color: #666;\n",
              "  }\n",
              "\n",
              "  .colab-df-quickchart {\n",
              "    background-color: var(--bg-color);\n",
              "    border: none;\n",
              "    border-radius: 50%;\n",
              "    cursor: pointer;\n",
              "    display: none;\n",
              "    fill: var(--fill-color);\n",
              "    height: 32px;\n",
              "    padding: 0;\n",
              "    width: 32px;\n",
              "  }\n",
              "\n",
              "  .colab-df-quickchart:hover {\n",
              "    background-color: var(--hover-bg-color);\n",
              "    box-shadow: 0 1px 2px rgba(60, 64, 67, 0.3), 0 1px 3px 1px rgba(60, 64, 67, 0.15);\n",
              "    fill: var(--button-hover-fill-color);\n",
              "  }\n",
              "\n",
              "  .colab-df-quickchart-complete:disabled,\n",
              "  .colab-df-quickchart-complete:disabled:hover {\n",
              "    background-color: var(--disabled-bg-color);\n",
              "    fill: var(--disabled-fill-color);\n",
              "    box-shadow: none;\n",
              "  }\n",
              "\n",
              "  .colab-df-spinner {\n",
              "    border: 2px solid var(--fill-color);\n",
              "    border-color: transparent;\n",
              "    border-bottom-color: var(--fill-color);\n",
              "    animation:\n",
              "      spin 1s steps(1) infinite;\n",
              "  }\n",
              "\n",
              "  @keyframes spin {\n",
              "    0% {\n",
              "      border-color: transparent;\n",
              "      border-bottom-color: var(--fill-color);\n",
              "      border-left-color: var(--fill-color);\n",
              "    }\n",
              "    20% {\n",
              "      border-color: transparent;\n",
              "      border-left-color: var(--fill-color);\n",
              "      border-top-color: var(--fill-color);\n",
              "    }\n",
              "    30% {\n",
              "      border-color: transparent;\n",
              "      border-left-color: var(--fill-color);\n",
              "      border-top-color: var(--fill-color);\n",
              "      border-right-color: var(--fill-color);\n",
              "    }\n",
              "    40% {\n",
              "      border-color: transparent;\n",
              "      border-right-color: var(--fill-color);\n",
              "      border-top-color: var(--fill-color);\n",
              "    }\n",
              "    60% {\n",
              "      border-color: transparent;\n",
              "      border-right-color: var(--fill-color);\n",
              "    }\n",
              "    80% {\n",
              "      border-color: transparent;\n",
              "      border-right-color: var(--fill-color);\n",
              "      border-bottom-color: var(--fill-color);\n",
              "    }\n",
              "    90% {\n",
              "      border-color: transparent;\n",
              "      border-bottom-color: var(--fill-color);\n",
              "    }\n",
              "  }\n",
              "</style>\n",
              "\n",
              "      <script>\n",
              "        async function quickchart(key) {\n",
              "          const quickchartButtonEl =\n",
              "            document.querySelector('#' + key + ' button');\n",
              "          quickchartButtonEl.disabled = true;  // To prevent multiple clicks.\n",
              "          quickchartButtonEl.classList.add('colab-df-spinner');\n",
              "          try {\n",
              "            const charts = await google.colab.kernel.invokeFunction(\n",
              "                'suggestCharts', [key], {});\n",
              "          } catch (error) {\n",
              "            console.error('Error during call to suggestCharts:', error);\n",
              "          }\n",
              "          quickchartButtonEl.classList.remove('colab-df-spinner');\n",
              "          quickchartButtonEl.classList.add('colab-df-quickchart-complete');\n",
              "        }\n",
              "        (() => {\n",
              "          let quickchartButtonEl =\n",
              "            document.querySelector('#df-d36ae56d-6756-4a86-961e-23fb59d70ae1 button');\n",
              "          quickchartButtonEl.style.display =\n",
              "            google.colab.kernel.accessAllowed ? 'block' : 'none';\n",
              "        })();\n",
              "      </script>\n",
              "    </div>\n",
              "\n",
              "    </div>\n",
              "  </div>\n"
            ],
            "application/vnd.google.colaboratory.intrinsic+json": {
              "type": "dataframe",
              "variable_name": "df",
              "summary": "{\n  \"name\": \"df\",\n  \"rows\": 5,\n  \"fields\": [\n    {\n      \"column\": \"Name\",\n      \"properties\": {\n        \"dtype\": \"string\",\n        \"num_unique_values\": 5,\n        \"samples\": [\n          \"Karim\",\n          \"Mitu\",\n          \"Selina\"\n        ],\n        \"semantic_type\": \"\",\n        \"description\": \"\"\n      }\n    },\n    {\n      \"column\": \"Math\",\n      \"properties\": {\n        \"dtype\": \"number\",\n        \"std\": 13,\n        \"min\": 60,\n        \"max\": 95,\n        \"num_unique_values\": 5,\n        \"samples\": [\n          75,\n          80,\n          95\n        ],\n        \"semantic_type\": \"\",\n        \"description\": \"\"\n      }\n    },\n    {\n      \"column\": \"English\",\n      \"properties\": {\n        \"dtype\": \"number\",\n        \"std\": 8,\n        \"min\": 70,\n        \"max\": 90,\n        \"num_unique_values\": 5,\n        \"samples\": [\n          85,\n          88,\n          90\n        ],\n        \"semantic_type\": \"\",\n        \"description\": \"\"\n      }\n    },\n    {\n      \"column\": \"Science\",\n      \"properties\": {\n        \"dtype\": \"number\",\n        \"std\": 12,\n        \"min\": 65,\n        \"max\": 92,\n        \"num_unique_values\": 5,\n        \"samples\": [\n          70,\n          90,\n          85\n        ],\n        \"semantic_type\": \"\",\n        \"description\": \"\"\n      }\n    }\n  ]\n}"
            }
          },
          "metadata": {},
          "execution_count": 35
        }
      ]
    },
    {
      "cell_type": "code",
      "source": [
        "data = {\n",
        " \t'Product': ['Phone', 'Laptop', 'Tablet', 'Monitor', 'Mouse'],\n",
        " \t'Price': [700, 1200, 300, 250, 50],\n",
        " \t'Units_Sold': [10, 5, 8, 6, 20]\n",
        " }\n",
        "df = pd.DataFrame(data)\n",
        "\n",
        "print(df[['Product', 'Price']])\n"
      ],
      "metadata": {
        "colab": {
          "base_uri": "https://localhost:8080/"
        },
        "id": "yp89mf0bhTM1",
        "outputId": "343514bb-83fa-4e09-9266-b28ee824c660"
      },
      "execution_count": 52,
      "outputs": [
        {
          "output_type": "stream",
          "name": "stdout",
          "text": [
            "   Product  Price\n",
            "0    Phone    700\n",
            "1   Laptop   1200\n",
            "2   Tablet    300\n",
            "3  Monitor    250\n",
            "4    Mouse     50\n"
          ]
        }
      ]
    },
    {
      "cell_type": "code",
      "source": [
        "print(df.iloc[2])   # using position\n",
        "print(df.loc[2])    # using label\n"
      ],
      "metadata": {
        "colab": {
          "base_uri": "https://localhost:8080/"
        },
        "id": "HQ-_1onLqqKk",
        "outputId": "06379ff1-b252-46de-f935-9fc390cb57ac"
      },
      "execution_count": 53,
      "outputs": [
        {
          "output_type": "stream",
          "name": "stdout",
          "text": [
            "Product       Tablet\n",
            "Price            300\n",
            "Units_Sold         8\n",
            "Name: 2, dtype: object\n",
            "Product       Tablet\n",
            "Price            300\n",
            "Units_Sold         8\n",
            "Name: 2, dtype: object\n"
          ]
        }
      ]
    },
    {
      "cell_type": "code",
      "source": [
        "df['Revenue']=df['Price']*df['Units_Sold']\n",
        "top3=df.sort_values(by='Revenue',ascending=False).head(3)\n",
        "print(top3[['Product','Revenue']])"
      ],
      "metadata": {
        "colab": {
          "base_uri": "https://localhost:8080/"
        },
        "id": "YcFvhreFrGiM",
        "outputId": "2c44e370-1d96-49bb-c0cc-f59694b106f2"
      },
      "execution_count": 55,
      "outputs": [
        {
          "output_type": "stream",
          "name": "stdout",
          "text": [
            "  Product  Revenue\n",
            "0   Phone     7000\n",
            "1  Laptop     6000\n",
            "2  Tablet     2400\n"
          ]
        }
      ]
    },
    {
      "cell_type": "markdown",
      "source": [
        "3.Attendance Tracker\n",
        "Here’s an attendance sheet:\n",
        "\n",
        " data = {\n",
        " \t'Student': ['Amin', 'Tina', 'Rafi', 'Nadia', 'Sabbir'],\n",
        " \t'Days_Present': [20, 18, 22, 15, 25],\n",
        " \t'Days_Absent': [2, 4, 1, 7, 0]\n",
        " }\n",
        " df = pd.DataFrame(data)\n",
        "\n",
        " Tasks:\n",
        " 1. Make 'Student' the index column.\n",
        " 2. Drop the 'Days_Absent' column"
      ],
      "metadata": {
        "id": "aYR2JjOGuhvQ"
      }
    },
    {
      "cell_type": "code",
      "source": [
        "import pandas as pd\n",
        "\n",
        "data = {\n",
        "    'Student': ['Amin', 'Tina', 'Rafi', 'Nadia', 'Sabbir'],\n",
        "    'Days_Present': [20, 18, 22, 15, 25],\n",
        "    'Days_Absent': [2, 4, 1, 7, 0]\n",
        "}\n",
        "\n",
        "df = pd.DataFrame(data)"
      ],
      "metadata": {
        "id": "LHLTAbcFug3E"
      },
      "execution_count": 56,
      "outputs": []
    },
    {
      "cell_type": "code",
      "source": [
        "df=df.set_index('Student')\n",
        "print(df)"
      ],
      "metadata": {
        "colab": {
          "base_uri": "https://localhost:8080/"
        },
        "id": "xklAdiV0uxIZ",
        "outputId": "91025428-7843-43d4-e70d-2f71b095a130"
      },
      "execution_count": 57,
      "outputs": [
        {
          "output_type": "stream",
          "name": "stdout",
          "text": [
            "         Days_Present  Days_Absent\n",
            "Student                           \n",
            "Amin               20            2\n",
            "Tina               18            4\n",
            "Rafi               22            1\n",
            "Nadia              15            7\n",
            "Sabbir             25            0\n"
          ]
        }
      ]
    },
    {
      "cell_type": "code",
      "source": [
        "df.drop('Days_Absent',axis=1)\n",
        "print(df)"
      ],
      "metadata": {
        "colab": {
          "base_uri": "https://localhost:8080/"
        },
        "id": "rc2zzWU9u4Hz",
        "outputId": "8ec681b2-29c0-4ccf-ca33-10df88874420"
      },
      "execution_count": 58,
      "outputs": [
        {
          "output_type": "stream",
          "name": "stdout",
          "text": [
            "         Days_Present  Days_Absent\n",
            "Student                           \n",
            "Amin               20            2\n",
            "Tina               18            4\n",
            "Rafi               22            1\n",
            "Nadia              15            7\n",
            "Sabbir             25            0\n"
          ]
        }
      ]
    },
    {
      "cell_type": "markdown",
      "source": [
        "4. Filtering Employee Data\n",
        "Employee record:\n",
        "\n",
        " data = {\n",
        " \t'Name': ['Rafiq', 'Nadia', 'Tuhin', 'Rima', 'Faruk'],\n",
        " \t'Department': ['HR', 'IT', 'IT', 'Sales', 'Sales'],\n",
        " \t'Salary': [40000, 55000, 52000, 45000, 47000],\n",
        " \t'Experience': [2, 5, 4, 3, 6]\n",
        " }\n",
        " df = pd.DataFrame(data)\n",
        "\n",
        " Tasks:\n",
        " 1. Show employees with Salary > 45000.\n",
        " 2. Show employees from the IT department only.\n",
        " 3. Show employees with Salary > 45000 and Experience > 3.\n",
        " 4. Sort the employees by Experience (ascending).\n"
      ],
      "metadata": {
        "id": "EPcMDLLUvSI6"
      }
    },
    {
      "cell_type": "code",
      "source": [
        "data = {\n",
        " \t'Name': ['Rafiq', 'Nadia', 'Tuhin', 'Rima', 'Faruk'],\n",
        " \t'Department': ['HR', 'IT', 'IT', 'Sales', 'Sales'],\n",
        " \t'Salary': [40000, 55000, 52000, 45000, 47000],\n",
        " \t'Experience': [2, 5, 4, 3, 6]\n",
        " }\n",
        "df = pd.DataFrame(data)\n"
      ],
      "metadata": {
        "id": "lK68ldolvBj4"
      },
      "execution_count": 60,
      "outputs": []
    },
    {
      "cell_type": "code",
      "source": [
        "highest_sal=df[df['Salary']>45000]\n",
        "print(highest_sal)"
      ],
      "metadata": {
        "colab": {
          "base_uri": "https://localhost:8080/"
        },
        "id": "UpkDLb9zva_0",
        "outputId": "22ce719b-a246-4bab-a5f3-9ca8fc835eb7"
      },
      "execution_count": 61,
      "outputs": [
        {
          "output_type": "stream",
          "name": "stdout",
          "text": [
            "    Name Department  Salary  Experience\n",
            "1  Nadia         IT   55000           5\n",
            "2  Tuhin         IT   52000           4\n",
            "4  Faruk      Sales   47000           6\n"
          ]
        }
      ]
    },
    {
      "cell_type": "code",
      "source": [
        "it_dept=df[df['Department']=='IT']\n",
        "print(it_dept)"
      ],
      "metadata": {
        "colab": {
          "base_uri": "https://localhost:8080/"
        },
        "id": "9Ly11IE2vvZg",
        "outputId": "cf3d199c-b373-4e19-c66a-65d0cacab027"
      },
      "execution_count": 63,
      "outputs": [
        {
          "output_type": "stream",
          "name": "stdout",
          "text": [
            "    Name Department  Salary  Experience\n",
            "1  Nadia         IT   55000           5\n",
            "2  Tuhin         IT   52000           4\n"
          ]
        }
      ]
    },
    {
      "cell_type": "code",
      "source": [
        "salary_and_exp=df[(df['Salary']>45000)& (df['Experience']>3)]\n",
        "print(salary_and_exp)"
      ],
      "metadata": {
        "colab": {
          "base_uri": "https://localhost:8080/"
        },
        "id": "urZLLP1qv_gB",
        "outputId": "5b07bf3e-5e43-40bf-f29d-fede72949a96"
      },
      "execution_count": 64,
      "outputs": [
        {
          "output_type": "stream",
          "name": "stdout",
          "text": [
            "    Name Department  Salary  Experience\n",
            "1  Nadia         IT   55000           5\n",
            "2  Tuhin         IT   52000           4\n",
            "4  Faruk      Sales   47000           6\n"
          ]
        }
      ]
    }
  ]
}