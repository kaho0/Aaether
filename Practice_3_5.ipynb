{
  "nbformat": 4,
  "nbformat_minor": 0,
  "metadata": {
    "colab": {
      "provenance": [],
      "authorship_tag": "ABX9TyMomC9hBe7+y2C55j7dc8+T",
      "include_colab_link": true
    },
    "kernelspec": {
      "name": "python3",
      "display_name": "Python 3"
    },
    "language_info": {
      "name": "python"
    }
  },
  "cells": [
    {
      "cell_type": "markdown",
      "metadata": {
        "id": "view-in-github",
        "colab_type": "text"
      },
      "source": [
        "<a href=\"https://colab.research.google.com/github/kaho0/Abstract/blob/main/Practice_3_5.ipynb\" target=\"_parent\"><img src=\"https://colab.research.google.com/assets/colab-badge.svg\" alt=\"Open In Colab\"/></a>"
      ]
    },
    {
      "cell_type": "code",
      "execution_count": 3,
      "metadata": {
        "colab": {
          "base_uri": "https://localhost:8080/"
        },
        "id": "hwMo6lr3ajgd",
        "outputId": "8411eefd-4a22-4a5a-cbdb-ea9c6fb865c8"
      },
      "outputs": [
        {
          "output_type": "stream",
          "name": "stdout",
          "text": [
            "[34 18 25 37 84 95 84  1 26 99]\n",
            "99\n",
            "1\n",
            "50.3\n"
          ]
        }
      ],
      "source": [
        "import numpy as np\n",
        "\n",
        "arr=np.random.randint(0,100,10)\n",
        "print(arr)\n",
        "print(arr.max())\n",
        "print(arr.min())\n",
        "print(arr.mean())"
      ]
    },
    {
      "cell_type": "code",
      "source": [
        "arr2= np.array([45, 60, 55, 30, 90, 75, 40, 50])\n",
        "print(arr2)\n",
        "print(arr2[arr2>50])\n",
        "print(np.sort(arr2))\n",
        "print(np.argmax(arr2))"
      ],
      "metadata": {
        "colab": {
          "base_uri": "https://localhost:8080/"
        },
        "id": "VA6N35_ObXIo",
        "outputId": "51488556-b6b9-4756-81ad-4fac364e8ca6"
      },
      "execution_count": 11,
      "outputs": [
        {
          "output_type": "stream",
          "name": "stdout",
          "text": [
            "[45 60 55 30 90 75 40 50]\n",
            "[60 55 90 75]\n",
            "[30 40 45 50 55 60 75 90]\n",
            "4\n"
          ]
        }
      ]
    },
    {
      "cell_type": "code",
      "source": [
        "temp=np.random.randint(20,40,(4,4))\n",
        "print(temp)\n",
        "print(np.mean(temp,axis=1)) #if row axis=1,col axis=0\n",
        "print(np.max(temp))\n",
        "temp[temp>35]=35\n",
        "print(temp)\n"
      ],
      "metadata": {
        "colab": {
          "base_uri": "https://localhost:8080/"
        },
        "id": "MbArldRZc9wD",
        "outputId": "6d51349d-a92c-4f5c-85c0-cc91c8246cb4"
      },
      "execution_count": 21,
      "outputs": [
        {
          "output_type": "stream",
          "name": "stdout",
          "text": [
            "[[24 37 31 32]\n",
            " [37 30 20 37]\n",
            " [27 22 28 23]\n",
            " [22 28 26 23]]\n",
            "[31.   31.   25.   24.75]\n",
            "37\n",
            "[[24 35 31 32]\n",
            " [35 30 20 35]\n",
            " [27 22 28 23]\n",
            " [22 28 26 23]]\n"
          ]
        }
      ]
    },
    {
      "cell_type": "code",
      "source": [
        "traffic=np.random.randint(0,50,(3,5))\n",
        "print(traffic)\n",
        "print(np.sum(traffic,axis=0))\n",
        "print(np.sum(traffic,axis=1))"
      ],
      "metadata": {
        "colab": {
          "base_uri": "https://localhost:8080/"
        },
        "id": "xANtXatFfAUd",
        "outputId": "972f2eb7-632d-4e18-e65f-3df73e338598"
      },
      "execution_count": 23,
      "outputs": [
        {
          "output_type": "stream",
          "name": "stdout",
          "text": [
            "[[11 33  5 20  2]\n",
            " [49 48 28 24 49]\n",
            " [17 11 27 39 35]]\n",
            "[77 92 60 83 86]\n",
            "[ 71 198 129]\n"
          ]
        }
      ]
    },
    {
      "cell_type": "code",
      "source": [
        "stock = np.array([12, 15, 9, 20, 18])\n",
        "new_delivery=stock+5\n",
        "print(new_delivery)\n",
        "spoiled=new_delivery*0.10\n",
        "print(spoiled)\n",
        "final_stock=new_delivery-spoiled\n",
        "print(final_stock)"
      ],
      "metadata": {
        "colab": {
          "base_uri": "https://localhost:8080/"
        },
        "id": "gFXEeCSbfBtw",
        "outputId": "244f14e0-410b-4564-e73c-cc8c4934a84d"
      },
      "execution_count": 30,
      "outputs": [
        {
          "output_type": "stream",
          "name": "stdout",
          "text": [
            "[17 20 14 25 23]\n",
            "[1.7 2.  1.4 2.5 2.3]\n",
            "[15.3 18.  12.6 22.5 20.7]\n"
          ]
        }
      ]
    },
    {
      "cell_type": "code",
      "source": [],
      "metadata": {
        "id": "yZryiNDLggGn"
      },
      "execution_count": null,
      "outputs": []
    }
  ]
}