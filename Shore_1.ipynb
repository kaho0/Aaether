{
  "cells": [
    {
      "cell_type": "markdown",
      "metadata": {
        "id": "6lXxpOTdrflM"
      },
      "source": [
        "**Variables and Data Type**\n"
      ]
    },
    {
      "cell_type": "code",
      "execution_count": 1,
      "metadata": {
        "colab": {
          "base_uri": "https://localhost:8080/"
        },
        "id": "CWfMUTZNreYt",
        "outputId": "7cdfe6e0-60e7-4efa-81f4-512b6148ec95"
      },
      "outputs": [
        {
          "name": "stdout",
          "output_type": "stream",
          "text": [
            "456249\n"
          ]
        }
      ],
      "source": [
        "\n",
        "phone_number = 456249\n",
        "\n",
        "print(phone_number)"
      ]
    },
    {
      "cell_type": "code",
      "execution_count": 2,
      "metadata": {
        "colab": {
          "base_uri": "https://localhost:8080/"
        },
        "id": "tb54tRY4rp9B",
        "outputId": "7015ba1b-ce41-4dd3-ba84-ff756d66a796"
      },
      "outputs": [
        {
          "name": "stdout",
          "output_type": "stream",
          "text": [
            "Phitron\n"
          ]
        }
      ],
      "source": [
        "\n",
        "name = \"Phitron\"\n",
        "\n",
        "print(name)"
      ]
    },
    {
      "cell_type": "code",
      "execution_count": 3,
      "metadata": {
        "colab": {
          "base_uri": "https://localhost:8080/"
        },
        "id": "PGZB2c1xrsr6",
        "outputId": "1dcdc06d-d008-495e-eed1-e8d62b8b3bd1"
      },
      "outputs": [
        {
          "name": "stdout",
          "output_type": "stream",
          "text": [
            "<class 'int'> <class 'float'> <class 'str'> <class 'bool'>\n",
            "<class 'float'>\n"
          ]
        }
      ],
      "source": [
        "\n",
        "age = 20\n",
        "height = 5.6\n",
        "name = \"Akash\"\n",
        "is_passed = True\n",
        "\n",
        "print(type(age), type(height), type(name),type(is_passed))\n",
        "\n",
        "age = 20.5\n",
        "\n",
        "print(type(age))"
      ]
    },
    {
      "cell_type": "markdown",
      "metadata": {
        "id": "iaqLjOeErvOf"
      },
      "source": [
        "**Taking Input in Python**\n"
      ]
    },
    {
      "cell_type": "code",
      "execution_count": 4,
      "metadata": {
        "colab": {
          "base_uri": "https://localhost:8080/"
        },
        "id": "JS_iux5Aruvi",
        "outputId": "424ef1dd-7545-4ce0-e68c-a8ea686a6563"
      },
      "outputs": [
        {
          "name": "stdout",
          "output_type": "stream",
          "text": [
            "What is your name? kahon\n",
            "kahon\n"
          ]
        }
      ],
      "source": [
        "\n",
        "name = input(\"What is your name? \")\n",
        "\n",
        "print(name)"
      ]
    },
    {
      "cell_type": "code",
      "execution_count": 5,
      "metadata": {
        "colab": {
          "base_uri": "https://localhost:8080/"
        },
        "id": "cU6wIZHpr8M7",
        "outputId": "c3f46b61-d573-440e-84fa-ba0d16282d7b"
      },
      "outputs": [
        {
          "name": "stdout",
          "output_type": "stream",
          "text": [
            "Age ?11\n",
            "11 <class 'str'>\n"
          ]
        }
      ],
      "source": [
        "age = input(\"Age ?\")\n",
        "\n",
        "print(age , type(age))"
      ]
    },
    {
      "cell_type": "code",
      "execution_count": 6,
      "metadata": {
        "colab": {
          "base_uri": "https://localhost:8080/"
        },
        "id": "HzaeMhd4r_Uh",
        "outputId": "e3390970-0f10-468f-b3b2-8b7c20d341f7"
      },
      "outputs": [
        {
          "name": "stdout",
          "output_type": "stream",
          "text": [
            "Age ?22\n",
            "22 <class 'int'>\n"
          ]
        }
      ],
      "source": [
        "age = input(\"Age ?\") # string hishebe input nise\n",
        "\n",
        "age = int(age) # string k amra int a convert korlam\n",
        "\n",
        "print(age , type(age))"
      ]
    },
    {
      "cell_type": "code",
      "execution_count": 7,
      "metadata": {
        "colab": {
          "base_uri": "https://localhost:8080/"
        },
        "id": "fCZeuCHhsDH3",
        "outputId": "134a2752-5317-470c-9d9e-3b098ad566d8"
      },
      "outputs": [
        {
          "name": "stdout",
          "output_type": "stream",
          "text": [
            "Height ?5\n",
            "5 <class 'str'>\n"
          ]
        }
      ],
      "source": [
        "height = input(\"Height ?\")\n",
        "\n",
        "print(height , type(height))\n"
      ]
    },
    {
      "cell_type": "code",
      "execution_count": null,
      "metadata": {
        "colab": {
          "base_uri": "https://localhost:8080/"
        },
        "id": "qe318gocsF6J",
        "outputId": "eb10aefb-6caf-44d2-cd62-c1f5d35f6f5e"
      },
      "outputs": [
        {
          "name": "stdout",
          "output_type": "stream",
          "text": [
            "Height ?5\n",
            "5.0 <class 'float'>\n",
            "5.2\n"
          ]
        }
      ],
      "source": [
        "height = float(input(\"Height ?\")) # string\n",
        "\n",
        "print(height , type(height))\n",
        "\n",
        "height = height +0.2\n",
        "\n",
        "print(height)"
      ]
    },
    {
      "cell_type": "markdown",
      "metadata": {
        "id": "CV95irDKsJD-"
      },
      "source": [
        "**Operators in Python**\n"
      ]
    },
    {
      "cell_type": "code",
      "execution_count": 9,
      "metadata": {
        "colab": {
          "base_uri": "https://localhost:8080/"
        },
        "id": "yYtYSWL6sK_4",
        "outputId": "a4d715a5-86aa-4e20-a0d9-bbc17aff01da"
      },
      "outputs": [
        {
          "name": "stdout",
          "output_type": "stream",
          "text": [
            "13 7 30 3.33 1\n"
          ]
        }
      ],
      "source": [
        "x = 10 ; y = 3\n",
        "\n",
        "sum = x + y # summation\n",
        "sub = x - y # subtraction\n",
        "mult = x * y # multiplication\n",
        "div = round(x / y , 2) # division\n",
        "\n",
        "rem = x % y # remainder\n",
        "\n",
        "print(sum , sub , mult, div , rem)"
      ]
    },
    {
      "cell_type": "code",
      "execution_count": null,
      "metadata": {
        "colab": {
          "base_uri": "https://localhost:8080/"
        },
        "id": "ggQ2WFCbsRCh",
        "outputId": "a180a159-7075-4a74-8a1e-93d5ebce268b"
      },
      "outputs": [
        {
          "name": "stdout",
          "output_type": "stream",
          "text": [
            "True True\n",
            "False True\n",
            "False\n",
            "True\n"
          ]
        }
      ],
      "source": [
        "x = 10 ; y = 3\n",
        "\n",
        "greater_than = x > y\n",
        "\n",
        "greater_than_equal = (10 >= 10)\n",
        "\n",
        "print(greater_than , greater_than_equal)\n",
        "\n",
        "\n",
        "less_than = x < y\n",
        "\n",
        "less_than_equal = (10 <= 10)\n",
        "\n",
        "print(less_than , less_than_equal)\n",
        "\n",
        "\n",
        "equal =  x==y\n",
        "\n",
        "print(equal)\n",
        "\n",
        "\n",
        "not_equal = x != y\n",
        "\n",
        "print(not_equal)"
      ]
    },
    {
      "cell_type": "markdown",
      "metadata": {
        "id": "JGWOSEfysTUd"
      },
      "source": [
        "**_Logical Operator_**\n"
      ]
    },
    {
      "cell_type": "code",
      "execution_count": 11,
      "metadata": {
        "colab": {
          "base_uri": "https://localhost:8080/"
        },
        "id": "kjAkwnspsSVx",
        "outputId": "ebb9202f-0ddb-491c-c2d7-de807cfb6cdb"
      },
      "outputs": [
        {
          "name": "stdout",
          "output_type": "stream",
          "text": [
            "True\n"
          ]
        }
      ],
      "source": [
        "x = 10 ; y = 5 ; z = 3\n",
        "\n",
        "result = (x > y) and (x > z)\n",
        "\n",
        "\n",
        "print(result)"
      ]
    },
    {
      "cell_type": "code",
      "execution_count": 12,
      "metadata": {
        "colab": {
          "base_uri": "https://localhost:8080/"
        },
        "id": "eLdUq_tAsYAE",
        "outputId": "463633ab-1d10-4295-a5bd-1ff3fcddb62a"
      },
      "outputs": [
        {
          "name": "stdout",
          "output_type": "stream",
          "text": [
            "True\n"
          ]
        }
      ],
      "source": [
        "x = 10 ; y = 5 ; z = 15\n",
        "\n",
        "result = (x > y) or (x > z)\n",
        "\n",
        "\n",
        "print(result)"
      ]
    },
    {
      "cell_type": "code",
      "execution_count": 13,
      "metadata": {
        "colab": {
          "base_uri": "https://localhost:8080/"
        },
        "id": "S5HYNX2TsfTy",
        "outputId": "eff1a23e-9be3-4df4-ea3e-f03365635493"
      },
      "outputs": [
        {
          "name": "stdout",
          "output_type": "stream",
          "text": [
            "False\n"
          ]
        }
      ],
      "source": [
        "x = 10 ; y = 20 ; z = 15\n",
        "\n",
        "result = (x > y) or (x > z)\n",
        "\n",
        "\n",
        "print(result)"
      ]
    },
    {
      "cell_type": "markdown",
      "metadata": {
        "id": "uQ0hEF8asiSm"
      },
      "source": [
        "**Precedence and Associativity**\n"
      ]
    },
    {
      "cell_type": "code",
      "execution_count": 14,
      "metadata": {
        "colab": {
          "base_uri": "https://localhost:8080/"
        },
        "id": "jo0IT0V4shGw",
        "outputId": "0deabfb4-0f95-4e41-c3f1-1ad3995a3cd8"
      },
      "outputs": [
        {
          "name": "stdout",
          "output_type": "stream",
          "text": [
            "5.0\n",
            "0.0\n"
          ]
        }
      ],
      "source": [
        "eq = 10 + 10/2 - 5*2 # precedency maintain korbe\n",
        "print(eq)\n",
        "\n",
        "eq = (10+10)/2 - 5*2 ## ekhane bracket e part tuku ageh compute hobe\n",
        "\n",
        "print(eq)"
      ]
    },
    {
      "cell_type": "markdown",
      "metadata": {
        "id": "ZkSjw357spV1"
      },
      "source": [
        "**Problem : Digit Summation**\n"
      ]
    },
    {
      "cell_type": "code",
      "execution_count": 17,
      "metadata": {
        "colab": {
          "base_uri": "https://localhost:8080/"
        },
        "id": "TkhA04bNsrK4",
        "outputId": "032be12e-9655-4ee4-b8ac-c094a91a01c0"
      },
      "outputs": [
        {
          "name": "stdout",
          "output_type": "stream",
          "text": [
            "23 44\n",
            "7\n"
          ]
        }
      ],
      "source": [
        "inp=input()\n",
        "numbers=inp.split()\n",
        "x=int(numbers[0])\n",
        "y=int(numbers[1])\n",
        "\n",
        "last_digit_of_x=x%10\n",
        "last_digit_of_y=y%10\n",
        "sum=last_digit_of_x+last_digit_of_y\n",
        "print(sum)"
      ]
    },
    {
      "cell_type": "code",
      "execution_count": 2,
      "metadata": {},
      "outputs": [
        {
          "name": "stdout",
          "output_type": "stream",
          "text": [
            "Sum of digits: 6\n"
          ]
        }
      ],
      "source": [
        "# Take one number as input safely\n",
        "inp = input(\"Enter a number: \")\n",
        "\n",
        "if inp.strip() == \"\":\n",
        "    print(\"You didn’t enter any number!\")\n",
        "else:\n",
        "    n = int(inp)\n",
        "    total = 0\n",
        "    while n > 0:\n",
        "        total += n % 10\n",
        "        n //= 10\n",
        "    print(\"Sum of digits:\", total)\n"
      ]
    }
  ],
  "metadata": {
    "colab": {
      "provenance": []
    },
    "kernelspec": {
      "display_name": "Python 3",
      "name": "python3"
    },
    "language_info": {
      "codemirror_mode": {
        "name": "ipython",
        "version": 3
      },
      "file_extension": ".py",
      "mimetype": "text/x-python",
      "name": "python",
      "nbconvert_exporter": "python",
      "pygments_lexer": "ipython3",
      "version": "3.13.1"
    }
  },
  "nbformat": 4,
  "nbformat_minor": 0
}
