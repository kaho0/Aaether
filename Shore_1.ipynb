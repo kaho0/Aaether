{
  "nbformat": 4,
  "nbformat_minor": 0,
  "metadata": {
    "colab": {
      "provenance": []
    },
    "kernelspec": {
      "name": "python3",
      "display_name": "Python 3"
    },
    "language_info": {
      "name": "python"
    }
  },
  "cells": [
    {
      "cell_type": "markdown",
      "source": [
        "**Variables and Data Type**"
      ],
      "metadata": {
        "id": "6lXxpOTdrflM"
      }
    },
    {
      "cell_type": "code",
      "source": [
        "\n",
        "phone_number = 456249\n",
        "\n",
        "print(phone_number)"
      ],
      "metadata": {
        "colab": {
          "base_uri": "https://localhost:8080/"
        },
        "id": "CWfMUTZNreYt",
        "outputId": "7cdfe6e0-60e7-4efa-81f4-512b6148ec95"
      },
      "execution_count": 1,
      "outputs": [
        {
          "output_type": "stream",
          "name": "stdout",
          "text": [
            "456249\n"
          ]
        }
      ]
    },
    {
      "cell_type": "code",
      "source": [
        "\n",
        "name = \"Phitron\"\n",
        "\n",
        "print(name)"
      ],
      "metadata": {
        "colab": {
          "base_uri": "https://localhost:8080/"
        },
        "id": "tb54tRY4rp9B",
        "outputId": "7015ba1b-ce41-4dd3-ba84-ff756d66a796"
      },
      "execution_count": 2,
      "outputs": [
        {
          "output_type": "stream",
          "name": "stdout",
          "text": [
            "Phitron\n"
          ]
        }
      ]
    },
    {
      "cell_type": "code",
      "source": [
        "\n",
        "age = 20\n",
        "height = 5.6\n",
        "name = \"Akash\"\n",
        "is_passed = True\n",
        "\n",
        "print(type(age), type(height), type(name),type(is_passed))\n",
        "\n",
        "age = 20.5\n",
        "\n",
        "print(type(age))"
      ],
      "metadata": {
        "colab": {
          "base_uri": "https://localhost:8080/"
        },
        "id": "PGZB2c1xrsr6",
        "outputId": "1dcdc06d-d008-495e-eed1-e8d62b8b3bd1"
      },
      "execution_count": 3,
      "outputs": [
        {
          "output_type": "stream",
          "name": "stdout",
          "text": [
            "<class 'int'> <class 'float'> <class 'str'> <class 'bool'>\n",
            "<class 'float'>\n"
          ]
        }
      ]
    },
    {
      "cell_type": "markdown",
      "source": [
        "**Taking Input in Python**\n"
      ],
      "metadata": {
        "id": "iaqLjOeErvOf"
      }
    },
    {
      "cell_type": "code",
      "source": [
        "\n",
        "name = input(\"What is your name? \")\n",
        "\n",
        "print(name)"
      ],
      "metadata": {
        "colab": {
          "base_uri": "https://localhost:8080/"
        },
        "id": "JS_iux5Aruvi",
        "outputId": "424ef1dd-7545-4ce0-e68c-a8ea686a6563"
      },
      "execution_count": 4,
      "outputs": [
        {
          "output_type": "stream",
          "name": "stdout",
          "text": [
            "What is your name? kahon\n",
            "kahon\n"
          ]
        }
      ]
    },
    {
      "cell_type": "code",
      "source": [
        "age = input(\"Age ?\")\n",
        "\n",
        "print(age , type(age))"
      ],
      "metadata": {
        "colab": {
          "base_uri": "https://localhost:8080/"
        },
        "id": "cU6wIZHpr8M7",
        "outputId": "c3f46b61-d573-440e-84fa-ba0d16282d7b"
      },
      "execution_count": 5,
      "outputs": [
        {
          "output_type": "stream",
          "name": "stdout",
          "text": [
            "Age ?11\n",
            "11 <class 'str'>\n"
          ]
        }
      ]
    },
    {
      "cell_type": "code",
      "source": [
        "age = input(\"Age ?\") # string hishebe input nise\n",
        "\n",
        "age = int(age) # string k amra int a convert korlam\n",
        "\n",
        "print(age , type(age))"
      ],
      "metadata": {
        "colab": {
          "base_uri": "https://localhost:8080/"
        },
        "id": "HzaeMhd4r_Uh",
        "outputId": "e3390970-0f10-468f-b3b2-8b7c20d341f7"
      },
      "execution_count": 6,
      "outputs": [
        {
          "output_type": "stream",
          "name": "stdout",
          "text": [
            "Age ?22\n",
            "22 <class 'int'>\n"
          ]
        }
      ]
    },
    {
      "cell_type": "code",
      "source": [
        "height = input(\"Height ?\")\n",
        "\n",
        "print(height , type(height))\n"
      ],
      "metadata": {
        "colab": {
          "base_uri": "https://localhost:8080/"
        },
        "id": "fCZeuCHhsDH3",
        "outputId": "134a2752-5317-470c-9d9e-3b098ad566d8"
      },
      "execution_count": 7,
      "outputs": [
        {
          "output_type": "stream",
          "name": "stdout",
          "text": [
            "Height ?5\n",
            "5 <class 'str'>\n"
          ]
        }
      ]
    },
    {
      "cell_type": "code",
      "source": [
        "height = float(input(\"Height ?\")) # string\n",
        "\n",
        "\n",
        "\n",
        "print(height , type(height))\n",
        "\n",
        "\n",
        "height = height +0.2\n",
        "\n",
        "print(height)"
      ],
      "metadata": {
        "colab": {
          "base_uri": "https://localhost:8080/"
        },
        "id": "qe318gocsF6J",
        "outputId": "eb10aefb-6caf-44d2-cd62-c1f5d35f6f5e"
      },
      "execution_count": 8,
      "outputs": [
        {
          "output_type": "stream",
          "name": "stdout",
          "text": [
            "Height ?5\n",
            "5.0 <class 'float'>\n",
            "5.2\n"
          ]
        }
      ]
    },
    {
      "cell_type": "markdown",
      "source": [
        "**Operators in Python**"
      ],
      "metadata": {
        "id": "CV95irDKsJD-"
      }
    },
    {
      "cell_type": "code",
      "source": [
        "x = 10 ; y = 3\n",
        "\n",
        "sum = x + y # summation\n",
        "sub = x - y # subtraction\n",
        "mult = x * y # multiplication\n",
        "div = round(x / y , 2) # division\n",
        "\n",
        "rem = x % y # remainder\n",
        "\n",
        "print(sum , sub , mult, div , rem)"
      ],
      "metadata": {
        "colab": {
          "base_uri": "https://localhost:8080/"
        },
        "id": "yYtYSWL6sK_4",
        "outputId": "a4d715a5-86aa-4e20-a0d9-bbc17aff01da"
      },
      "execution_count": 9,
      "outputs": [
        {
          "output_type": "stream",
          "name": "stdout",
          "text": [
            "13 7 30 3.33 1\n"
          ]
        }
      ]
    },
    {
      "cell_type": "code",
      "source": [
        "x = 10 ; y = 3\n",
        "\n",
        "greater_than = x > y\n",
        "\n",
        "greater_than_equal = (10 >= 10)\n",
        "\n",
        "print(greater_than , greater_than_equal)\n",
        "\n",
        "\n",
        "less_than = x < y\n",
        "\n",
        "less_than_equal = (10 <= 10)\n",
        "\n",
        "print(less_than , less_than_equal)\n",
        "\n",
        "\n",
        "\n",
        "equal =  x==y\n",
        "\n",
        "print(equal)\n",
        "\n",
        "\n",
        "not_equal = x != y\n",
        "\n",
        "print(not_equal)"
      ],
      "metadata": {
        "colab": {
          "base_uri": "https://localhost:8080/"
        },
        "id": "ggQ2WFCbsRCh",
        "outputId": "a180a159-7075-4a74-8a1e-93d5ebce268b"
      },
      "execution_count": 10,
      "outputs": [
        {
          "output_type": "stream",
          "name": "stdout",
          "text": [
            "True True\n",
            "False True\n",
            "False\n",
            "True\n"
          ]
        }
      ]
    },
    {
      "cell_type": "markdown",
      "source": [
        "***Logical Operator***"
      ],
      "metadata": {
        "id": "JGWOSEfysTUd"
      }
    },
    {
      "cell_type": "code",
      "source": [
        "x = 10 ; y = 5 ; z = 3\n",
        "\n",
        "result = (x > y) and (x > z)\n",
        "\n",
        "\n",
        "print(result)"
      ],
      "metadata": {
        "colab": {
          "base_uri": "https://localhost:8080/"
        },
        "id": "kjAkwnspsSVx",
        "outputId": "ebb9202f-0ddb-491c-c2d7-de807cfb6cdb"
      },
      "execution_count": 11,
      "outputs": [
        {
          "output_type": "stream",
          "name": "stdout",
          "text": [
            "True\n"
          ]
        }
      ]
    },
    {
      "cell_type": "code",
      "source": [
        "x = 10 ; y = 5 ; z = 15\n",
        "\n",
        "result = (x > y) or (x > z)\n",
        "\n",
        "\n",
        "print(result)"
      ],
      "metadata": {
        "colab": {
          "base_uri": "https://localhost:8080/"
        },
        "id": "eLdUq_tAsYAE",
        "outputId": "463633ab-1d10-4295-a5bd-1ff3fcddb62a"
      },
      "execution_count": 12,
      "outputs": [
        {
          "output_type": "stream",
          "name": "stdout",
          "text": [
            "True\n"
          ]
        }
      ]
    },
    {
      "cell_type": "code",
      "source": [
        "x = 10 ; y = 20 ; z = 15\n",
        "\n",
        "result = (x > y) or (x > z)\n",
        "\n",
        "\n",
        "print(result)"
      ],
      "metadata": {
        "colab": {
          "base_uri": "https://localhost:8080/"
        },
        "id": "S5HYNX2TsfTy",
        "outputId": "eff1a23e-9be3-4df4-ea3e-f03365635493"
      },
      "execution_count": 13,
      "outputs": [
        {
          "output_type": "stream",
          "name": "stdout",
          "text": [
            "False\n"
          ]
        }
      ]
    },
    {
      "cell_type": "markdown",
      "source": [
        "**Precedence and Associativity**"
      ],
      "metadata": {
        "id": "uQ0hEF8asiSm"
      }
    },
    {
      "cell_type": "code",
      "source": [
        "eq = 10 + 10/2 - 5*2 # precedency maintain korbe\n",
        "print(eq)\n",
        "\n",
        "eq = (10+10)/2 - 5*2 ## ekhane bracket e part tuku ageh compute hobe\n",
        "\n",
        "print(eq)"
      ],
      "metadata": {
        "colab": {
          "base_uri": "https://localhost:8080/"
        },
        "id": "jo0IT0V4shGw",
        "outputId": "0deabfb4-0f95-4e41-c3f1-1ad3995a3cd8"
      },
      "execution_count": 14,
      "outputs": [
        {
          "output_type": "stream",
          "name": "stdout",
          "text": [
            "5.0\n",
            "0.0\n"
          ]
        }
      ]
    },
    {
      "cell_type": "markdown",
      "source": [
        "**Problem : Digit Summation**"
      ],
      "metadata": {
        "id": "ZkSjw357spV1"
      }
    },
    {
      "cell_type": "code",
      "source": [
        "inp=input()\n",
        "numbers=inp.split()\n",
        "x=int(numbers[0])\n",
        "y=int(numbers[1])\n",
        "\n",
        "last_digit_of_x=x%10\n",
        "last_digit_of_y=y%10\n",
        "sum=last_digit_of_x+last_digit_of_y\n",
        "print(sum)"
      ],
      "metadata": {
        "colab": {
          "base_uri": "https://localhost:8080/"
        },
        "id": "TkhA04bNsrK4",
        "outputId": "032be12e-9655-4ee4-b8ac-c094a91a01c0"
      },
      "execution_count": 17,
      "outputs": [
        {
          "output_type": "stream",
          "name": "stdout",
          "text": [
            "23 44\n",
            "7\n"
          ]
        }
      ]
    }
  ]
}
