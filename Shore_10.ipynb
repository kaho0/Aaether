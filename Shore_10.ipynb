{
  "nbformat": 4,
  "nbformat_minor": 0,
  "metadata": {
    "colab": {
      "provenance": [],
      "authorship_tag": "ABX9TyMhIce6mrw2K1GWOts+937B",
      "include_colab_link": true
    },
    "kernelspec": {
      "name": "python3",
      "display_name": "Python 3"
    },
    "language_info": {
      "name": "python"
    }
  },
  "cells": [
    {
      "cell_type": "markdown",
      "metadata": {
        "id": "view-in-github",
        "colab_type": "text"
      },
      "source": [
        "<a href=\"https://colab.research.google.com/github/kaho0/Abstract/blob/main/Shore_10.ipynb\" target=\"_parent\"><img src=\"https://colab.research.google.com/assets/colab-badge.svg\" alt=\"Open In Colab\"/></a>"
      ]
    },
    {
      "cell_type": "code",
      "execution_count": 1,
      "metadata": {
        "colab": {
          "base_uri": "https://localhost:8080/"
        },
        "id": "sdePGLkvX0Fu",
        "outputId": "2cb910b0-d347-4180-cfd9-8330f3c9e92f"
      },
      "outputs": [
        {
          "output_type": "stream",
          "name": "stdout",
          "text": [
            "[1, 2, 3, 1, 2, 3, 1, 2, 3, 1, 2, 3, 1, 2, 3]\n"
          ]
        }
      ],
      "source": [
        "arr=[1,2,3]\n",
        "print(arr*5)"
      ]
    },
    {
      "cell_type": "code",
      "source": [
        "arr=[x*5 for x in arr]\n",
        "print(arr)"
      ],
      "metadata": {
        "colab": {
          "base_uri": "https://localhost:8080/"
        },
        "id": "A11ICFO4go6l",
        "outputId": "77d864f6-0f10-4f8e-ddb5-0d51d17268ef"
      },
      "execution_count": 2,
      "outputs": [
        {
          "output_type": "stream",
          "name": "stdout",
          "text": [
            "[5, 10, 15]\n"
          ]
        }
      ]
    },
    {
      "cell_type": "code",
      "source": [
        "import numpy as np\n",
        "\n",
        "# 1d array\n",
        "arr1 = np.array([1,2,3,4,5])\n",
        "\n",
        "\n",
        "# 2d array\n",
        "arr2 = np.array([ [1,2,3], # row1\n",
        "                  [4,5,6] #row2\n",
        "                ])\n",
        "\n",
        "#3d array\n",
        "\n",
        "arr3 = np.array([\n",
        "    #1st floor\n",
        "    [ [1,2,3], # row1\n",
        "      [4,5,6]  ], #row2\n",
        "\n",
        "    #2nd floor\n",
        "\n",
        "     [[1,2,3], # row1\n",
        "      [4,5,6]  ], #row2\n",
        "\n",
        "\n",
        "    #3rd floor\n",
        "      [[1,2,3], # row1\n",
        "      [4,5,6]  ] #row2\n",
        "\n",
        "\n",
        "])"
      ],
      "metadata": {
        "id": "Y09RzkNohJ4W"
      },
      "execution_count": 15,
      "outputs": []
    },
    {
      "cell_type": "markdown",
      "source": [
        "# **Array Attributes**"
      ],
      "metadata": {
        "id": "oYdG_l07ityL"
      }
    },
    {
      "cell_type": "code",
      "source": [
        "# dimension\n",
        "print(arr1.ndim)\n",
        "print(arr2.ndim)\n",
        "print(arr3.ndim)\n",
        "\n",
        "\n",
        "#shape\n",
        "print(arr1.shape)\n",
        "print(arr2.shape)\n",
        "print(arr3.shape)\n",
        "\n",
        "\n",
        "#data type\n",
        "print(arr1.dtype)\n",
        "print(arr2.dtype)\n",
        "print(arr3.dtype)\n",
        "\n",
        "\n",
        "#size\n",
        "print(arr1.size)\n",
        "print(arr2.size)\n",
        "print(arr3.size)"
      ],
      "metadata": {
        "colab": {
          "base_uri": "https://localhost:8080/"
        },
        "id": "EGSGcaa-iwdW",
        "outputId": "53722f0a-e5f6-43d4-c0b2-b740b9caad2e"
      },
      "execution_count": 17,
      "outputs": [
        {
          "output_type": "stream",
          "name": "stdout",
          "text": [
            "1\n",
            "2\n",
            "3\n",
            "(5,)\n",
            "(2, 3)\n",
            "(3, 2, 3)\n",
            "int64\n",
            "int64\n",
            "int64\n",
            "5\n",
            "6\n",
            "18\n"
          ]
        }
      ]
    },
    {
      "cell_type": "code",
      "source": [
        "arr = np.array([1,2,3])\n",
        "\n",
        "print(arr.dtype)\n",
        "\n",
        "arr = np.array([1.5,2.4,3.2])\n",
        "print(arr.dtype)"
      ],
      "metadata": {
        "colab": {
          "base_uri": "https://localhost:8080/"
        },
        "id": "2C9gLsNYkmX4",
        "outputId": "5fcb0064-2ead-4981-be88-50d2952baa19"
      },
      "execution_count": 18,
      "outputs": [
        {
          "output_type": "stream",
          "name": "stdout",
          "text": [
            "int64\n",
            "float64\n"
          ]
        }
      ]
    },
    {
      "cell_type": "code",
      "source": [
        "arr = np.array([1,2,3.2])\n",
        "# upcasted to float\n",
        "print(arr.dtype)\n",
        "\n",
        "#upcasted to string\n",
        "arr = np.array([1,2,3.2,'hello'])\n",
        "print(arr.dtype)\n",
        "\n",
        "\n",
        "arr = np.array([1,True,3.25,'hello',])\n",
        "print(arr.dtype)"
      ],
      "metadata": {
        "colab": {
          "base_uri": "https://localhost:8080/"
        },
        "id": "L0VT_wUMlQ04",
        "outputId": "90a39b0d-56b3-4c8e-eb15-297a86aaa0ff"
      },
      "execution_count": 19,
      "outputs": [
        {
          "output_type": "stream",
          "name": "stdout",
          "text": [
            "float64\n",
            "<U32\n",
            "<U32\n"
          ]
        }
      ]
    },
    {
      "cell_type": "markdown",
      "source": [
        "***selecting a data type for an array***"
      ],
      "metadata": {
        "id": "S6QH9RRzlUuH"
      }
    },
    {
      "cell_type": "code",
      "source": [
        "\n",
        "arr = np.array([1,2,300],dtype=np.int16)\n",
        "print(arr.dtype)\n",
        "print(arr)\n",
        "\n",
        "\n",
        "\n",
        "\n",
        "arr = arr.astype(np.int32)\n",
        "print(arr.dtype)\n",
        "\n",
        "\n",
        "#error\n",
        "arr = np.array([1,2,3.2,'hello'],dtype=np.float64)"
      ],
      "metadata": {
        "colab": {
          "base_uri": "https://localhost:8080/"
        },
        "id": "eM4CrkEUlRl4",
        "outputId": "a3adc442-e13b-433b-80c3-a3480a3e986e"
      },
      "execution_count": 26,
      "outputs": [
        {
          "output_type": "stream",
          "name": "stdout",
          "text": [
            "int64\n",
            "int16\n"
          ]
        }
      ]
    },
    {
      "cell_type": "markdown",
      "source": [
        "**nd array creation from existing data**"
      ],
      "metadata": {
        "id": "egZytQsbo18z"
      }
    },
    {
      "cell_type": "code",
      "source": [
        "lst=[12,45,60.44,98,\"tehe\"]\n",
        "arr=np.array(lst)\n",
        "print(arr)\n",
        "print(type(arr))\n",
        "print(arr.dtype)"
      ],
      "metadata": {
        "colab": {
          "base_uri": "https://localhost:8080/"
        },
        "id": "3lr2hC-2obWD",
        "outputId": "f96fe8c1-c69e-4c14-e37a-245fd0cecb8a"
      },
      "execution_count": 31,
      "outputs": [
        {
          "output_type": "stream",
          "name": "stdout",
          "text": [
            "['12' '45' '60.44' '98' 'tehe']\n",
            "<class 'numpy.ndarray'>\n",
            "<U32\n"
          ]
        }
      ]
    },
    {
      "cell_type": "code",
      "source": [
        "tpl = (10,20,30)\n",
        "\n",
        "arr = np.array(tpl,dtype=np.int32)\n",
        "print(arr.dtype)\n",
        "arr = arr.astype(np.int16)\n",
        "print(arr)\n",
        "print(type(arr))\n",
        "print(arr.dtype)\n",
        "print(arr.shape)\n",
        "print(arr.ndim)"
      ],
      "metadata": {
        "colab": {
          "base_uri": "https://localhost:8080/"
        },
        "id": "mWjOUZCzxmpn",
        "outputId": "50a4d310-7239-4e9e-a764-4a8066d4d80f"
      },
      "execution_count": 32,
      "outputs": [
        {
          "output_type": "stream",
          "name": "stdout",
          "text": [
            "int32\n",
            "[10 20 30]\n",
            "<class 'numpy.ndarray'>\n",
            "int16\n",
            "(3,)\n",
            "1\n"
          ]
        }
      ]
    },
    {
      "cell_type": "code",
      "source": [
        "st={1,2,4}\n",
        "# Convert the set to a list before creating the numpy array\n",
        "arr = np.array(list(st),dtype=np.int32)\n",
        "print(arr.dtype)\n",
        "arr = arr.astype(np.int16)\n",
        "print(arr)\n",
        "print(type(arr))\n",
        "print(arr.dtype)\n",
        "print(arr.shape)\n",
        "print(arr.ndim)"
      ],
      "metadata": {
        "colab": {
          "base_uri": "https://localhost:8080/"
        },
        "id": "dpMzRgfVzuaK",
        "outputId": "5c730d8d-d4ed-4426-c389-7478c96bf11f"
      },
      "execution_count": 37,
      "outputs": [
        {
          "output_type": "stream",
          "name": "stdout",
          "text": [
            "int32\n",
            "[1 2 4]\n",
            "<class 'numpy.ndarray'>\n",
            "int16\n",
            "(3,)\n",
            "1\n"
          ]
        }
      ]
    },
    {
      "cell_type": "code",
      "source": [
        "dc = { 'a' : 10 , 'b' : 20 , 'c' :30 }\n",
        "\n",
        "keys = dc.keys()\n",
        "values = dc.values()\n",
        "items = dc.items()\n",
        "arr = np.array(list(keys))\n",
        "print(arr)\n",
        "print(type(arr))\n",
        "print(arr.dtype)\n",
        "print(arr.shape)\n",
        "print(arr.ndim)\n",
        "print(arr.size)\n",
        "\n",
        "arr1=np.array(list(values))\n",
        "print(arr1)\n",
        "print(type(arr1))\n",
        "print(arr1.dtype)\n",
        "print(arr1.shape)\n",
        "print(arr1.ndim)\n",
        "print(arr1.size)\n",
        "\n",
        "arrt=np.array(list(items))\n",
        "print(arrt)\n",
        "print(type(arrt))\n",
        "print(arrt.dtype)\n",
        "print(arrt.shape)\n",
        "print(arrt.ndim)\n",
        "print(arrt.size)"
      ],
      "metadata": {
        "colab": {
          "base_uri": "https://localhost:8080/"
        },
        "id": "lQ1ev_TN2cWh",
        "outputId": "92db95bd-f525-4a6c-aa09-dca518e1cd28"
      },
      "execution_count": 41,
      "outputs": [
        {
          "output_type": "stream",
          "name": "stdout",
          "text": [
            "['a' 'b' 'c']\n",
            "<class 'numpy.ndarray'>\n",
            "<U1\n",
            "(3,)\n",
            "1\n",
            "3\n",
            "[10 20 30]\n",
            "<class 'numpy.ndarray'>\n",
            "int64\n",
            "(3,)\n",
            "1\n",
            "3\n",
            "[['a' '10']\n",
            " ['b' '20']\n",
            " ['c' '30']]\n",
            "<class 'numpy.ndarray'>\n",
            "<U21\n",
            "(3, 2)\n",
            "2\n",
            "6\n"
          ]
        }
      ]
    },
    {
      "cell_type": "markdown",
      "source": [],
      "metadata": {
        "id": "y3zcanc367Qx"
      }
    }
  ]
}