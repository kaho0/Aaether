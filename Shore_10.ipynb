{
  "nbformat": 4,
  "nbformat_minor": 0,
  "metadata": {
    "colab": {
      "provenance": [],
      "authorship_tag": "ABX9TyNhVutejWMPx1dyF5ABKsga",
      "include_colab_link": true
    },
    "kernelspec": {
      "name": "python3",
      "display_name": "Python 3"
    },
    "language_info": {
      "name": "python"
    }
  },
  "cells": [
    {
      "cell_type": "markdown",
      "metadata": {
        "id": "view-in-github",
        "colab_type": "text"
      },
      "source": [
        "<a href=\"https://colab.research.google.com/github/kaho0/Abstract/blob/main/Shore_10.ipynb\" target=\"_parent\"><img src=\"https://colab.research.google.com/assets/colab-badge.svg\" alt=\"Open In Colab\"/></a>"
      ]
    },
    {
      "cell_type": "code",
      "source": [
        "# ============================================================\n",
        "# 🧠 NUMPY COMPLETE NOTES & EXAMPLES — BY KAHON\n",
        "# Organized & Commented for Future Reference\n",
        "# ============================================================\n",
        "\n",
        "# ------------------------------------------------------------\n",
        "# 🧩 Basic Python List vs NumPy Array Multiplication\n",
        "# ------------------------------------------------------------\n",
        "arr = [1, 2, 3]\n",
        "print(arr * 5)         # Repeats the list 5 times\n",
        "# Output → [1,2,3,1,2,3,1,2,3,1,2,3,1,2,3]\n",
        "\n",
        "# Using list comprehension\n",
        "arr = [x * 5 for x in arr]\n",
        "print(arr)             # Multiplies each element by 5\n",
        "# Output → [5,10,15]\n",
        "\n",
        "\n",
        "# ------------------------------------------------------------\n",
        "# ⚙️ Import NumPy\n",
        "# ------------------------------------------------------------\n",
        "import numpy as np\n",
        "\n",
        "\n",
        "# ------------------------------------------------------------\n",
        "# 🧮 Creating Arrays\n",
        "# ------------------------------------------------------------\n",
        "\n",
        "# 1D Array\n",
        "arr1 = np.array([1, 2, 3, 4, 5])\n",
        "\n",
        "# 2D Array (Matrix)\n",
        "arr2 = np.array([\n",
        "    [1, 2, 3],   # row 1\n",
        "    [4, 5, 6]    # row 2\n",
        "])\n",
        "\n",
        "# 3D Array\n",
        "arr3 = np.array([\n",
        "    [ [1,2,3], [4,5,6] ],   # 1st layer\n",
        "    [ [1,2,3], [4,5,6] ],   # 2nd layer\n",
        "    [ [1,2,3], [4,5,6] ]    # 3rd layer\n",
        "])\n",
        "\n",
        "\n",
        "# ------------------------------------------------------------\n",
        "# 📊 Array Attributes\n",
        "# ------------------------------------------------------------\n",
        "print(\"Dimensions:\")\n",
        "print(arr1.ndim)   # 1\n",
        "print(arr2.ndim)   # 2\n",
        "print(arr3.ndim)   # 3\n",
        "\n",
        "print(\"\\nShape:\")\n",
        "print(arr1.shape)  # (5,)\n",
        "print(arr2.shape)  # (2,3)\n",
        "print(arr3.shape)  # (3,2,3)\n",
        "\n",
        "print(\"\\nData Type:\")\n",
        "print(arr1.dtype)\n",
        "print(arr2.dtype)\n",
        "print(arr3.dtype)\n",
        "\n",
        "print(\"\\nSize (number of elements):\")\n",
        "print(arr1.size)\n",
        "print(arr2.size)\n",
        "print(arr3.size)\n",
        "\n",
        "\n",
        "# ------------------------------------------------------------\n",
        "# 🧬 Array Data Types (dtype)\n",
        "# ------------------------------------------------------------\n",
        "arr = np.array([1, 2, 3])\n",
        "print(arr.dtype)       # int64 (usually)\n",
        "arr = np.array([1.5, 2.4, 3.2])\n",
        "print(arr.dtype)       # float64\n",
        "\n",
        "# Automatic upcasting\n",
        "arr = np.array([1, 2, 3.2])\n",
        "print(arr.dtype)       # float64\n",
        "\n",
        "# Upcasted to string\n",
        "arr = np.array([1, 2, 3.2, 'hello'])\n",
        "print(arr.dtype)       # <U32 (Unicode string)\n",
        "\n",
        "# Mixed types with bool\n",
        "arr = np.array([1, True, 3.25, 'hello'])\n",
        "print(arr.dtype)       # <U32\n",
        "\n",
        "\n",
        "# ------------------------------------------------------------\n",
        "# 🎯 Selecting Data Type Manually\n",
        "# ------------------------------------------------------------\n",
        "arr = np.array([1, 2, 300], dtype=np.int16)\n",
        "print(arr.dtype)\n",
        "print(arr)\n",
        "\n",
        "# Convert to another dtype\n",
        "arr = arr.astype(np.int32)\n",
        "print(arr.dtype)\n",
        "\n",
        "# ❌ Invalid conversion (string → float)\n",
        "# arr = np.array([1,2,3.2,'hello'],dtype=np.float64)\n",
        "# ValueError: could not convert string to float\n",
        "\n",
        "\n",
        "# ------------------------------------------------------------\n",
        "# 📦 Array Creation from Existing Data\n",
        "# ------------------------------------------------------------\n",
        "\n",
        "# --- From List ---\n",
        "lst = [10, 20, 30, 40, 40.5]\n",
        "arr = np.array(lst, dtype=np.int32)\n",
        "print(arr)\n",
        "\n",
        "# --- From Mixed List ---\n",
        "mixed_lst = [10, True, 'Hello']\n",
        "arr = np.array(mixed_lst)\n",
        "print(arr)\n",
        "print(arr.dtype)\n",
        "\n",
        "# --- From Matrix (Nested List) ---\n",
        "matrix = [[1,2,3], [4,5,6]]\n",
        "arr = np.array(matrix)\n",
        "print(arr)\n",
        "print(arr.shape)\n",
        "print(arr.ndim)\n",
        "\n",
        "\n",
        "# --- From Tuple ---\n",
        "tpl = (10,20,30)\n",
        "arr = np.array(tpl, dtype=np.int32)\n",
        "print(arr)\n",
        "print(arr.dtype)\n",
        "print(arr.shape)\n",
        "print(arr.ndim)\n",
        "\n",
        "\n",
        "# --- From Set ---\n",
        "st = {1,2,3}\n",
        "arr = np.array(list(st))\n",
        "print(arr)\n",
        "print(arr.dtype)\n",
        "print(arr.shape)\n",
        "print(arr.ndim)\n",
        "\n",
        "\n",
        "# --- From Dictionary ---\n",
        "dc = {'a':10, 'b':20, 'c':30}\n",
        "\n",
        "# Keys\n",
        "arr = np.array(list(dc.keys()))\n",
        "print(arr)\n",
        "\n",
        "# Values\n",
        "arr = np.array(list(dc.values()))\n",
        "print(arr)\n",
        "\n",
        "# Items\n",
        "arr = np.array(list(dc.items()))\n",
        "print(arr)\n",
        "print(arr.shape)\n",
        "print(arr.ndim)\n",
        "\n",
        "\n",
        "# ------------------------------------------------------------\n",
        "# 🏗️ Creating ndarrays from Scratch\n",
        "# ------------------------------------------------------------\n",
        "\n",
        "# np.zeros\n",
        "arr = np.zeros((2,3), dtype=np.int8)\n",
        "print(arr)\n",
        "\n",
        "# np.ones\n",
        "arr = np.ones((3,4,3), dtype=np.int8)\n",
        "print(arr)\n",
        "\n",
        "# np.empty (uninitialized values)\n",
        "arr = np.empty((3,2,3), dtype=np.int8)\n",
        "print(arr)\n",
        "\n",
        "# np.full (fill with specific value)\n",
        "arr = np.full((4,3), np.inf)\n",
        "print(arr)\n",
        "\n",
        "# np.full_like (same shape as arr3)\n",
        "arr = np.full_like(arr3, np.inf, dtype=np.float64)\n",
        "print(arr)\n",
        "\n",
        "\n",
        "# ------------------------------------------------------------\n",
        "# 🎲 Array Creation with Random Values\n",
        "# ------------------------------------------------------------\n",
        "\n",
        "# np.random.rand → 0 to 1\n",
        "arr = np.random.rand(2,3)\n",
        "print(arr)\n",
        "\n",
        "# np.random.randint → random integers\n",
        "arr = np.random.randint(1,10, (2,3))\n",
        "print(arr)\n",
        "\n",
        "# np.random.uniform → random float range\n",
        "arr = np.random.uniform(50,100, (3,3,4))\n",
        "print(arr)\n",
        "\n",
        "\n",
        "# ------------------------------------------------------------\n",
        "# 🔢 Array Creation with Range Functions\n",
        "# ------------------------------------------------------------\n",
        "\n",
        "# np.arange(start, end, step)\n",
        "arr = np.arange(1,10,1)\n",
        "print(arr)\n",
        "\n",
        "# reshape()\n",
        "mat = arr.reshape(3,3)\n",
        "print(mat)\n",
        "\n",
        "# np.linspace(start, end, num_points)\n",
        "arr = np.linspace(0,4,6)\n",
        "print(arr)\n",
        "\n",
        "# np.logspace(start, end, num_points, base)\n",
        "arr = np.logspace(0,4,6, base=2)\n",
        "print(arr)\n",
        "\n",
        "\n",
        "# ------------------------------------------------------------\n",
        "# 🧮 Matrices for Linear Algebra\n",
        "# ------------------------------------------------------------\n",
        "\n",
        "# Diagonal Matrix\n",
        "diag_mat = np.diag([1,2,3,4])\n",
        "print(diag_mat)\n",
        "\n",
        "# Identity Matrix\n",
        "identity_mat = np.eye(4)\n",
        "print(identity_mat)\n",
        "\n",
        "# np.eye(rows, cols, k=offset)\n",
        "print(np.eye(3,4))    # main diagonal\n",
        "print(np.eye(3,4,1))  # upper diagonal\n",
        "print(np.eye(3,4,-1)) # lower diagonal\n",
        "\n",
        "\n",
        "# ------------------------------------------------------------\n",
        "# ✂️ Indexing and Slicing\n",
        "# ------------------------------------------------------------\n",
        "print(arr1)\n",
        "print(arr2)\n",
        "\n",
        "# Change element\n",
        "arr2[0][2] = 100\n",
        "print(arr2)\n",
        "\n",
        "# 1D slicing\n",
        "arr1_mod = arr1[1:4].copy()\n",
        "arr1_mod[2] = 200\n",
        "print(arr1_mod)\n",
        "print(arr1)\n",
        "\n",
        "# 2D slicing\n",
        "row0 = arr2[0:1, :]\n",
        "col0 = arr2[:, 0:1]\n",
        "portion = arr2[:, 0:2]\n",
        "print(row0)\n",
        "print(col0)\n",
        "print(portion)\n",
        "\n",
        "\n",
        "# ------------------------------------------------------------\n",
        "# 🎯 Advanced Indexing\n",
        "# ------------------------------------------------------------\n",
        "lst = np.array([10,20,30,40])\n",
        "values = lst[[0,3,1]]  # index-based\n",
        "print(values)\n",
        "\n",
        "print(arr2)\n",
        "print(arr2[[0,1],[1,2]])   # specific positions\n",
        "\n",
        "# Boolean indexing\n",
        "print(arr2[arr2 > 1])\n",
        "arr2[arr2 > 2] = 0\n",
        "print(arr2)\n",
        "\n",
        "\n",
        "# ------------------------------------------------------------\n",
        "# 🔁 Iterating through ndarray\n",
        "# ------------------------------------------------------------\n",
        "print(arr3)\n",
        "for i in np.nditer(arr3):\n",
        "    print(i)\n"
      ],
      "metadata": {
        "colab": {
          "base_uri": "https://localhost:8080/"
        },
        "id": "Ef86yc5KLQkW",
        "outputId": "695667b0-63f6-4afb-ca09-9dbcd5bd725d"
      },
      "execution_count": 102,
      "outputs": [
        {
          "output_type": "stream",
          "name": "stdout",
          "text": [
            "[1, 2, 3, 1, 2, 3, 1, 2, 3, 1, 2, 3, 1, 2, 3]\n",
            "[5, 10, 15]\n",
            "Dimensions:\n",
            "1\n",
            "2\n",
            "3\n",
            "\n",
            "Shape:\n",
            "(5,)\n",
            "(2, 3)\n",
            "(3, 2, 3)\n",
            "\n",
            "Data Type:\n",
            "int64\n",
            "int64\n",
            "int64\n",
            "\n",
            "Size (number of elements):\n",
            "5\n",
            "6\n",
            "18\n",
            "int64\n",
            "float64\n",
            "float64\n",
            "<U32\n",
            "<U32\n",
            "int16\n",
            "[  1   2 300]\n",
            "int32\n",
            "[10 20 30 40 40]\n",
            "['10' 'True' 'Hello']\n",
            "<U21\n",
            "[[1 2 3]\n",
            " [4 5 6]]\n",
            "(2, 3)\n",
            "2\n",
            "[10 20 30]\n",
            "int32\n",
            "(3,)\n",
            "1\n",
            "[1 2 3]\n",
            "int64\n",
            "(3,)\n",
            "1\n",
            "['a' 'b' 'c']\n",
            "[10 20 30]\n",
            "[['a' '10']\n",
            " ['b' '20']\n",
            " ['c' '30']]\n",
            "(3, 2)\n",
            "2\n",
            "[[0 0 0]\n",
            " [0 0 0]]\n",
            "[[[1 1 1]\n",
            "  [1 1 1]\n",
            "  [1 1 1]\n",
            "  [1 1 1]]\n",
            "\n",
            " [[1 1 1]\n",
            "  [1 1 1]\n",
            "  [1 1 1]\n",
            "  [1 1 1]]\n",
            "\n",
            " [[1 1 1]\n",
            "  [1 1 1]\n",
            "  [1 1 1]\n",
            "  [1 1 1]]]\n",
            "[[[0 0 0]\n",
            "  [0 0 0]]\n",
            "\n",
            " [[0 0 0]\n",
            "  [0 0 0]]\n",
            "\n",
            " [[0 0 0]\n",
            "  [0 0 0]]]\n",
            "[[inf inf inf]\n",
            " [inf inf inf]\n",
            " [inf inf inf]\n",
            " [inf inf inf]]\n",
            "[[[inf inf inf]\n",
            "  [inf inf inf]]\n",
            "\n",
            " [[inf inf inf]\n",
            "  [inf inf inf]]\n",
            "\n",
            " [[inf inf inf]\n",
            "  [inf inf inf]]]\n",
            "[[0.81115413 0.1742038  0.15773925]\n",
            " [0.0829391  0.99399486 0.20691079]]\n",
            "[[5 7 7]\n",
            " [1 9 8]]\n",
            "[[[59.52631072 73.78941735 73.20213251 78.69793643]\n",
            "  [84.56936772 96.74913456 92.137634   73.2700641 ]\n",
            "  [52.04543011 87.33446014 93.70069415 92.26869762]]\n",
            "\n",
            " [[75.99228732 69.8121925  77.13544046 51.15495101]\n",
            "  [66.84203857 64.76820794 57.57683997 50.7231769 ]\n",
            "  [54.3579247  57.14346174 80.74540985 95.23495326]]\n",
            "\n",
            " [[79.05215195 74.54210696 87.07762427 76.90303108]\n",
            "  [89.86892024 85.30983891 82.64486915 92.17727078]\n",
            "  [52.59996053 63.79956448 70.37835304 88.42368029]]]\n",
            "[1 2 3 4 5 6 7 8 9]\n",
            "[[1 2 3]\n",
            " [4 5 6]\n",
            " [7 8 9]]\n",
            "[0.  0.8 1.6 2.4 3.2 4. ]\n",
            "[ 1.          1.74110113  3.03143313  5.27803164  9.18958684 16.        ]\n",
            "[[1 0 0 0]\n",
            " [0 2 0 0]\n",
            " [0 0 3 0]\n",
            " [0 0 0 4]]\n",
            "[[1. 0. 0. 0.]\n",
            " [0. 1. 0. 0.]\n",
            " [0. 0. 1. 0.]\n",
            " [0. 0. 0. 1.]]\n",
            "[[1. 0. 0. 0.]\n",
            " [0. 1. 0. 0.]\n",
            " [0. 0. 1. 0.]]\n",
            "[[0. 1. 0. 0.]\n",
            " [0. 0. 1. 0.]\n",
            " [0. 0. 0. 1.]]\n",
            "[[0. 0. 0. 0.]\n",
            " [1. 0. 0. 0.]\n",
            " [0. 1. 0. 0.]]\n",
            "[1 2 3 4 5]\n",
            "[[1 2 3]\n",
            " [4 5 6]]\n",
            "[[  1   2 100]\n",
            " [  4   5   6]]\n",
            "[  2   3 200]\n",
            "[1 2 3 4 5]\n",
            "[[  1   2 100]]\n",
            "[[1]\n",
            " [4]]\n",
            "[[1 2]\n",
            " [4 5]]\n",
            "[10 40 20]\n",
            "[[  1   2 100]\n",
            " [  4   5   6]]\n",
            "[2 6]\n",
            "[  2 100   4   5   6]\n",
            "[[1 2 0]\n",
            " [0 0 0]]\n",
            "[[[1 2 3]\n",
            "  [4 5 6]]\n",
            "\n",
            " [[1 2 3]\n",
            "  [4 5 6]]\n",
            "\n",
            " [[1 2 3]\n",
            "  [4 5 6]]]\n",
            "1\n",
            "2\n",
            "3\n",
            "4\n",
            "5\n",
            "6\n",
            "1\n",
            "2\n",
            "3\n",
            "4\n",
            "5\n",
            "6\n",
            "1\n",
            "2\n",
            "3\n",
            "4\n",
            "5\n",
            "6\n"
          ]
        }
      ]
    },
    {
      "cell_type": "code",
      "execution_count": 1,
      "metadata": {
        "colab": {
          "base_uri": "https://localhost:8080/"
        },
        "id": "sdePGLkvX0Fu",
        "outputId": "2cb910b0-d347-4180-cfd9-8330f3c9e92f"
      },
      "outputs": [
        {
          "output_type": "stream",
          "name": "stdout",
          "text": [
            "[1, 2, 3, 1, 2, 3, 1, 2, 3, 1, 2, 3, 1, 2, 3]\n"
          ]
        }
      ],
      "source": [
        "arr=[1,2,3]\n",
        "print(arr*5)"
      ]
    },
    {
      "cell_type": "code",
      "source": [
        "arr=[x*5 for x in arr]\n",
        "print(arr)"
      ],
      "metadata": {
        "colab": {
          "base_uri": "https://localhost:8080/"
        },
        "id": "A11ICFO4go6l",
        "outputId": "77d864f6-0f10-4f8e-ddb5-0d51d17268ef"
      },
      "execution_count": 2,
      "outputs": [
        {
          "output_type": "stream",
          "name": "stdout",
          "text": [
            "[5, 10, 15]\n"
          ]
        }
      ]
    },
    {
      "cell_type": "code",
      "source": [
        "import numpy as np\n",
        "\n",
        "# 1d array\n",
        "arr1 = np.array([1,2,3,4,5])\n",
        "\n",
        "\n",
        "# 2d array\n",
        "arr2 = np.array([ [1,2,3], # row1\n",
        "                  [4,5,6] #row2\n",
        "                ])\n",
        "\n",
        "#3d array\n",
        "\n",
        "arr3 = np.array([\n",
        "    #1st floor\n",
        "    [ [1,2,3], # row1\n",
        "      [4,5,6]  ], #row2\n",
        "\n",
        "    #2nd floor\n",
        "\n",
        "     [[1,2,3], # row1\n",
        "      [4,5,6]  ], #row2\n",
        "\n",
        "\n",
        "    #3rd floor\n",
        "      [[1,2,3], # row1\n",
        "      [4,5,6]  ] #row2\n",
        "\n",
        "\n",
        "])"
      ],
      "metadata": {
        "id": "Y09RzkNohJ4W"
      },
      "execution_count": 15,
      "outputs": []
    },
    {
      "cell_type": "markdown",
      "source": [
        "# **Array Attributes**"
      ],
      "metadata": {
        "id": "oYdG_l07ityL"
      }
    },
    {
      "cell_type": "code",
      "source": [
        "# dimension\n",
        "print(arr1.ndim)\n",
        "print(arr2.ndim)\n",
        "print(arr3.ndim)\n",
        "\n",
        "\n",
        "#shape\n",
        "print(arr1.shape)\n",
        "print(arr2.shape)\n",
        "print(arr3.shape)\n",
        "\n",
        "\n",
        "#data type\n",
        "print(arr1.dtype)\n",
        "print(arr2.dtype)\n",
        "print(arr3.dtype)\n",
        "\n",
        "\n",
        "#size\n",
        "print(arr1.size)\n",
        "print(arr2.size)\n",
        "print(arr3.size)"
      ],
      "metadata": {
        "colab": {
          "base_uri": "https://localhost:8080/"
        },
        "id": "EGSGcaa-iwdW",
        "outputId": "53722f0a-e5f6-43d4-c0b2-b740b9caad2e"
      },
      "execution_count": 17,
      "outputs": [
        {
          "output_type": "stream",
          "name": "stdout",
          "text": [
            "1\n",
            "2\n",
            "3\n",
            "(5,)\n",
            "(2, 3)\n",
            "(3, 2, 3)\n",
            "int64\n",
            "int64\n",
            "int64\n",
            "5\n",
            "6\n",
            "18\n"
          ]
        }
      ]
    },
    {
      "cell_type": "code",
      "source": [
        "arr = np.array([1,2,3])\n",
        "\n",
        "print(arr.dtype)\n",
        "\n",
        "arr = np.array([1.5,2.4,3.2])\n",
        "print(arr.dtype)"
      ],
      "metadata": {
        "colab": {
          "base_uri": "https://localhost:8080/"
        },
        "id": "2C9gLsNYkmX4",
        "outputId": "5fcb0064-2ead-4981-be88-50d2952baa19"
      },
      "execution_count": 18,
      "outputs": [
        {
          "output_type": "stream",
          "name": "stdout",
          "text": [
            "int64\n",
            "float64\n"
          ]
        }
      ]
    },
    {
      "cell_type": "code",
      "source": [
        "arr = np.array([1,2,3.2])\n",
        "# upcasted to float\n",
        "print(arr.dtype)\n",
        "\n",
        "#upcasted to string\n",
        "arr = np.array([1,2,3.2,'hello'])\n",
        "print(arr.dtype)\n",
        "\n",
        "\n",
        "arr = np.array([1,True,3.25,'hello',])\n",
        "print(arr.dtype)"
      ],
      "metadata": {
        "colab": {
          "base_uri": "https://localhost:8080/"
        },
        "id": "L0VT_wUMlQ04",
        "outputId": "90a39b0d-56b3-4c8e-eb15-297a86aaa0ff"
      },
      "execution_count": 19,
      "outputs": [
        {
          "output_type": "stream",
          "name": "stdout",
          "text": [
            "float64\n",
            "<U32\n",
            "<U32\n"
          ]
        }
      ]
    },
    {
      "cell_type": "markdown",
      "source": [
        "***selecting a data type for an array***"
      ],
      "metadata": {
        "id": "S6QH9RRzlUuH"
      }
    },
    {
      "cell_type": "code",
      "source": [
        "\n",
        "arr = np.array([1,2,300],dtype=np.int16)\n",
        "print(arr.dtype)\n",
        "print(arr)\n",
        "\n",
        "\n",
        "\n",
        "\n",
        "arr = arr.astype(np.int32)\n",
        "print(arr.dtype)\n",
        "\n",
        "\n",
        "#error\n",
        "arr = np.array([1,2,3.2,'hello'],dtype=np.float64)"
      ],
      "metadata": {
        "colab": {
          "base_uri": "https://localhost:8080/"
        },
        "id": "eM4CrkEUlRl4",
        "outputId": "a3adc442-e13b-433b-80c3-a3480a3e986e"
      },
      "execution_count": 26,
      "outputs": [
        {
          "output_type": "stream",
          "name": "stdout",
          "text": [
            "int64\n",
            "int16\n"
          ]
        }
      ]
    },
    {
      "cell_type": "markdown",
      "source": [
        "**nd array creation from existing data**"
      ],
      "metadata": {
        "id": "egZytQsbo18z"
      }
    },
    {
      "cell_type": "code",
      "source": [
        "lst=[12,45,60.44,98,\"tehe\"]\n",
        "arr=np.array(lst)\n",
        "print(arr)\n",
        "print(type(arr))\n",
        "print(arr.dtype)"
      ],
      "metadata": {
        "colab": {
          "base_uri": "https://localhost:8080/"
        },
        "id": "3lr2hC-2obWD",
        "outputId": "f96fe8c1-c69e-4c14-e37a-245fd0cecb8a"
      },
      "execution_count": 31,
      "outputs": [
        {
          "output_type": "stream",
          "name": "stdout",
          "text": [
            "['12' '45' '60.44' '98' 'tehe']\n",
            "<class 'numpy.ndarray'>\n",
            "<U32\n"
          ]
        }
      ]
    },
    {
      "cell_type": "code",
      "source": [
        "tpl = (10,20,30)\n",
        "\n",
        "arr = np.array(tpl,dtype=np.int32)\n",
        "print(arr.dtype)\n",
        "arr = arr.astype(np.int16)\n",
        "print(arr)\n",
        "print(type(arr))\n",
        "print(arr.dtype)\n",
        "print(arr.shape)\n",
        "print(arr.ndim)"
      ],
      "metadata": {
        "colab": {
          "base_uri": "https://localhost:8080/"
        },
        "id": "mWjOUZCzxmpn",
        "outputId": "50a4d310-7239-4e9e-a764-4a8066d4d80f"
      },
      "execution_count": 32,
      "outputs": [
        {
          "output_type": "stream",
          "name": "stdout",
          "text": [
            "int32\n",
            "[10 20 30]\n",
            "<class 'numpy.ndarray'>\n",
            "int16\n",
            "(3,)\n",
            "1\n"
          ]
        }
      ]
    },
    {
      "cell_type": "code",
      "source": [
        "st={1,2,4}\n",
        "# Convert the set to a list before creating the numpy array\n",
        "arr = np.array(list(st),dtype=np.int32)\n",
        "print(arr.dtype)\n",
        "arr = arr.astype(np.int16)\n",
        "print(arr)\n",
        "print(type(arr))\n",
        "print(arr.dtype)\n",
        "print(arr.shape)\n",
        "print(arr.ndim)"
      ],
      "metadata": {
        "colab": {
          "base_uri": "https://localhost:8080/"
        },
        "id": "dpMzRgfVzuaK",
        "outputId": "5c730d8d-d4ed-4426-c389-7478c96bf11f"
      },
      "execution_count": 37,
      "outputs": [
        {
          "output_type": "stream",
          "name": "stdout",
          "text": [
            "int32\n",
            "[1 2 4]\n",
            "<class 'numpy.ndarray'>\n",
            "int16\n",
            "(3,)\n",
            "1\n"
          ]
        }
      ]
    },
    {
      "cell_type": "code",
      "source": [
        "dc = { 'a' : 10 , 'b' : 20 , 'c' :30 }\n",
        "\n",
        "keys = dc.keys()\n",
        "values = dc.values()\n",
        "items = dc.items()\n",
        "arr = np.array(list(keys))\n",
        "print(arr)\n",
        "print(type(arr))\n",
        "print(arr.dtype)\n",
        "print(arr.shape)\n",
        "print(arr.ndim)\n",
        "print(arr.size)\n",
        "\n",
        "arr1=np.array(list(values))\n",
        "print(arr1)\n",
        "print(type(arr1))\n",
        "print(arr1.dtype)\n",
        "print(arr1.shape)\n",
        "print(arr1.ndim)\n",
        "print(arr1.size)\n",
        "\n",
        "arrt=np.array(list(items))\n",
        "print(arrt)\n",
        "print(type(arrt))\n",
        "print(arrt.dtype)\n",
        "print(arrt.shape)\n",
        "print(arrt.ndim)\n",
        "print(arrt.size)"
      ],
      "metadata": {
        "colab": {
          "base_uri": "https://localhost:8080/"
        },
        "id": "lQ1ev_TN2cWh",
        "outputId": "92db95bd-f525-4a6c-aa09-dca518e1cd28"
      },
      "execution_count": 41,
      "outputs": [
        {
          "output_type": "stream",
          "name": "stdout",
          "text": [
            "['a' 'b' 'c']\n",
            "<class 'numpy.ndarray'>\n",
            "<U1\n",
            "(3,)\n",
            "1\n",
            "3\n",
            "[10 20 30]\n",
            "<class 'numpy.ndarray'>\n",
            "int64\n",
            "(3,)\n",
            "1\n",
            "3\n",
            "[['a' '10']\n",
            " ['b' '20']\n",
            " ['c' '30']]\n",
            "<class 'numpy.ndarray'>\n",
            "<U21\n",
            "(3, 2)\n",
            "2\n",
            "6\n"
          ]
        }
      ]
    },
    {
      "cell_type": "markdown",
      "source": [
        "**Creating ndarray from scratch**"
      ],
      "metadata": {
        "id": "y3zcanc367Qx"
      }
    },
    {
      "cell_type": "code",
      "source": [
        "arr=np.zeros((2,3),dtype=np.int16)\n",
        "\n",
        "print(arr)\n",
        "print(type(arr))\n",
        "print(arr.dtype)\n",
        "print(arr.shape)\n",
        "print(arr.ndim)\n",
        "print(arr.size)"
      ],
      "metadata": {
        "colab": {
          "base_uri": "https://localhost:8080/"
        },
        "id": "r2yvlzVb7FlM",
        "outputId": "78d5ac7b-aaed-4ea3-988e-95eb55decea7"
      },
      "execution_count": 42,
      "outputs": [
        {
          "output_type": "stream",
          "name": "stdout",
          "text": [
            "[[0 0 0]\n",
            " [0 0 0]]\n",
            "<class 'numpy.ndarray'>\n",
            "int16\n",
            "(2, 3)\n",
            "2\n",
            "6\n"
          ]
        }
      ]
    },
    {
      "cell_type": "code",
      "source": [
        "arr=np.ones_like(arr3)\n",
        "print(arr)\n",
        "print(type(arr))\n",
        "print(arr.dtype)\n",
        "print(arr.shape)\n",
        "print(arr.ndim)\n",
        "print(arr.size)"
      ],
      "metadata": {
        "colab": {
          "base_uri": "https://localhost:8080/"
        },
        "id": "ZHLs6lKv7lqz",
        "outputId": "0aa7eb3a-d481-4605-aecc-c361e6945630"
      },
      "execution_count": 45,
      "outputs": [
        {
          "output_type": "stream",
          "name": "stdout",
          "text": [
            "[[[1 1 1]\n",
            "  [1 1 1]]\n",
            "\n",
            " [[1 1 1]\n",
            "  [1 1 1]]\n",
            "\n",
            " [[1 1 1]\n",
            "  [1 1 1]]]\n",
            "<class 'numpy.ndarray'>\n",
            "int64\n",
            "(3, 2, 3)\n",
            "3\n",
            "18\n"
          ]
        }
      ]
    },
    {
      "cell_type": "code",
      "source": [
        "arr=np.ones((4,3,2),dtype=np.int8)\n",
        "print(arr)\n",
        "print(type(arr))\n",
        "print(arr.dtype)\n",
        "print(arr.shape)\n",
        "print(arr.ndim)\n",
        "print(arr.size)"
      ],
      "metadata": {
        "colab": {
          "base_uri": "https://localhost:8080/"
        },
        "id": "QifxG7Db8CiF",
        "outputId": "a5c82e91-adb3-4043-f85f-be7a564064df"
      },
      "execution_count": 48,
      "outputs": [
        {
          "output_type": "stream",
          "name": "stdout",
          "text": [
            "[[[1 1]\n",
            "  [1 1]\n",
            "  [1 1]]\n",
            "\n",
            " [[1 1]\n",
            "  [1 1]\n",
            "  [1 1]]\n",
            "\n",
            " [[1 1]\n",
            "  [1 1]\n",
            "  [1 1]]\n",
            "\n",
            " [[1 1]\n",
            "  [1 1]\n",
            "  [1 1]]]\n",
            "<class 'numpy.ndarray'>\n",
            "int8\n",
            "(4, 3, 2)\n",
            "3\n",
            "24\n"
          ]
        }
      ]
    },
    {
      "cell_type": "code",
      "source": [
        "arr=np.empty((4,3,2),dtype=np.int8)\n",
        "print(arr)\n",
        "print(type(arr))\n",
        "print(arr.dtype)\n",
        "print(arr.shape)\n",
        "print(arr.ndim)\n",
        "print(arr.size)"
      ],
      "metadata": {
        "colab": {
          "base_uri": "https://localhost:8080/"
        },
        "id": "LM5pkyyo8YJT",
        "outputId": "c2e810a5-e05d-4d55-e549-8fee820a142a"
      },
      "execution_count": 49,
      "outputs": [
        {
          "output_type": "stream",
          "name": "stdout",
          "text": [
            "[[[-70  49]\n",
            "  [ 54  40]\n",
            "  [  0   0]]\n",
            "\n",
            " [[  0   0]\n",
            "  [  0   0]\n",
            "  [  0   0]]\n",
            "\n",
            " [[  0   0]\n",
            "  [  0   0]\n",
            "  [-64   0]]\n",
            "\n",
            " [[  0   0]\n",
            "  [  0   0]\n",
            "  [  0   0]]]\n",
            "<class 'numpy.ndarray'>\n",
            "int8\n",
            "(4, 3, 2)\n",
            "3\n",
            "24\n"
          ]
        }
      ]
    },
    {
      "cell_type": "code",
      "source": [
        "arr=np.full((4,3,),np.inf)\n",
        "print(arr)\n",
        "print(type(arr))\n",
        "print(arr.dtype)\n",
        "print(arr.shape)\n",
        "print(arr.ndim)\n",
        "print(arr.size)\n"
      ],
      "metadata": {
        "colab": {
          "base_uri": "https://localhost:8080/"
        },
        "id": "NE9FflaT-ot5",
        "outputId": "525e03f4-62c4-4fa0-a56e-d1abc3649dad"
      },
      "execution_count": 57,
      "outputs": [
        {
          "output_type": "stream",
          "name": "stdout",
          "text": [
            "[[inf inf inf]\n",
            " [inf inf inf]\n",
            " [inf inf inf]\n",
            " [inf inf inf]]\n",
            "<class 'numpy.ndarray'>\n",
            "float64\n",
            "(4, 3)\n",
            "2\n",
            "12\n"
          ]
        }
      ]
    },
    {
      "cell_type": "code",
      "source": [
        "arr=np.full_like((arr3),np.inf,dtype=np.float64)\n",
        "print(arr)\n",
        "print(type(arr))\n",
        "print(arr.dtype)\n",
        "print(arr.shape)\n",
        "print(arr.ndim)\n",
        "print(arr.size)\n"
      ],
      "metadata": {
        "colab": {
          "base_uri": "https://localhost:8080/"
        },
        "id": "gTVgsH77_eDt",
        "outputId": "dd11adaa-fc5b-49f9-e5e6-c3190a02519f"
      },
      "execution_count": 59,
      "outputs": [
        {
          "output_type": "stream",
          "name": "stdout",
          "text": [
            "[[[inf inf inf]\n",
            "  [inf inf inf]]\n",
            "\n",
            " [[inf inf inf]\n",
            "  [inf inf inf]]\n",
            "\n",
            " [[inf inf inf]\n",
            "  [inf inf inf]]]\n",
            "<class 'numpy.ndarray'>\n",
            "float64\n",
            "(3, 2, 3)\n",
            "3\n",
            "18\n"
          ]
        }
      ]
    },
    {
      "cell_type": "markdown",
      "source": [
        "*array creation with random values*\n",
        "\n",
        "\n"
      ],
      "metadata": {
        "id": "iW2whYWaB8Oj"
      }
    },
    {
      "cell_type": "code",
      "source": [
        "arr = np.random.rand(2,3) # 0 ->1\n",
        "\n",
        "print(arr)\n",
        "print(type(arr))\n",
        "print(arr.dtype)\n",
        "print(arr.shape)\n",
        "print(arr.ndim)\n",
        "print(arr.size)"
      ],
      "metadata": {
        "colab": {
          "base_uri": "https://localhost:8080/"
        },
        "id": "FlX6H3Kn_3Ga",
        "outputId": "6671e270-3aa0-451a-ad01-9770424ebbae"
      },
      "execution_count": 60,
      "outputs": [
        {
          "output_type": "stream",
          "name": "stdout",
          "text": [
            "[[0.45528758 0.40992667 0.9815079 ]\n",
            " [0.98204744 0.96566177 0.74789479]]\n",
            "<class 'numpy.ndarray'>\n",
            "float64\n",
            "(2, 3)\n",
            "2\n",
            "6\n"
          ]
        }
      ]
    },
    {
      "cell_type": "code",
      "source": [
        " #np.random.randint(start,end, shape)\n",
        "\n",
        "arr = np.random.randint(1,10 , (10,10))\n",
        "\n",
        "print(arr)\n",
        "print(type(arr))\n",
        "print(arr.dtype)\n",
        "print(arr.shape)\n",
        "print(arr.ndim)\n",
        "print(arr.size)"
      ],
      "metadata": {
        "colab": {
          "base_uri": "https://localhost:8080/"
        },
        "id": "lWIoZuLWCF-M",
        "outputId": "cb5f9c98-812c-49a2-8f1c-48ffaadd511d"
      },
      "execution_count": 62,
      "outputs": [
        {
          "output_type": "stream",
          "name": "stdout",
          "text": [
            "[[7 1 6 3 5 1 8 4 1 6]\n",
            " [5 4 8 1 5 9 5 1 4 2]\n",
            " [1 4 6 9 2 1 5 5 5 2]\n",
            " [5 1 5 2 9 9 5 3 2 6]\n",
            " [1 6 5 1 9 7 7 8 2 9]\n",
            " [5 3 9 7 4 9 2 4 9 3]\n",
            " [7 4 3 7 7 6 5 7 6 6]\n",
            " [9 2 8 2 3 3 6 9 7 5]\n",
            " [9 8 4 5 6 6 7 2 4 8]\n",
            " [9 4 4 3 6 4 8 4 4 3]]\n",
            "<class 'numpy.ndarray'>\n",
            "int64\n",
            "(10, 10)\n",
            "2\n",
            "100\n"
          ]
        }
      ]
    },
    {
      "cell_type": "code",
      "source": [
        " #np.random.Uniform(start,end, shape)\n",
        "\n",
        "arr = np.random.uniform(1,10 , (2,3))\n",
        "\n",
        "print(arr)\n",
        "print(type(arr))\n",
        "print(arr.dtype)\n",
        "print(arr.shape)\n",
        "print(arr.ndim)\n",
        "print(arr.size)"
      ],
      "metadata": {
        "colab": {
          "base_uri": "https://localhost:8080/"
        },
        "id": "QTOqQ9CGCYTU",
        "outputId": "791d9f87-23a6-4045-b8df-d6fef191f52d"
      },
      "execution_count": 63,
      "outputs": [
        {
          "output_type": "stream",
          "name": "stdout",
          "text": [
            "[[3.26254595 7.57925067 2.50154916]\n",
            " [1.24647106 3.1637193  5.03491482]]\n",
            "<class 'numpy.ndarray'>\n",
            "float64\n",
            "(2, 3)\n",
            "2\n",
            "6\n"
          ]
        }
      ]
    },
    {
      "cell_type": "markdown",
      "source": [
        "**array creation with range functions**"
      ],
      "metadata": {
        "id": "8P63MB3pC47z"
      }
    },
    {
      "cell_type": "code",
      "source": [
        "arr=np.arange(1,10,1).reshape(3,3)\n",
        "print(arr)\n",
        "print(type(arr))\n",
        "print(arr.dtype)\n",
        "print(arr.shape)\n",
        "print(arr.ndim)\n",
        "print(arr.size)"
      ],
      "metadata": {
        "colab": {
          "base_uri": "https://localhost:8080/"
        },
        "id": "ry6NjYXtC8nk",
        "outputId": "c09bc895-e251-4a3b-8ff0-7b1236edf41e"
      },
      "execution_count": 67,
      "outputs": [
        {
          "output_type": "stream",
          "name": "stdout",
          "text": [
            "[[1 2 3]\n",
            " [4 5 6]\n",
            " [7 8 9]]\n",
            "<class 'numpy.ndarray'>\n",
            "int64\n",
            "(3, 3)\n",
            "2\n",
            "9\n"
          ]
        }
      ]
    },
    {
      "cell_type": "code",
      "source": [
        "arr=np.linspace(1,10,11)\n",
        "print(arr)\n",
        "print(type(arr))\n",
        "print(arr.dtype)\n",
        "print(arr.shape)\n",
        "print(arr.ndim)\n",
        "print(arr.size)"
      ],
      "metadata": {
        "colab": {
          "base_uri": "https://localhost:8080/"
        },
        "id": "TevXtuxPDIfa",
        "outputId": "af6c5e56-ebce-4b55-8510-3908fd7f8020"
      },
      "execution_count": 73,
      "outputs": [
        {
          "output_type": "stream",
          "name": "stdout",
          "text": [
            "[ 1.   1.9  2.8  3.7  4.6  5.5  6.4  7.3  8.2  9.1 10. ]\n",
            "<class 'numpy.ndarray'>\n",
            "float64\n",
            "(11,)\n",
            "1\n",
            "11\n"
          ]
        }
      ]
    },
    {
      "cell_type": "code",
      "source": [
        "arr=np.logspace(0,4,6,base=2)\n",
        "print(arr)"
      ],
      "metadata": {
        "colab": {
          "base_uri": "https://localhost:8080/"
        },
        "id": "l_a7tZp6EHUI",
        "outputId": "028c049b-109c-4a40-e6cb-a9926fe88359"
      },
      "execution_count": 80,
      "outputs": [
        {
          "output_type": "stream",
          "name": "stdout",
          "text": [
            "[ 1.          1.74110113  3.03143313  5.27803164  9.18958684 16.        ]\n"
          ]
        }
      ]
    },
    {
      "cell_type": "markdown",
      "source": [
        "**creating matrix for Linear algebra**"
      ],
      "metadata": {
        "id": "CnPj-N9RFb2v"
      }
    },
    {
      "cell_type": "code",
      "source": [
        "diagonal_matrix = np.diag([1,2,3,4])\n",
        "\n",
        "print(diagonal_matrix)\n",
        "print(diagonal_matrix.shape)"
      ],
      "metadata": {
        "colab": {
          "base_uri": "https://localhost:8080/"
        },
        "id": "7HcYGrTyFe4K",
        "outputId": "30027106-354c-4e98-f260-fbebdb398266"
      },
      "execution_count": 81,
      "outputs": [
        {
          "output_type": "stream",
          "name": "stdout",
          "text": [
            "[[1 0 0 0]\n",
            " [0 2 0 0]\n",
            " [0 0 3 0]\n",
            " [0 0 0 4]]\n",
            "(4, 4)\n"
          ]
        }
      ]
    },
    {
      "cell_type": "code",
      "source": [
        "\n",
        "# identity matrix\n",
        "\n",
        "identity_mat = np.eye(4)\n",
        "# print(identity_mat)\n",
        "# print(identity_mat.shape)\n",
        "\n",
        "# np.eye(row , column,k)\n",
        "\n",
        "mat = np.eye(3,4)\n",
        "print(mat)\n",
        "print(\"\\n\")\n",
        "mat = np.eye(3,4,1)\n",
        "print(mat)\n",
        "print(\"\\n\")\n",
        "mat = np.eye(3,4,-1)\n",
        "print(mat)"
      ],
      "metadata": {
        "colab": {
          "base_uri": "https://localhost:8080/"
        },
        "id": "mbZeUPGIFiNm",
        "outputId": "1ddc63c4-bc5f-4912-db05-71ab5d87d565"
      },
      "execution_count": 86,
      "outputs": [
        {
          "output_type": "stream",
          "name": "stdout",
          "text": [
            "[[1. 0. 0. 0.]\n",
            " [0. 1. 0. 0.]\n",
            " [0. 0. 1. 0.]]\n",
            "\n",
            "\n",
            "[[0. 1. 0. 0.]\n",
            " [0. 0. 1. 0.]\n",
            " [0. 0. 0. 1.]]\n",
            "\n",
            "\n",
            "[[0. 0. 0. 0.]\n",
            " [1. 0. 0. 0.]\n",
            " [0. 1. 0. 0.]]\n"
          ]
        }
      ]
    },
    {
      "cell_type": "markdown",
      "source": [
        "**indexing and slicing**"
      ],
      "metadata": {
        "id": "HCB9nJUZF6hP"
      }
    },
    {
      "cell_type": "code",
      "source": [
        "\n",
        "#indexing\n",
        "\n",
        "print(arr1)\n",
        "print(arr2)\n",
        "\n",
        "# arr1[2] = 100\n",
        "\n",
        "# print(arr1)\n",
        "arr2[0][2]= 100\n",
        "\n",
        "print(arr2)"
      ],
      "metadata": {
        "colab": {
          "base_uri": "https://localhost:8080/"
        },
        "id": "bBACzC9HF99Q",
        "outputId": "49ef44be-9826-4cf4-a0ab-904f401bf59b"
      },
      "execution_count": 87,
      "outputs": [
        {
          "output_type": "stream",
          "name": "stdout",
          "text": [
            "[10 20 30]\n",
            "[[1 2 3]\n",
            " [4 5 6]]\n",
            "[[  1   2 100]\n",
            " [  4   5   6]]\n"
          ]
        }
      ]
    },
    {
      "cell_type": "code",
      "source": [
        "arr1_mod = arr1[1:6:2].copy()\n",
        "print(arr1_mod)"
      ],
      "metadata": {
        "colab": {
          "base_uri": "https://localhost:8080/"
        },
        "id": "ZnCn9AG2Gajr",
        "outputId": "651402b3-8645-43f5-a2b0-55c4a8764176"
      },
      "execution_count": 90,
      "outputs": [
        {
          "output_type": "stream",
          "name": "stdout",
          "text": [
            "[2]\n"
          ]
        }
      ]
    },
    {
      "cell_type": "code",
      "source": [
        "arr=np.array([1,2,3])\n",
        "print(arr.ndim)"
      ],
      "metadata": {
        "colab": {
          "base_uri": "https://localhost:8080/"
        },
        "id": "cKafMDkOGiBW",
        "outputId": "c6f0868f-b210-4024-9c8a-d3701169a713"
      },
      "execution_count": 91,
      "outputs": [
        {
          "output_type": "stream",
          "name": "stdout",
          "text": [
            "1\n"
          ]
        }
      ]
    },
    {
      "cell_type": "code",
      "source": [
        "np.eye(3)"
      ],
      "metadata": {
        "colab": {
          "base_uri": "https://localhost:8080/"
        },
        "id": "4Wk_WCnvJazK",
        "outputId": "e348cdf0-c0f5-4812-b162-2cd6c2b55627"
      },
      "execution_count": 92,
      "outputs": [
        {
          "output_type": "execute_result",
          "data": {
            "text/plain": [
              "array([[1., 0., 0.],\n",
              "       [0., 1., 0.],\n",
              "       [0., 0., 1.]])"
            ]
          },
          "metadata": {},
          "execution_count": 92
        }
      ]
    },
    {
      "cell_type": "code",
      "source": [
        "arr=np.array([1,2.5,3])\n",
        "print(arr.dtype)"
      ],
      "metadata": {
        "colab": {
          "base_uri": "https://localhost:8080/"
        },
        "id": "F1e38mvWJh91",
        "outputId": "2fe1ee20-e374-4042-d78b-fad0972423f3"
      },
      "execution_count": 93,
      "outputs": [
        {
          "output_type": "stream",
          "name": "stdout",
          "text": [
            "float64\n"
          ]
        }
      ]
    },
    {
      "cell_type": "code",
      "source": [
        "arr = np.array([[10,20,30],[40,50,60]])\n",
        "arr[:,1]"
      ],
      "metadata": {
        "colab": {
          "base_uri": "https://localhost:8080/"
        },
        "id": "u76piQWDJpec",
        "outputId": "df421c9e-4f85-46ef-b397-efc04f6baaf4"
      },
      "execution_count": 98,
      "outputs": [
        {
          "output_type": "execute_result",
          "data": {
            "text/plain": [
              "array([20, 50])"
            ]
          },
          "metadata": {},
          "execution_count": 98
        }
      ]
    },
    {
      "cell_type": "code",
      "source": [
        "arr = np.random.rand(2,3)\n",
        "print(arr)"
      ],
      "metadata": {
        "colab": {
          "base_uri": "https://localhost:8080/"
        },
        "id": "bhCJafzXKWmn",
        "outputId": "2274fe88-1f5a-4b53-a048-b84b9e98a882"
      },
      "execution_count": 100,
      "outputs": [
        {
          "output_type": "stream",
          "name": "stdout",
          "text": [
            "[[0.84700051 0.19859999 0.61834492]\n",
            " [0.37590644 0.31181959 0.47312527]]\n"
          ]
        }
      ]
    },
    {
      "cell_type": "code",
      "source": [
        "arr=np.array([1,2,3,4,5])\n",
        "arr[1:4]=0\n",
        "print(arr)"
      ],
      "metadata": {
        "colab": {
          "base_uri": "https://localhost:8080/"
        },
        "id": "L0_9ng8WKa6k",
        "outputId": "3fae5520-75aa-497c-bd50-14292be97422"
      },
      "execution_count": 101,
      "outputs": [
        {
          "output_type": "stream",
          "name": "stdout",
          "text": [
            "[1 0 0 0 5]\n"
          ]
        }
      ]
    }
  ]
}