{
  "nbformat": 4,
  "nbformat_minor": 0,
  "metadata": {
    "colab": {
      "provenance": [],
      "authorship_tag": "ABX9TyMGhR2ZHGk+ni8D0iX19u+0",
      "include_colab_link": true
    },
    "kernelspec": {
      "name": "python3",
      "display_name": "Python 3"
    },
    "language_info": {
      "name": "python"
    }
  },
  "cells": [
    {
      "cell_type": "markdown",
      "metadata": {
        "id": "view-in-github",
        "colab_type": "text"
      },
      "source": [
        "<a href=\"https://colab.research.google.com/github/kaho0/Abstract/blob/main/Shore_11.ipynb\" target=\"_parent\"><img src=\"https://colab.research.google.com/assets/colab-badge.svg\" alt=\"Open In Colab\"/></a>"
      ]
    },
    {
      "cell_type": "code",
      "execution_count": 6,
      "metadata": {
        "colab": {
          "base_uri": "https://localhost:8080/"
        },
        "id": "OtPSfnIAYWzw",
        "outputId": "2c2fa17d-8505-4ccf-8e6f-8cf2b4601d5b"
      },
      "outputs": [
        {
          "output_type": "stream",
          "name": "stdout",
          "text": [
            "[[43 28 56 19 29]\n",
            " [90 14 81 57 44]\n",
            " [74 16 11  2 64]\n",
            " [22 57 13 75 93]\n",
            " [ 7 93 36  5 24]\n",
            " [11 99 46  3 23]\n",
            " [74 58 33 64 93]\n",
            " [16 37 92 84 43]\n",
            " [20 33 53  6 46]\n",
            " [27 76 83 31 67]]\n"
          ]
        }
      ],
      "source": [
        "import numpy as np\n",
        "\n",
        "arr=np.random.randint(1,100,size=(10,5)) #sample 10,feature 5\n",
        "\n",
        "arr.shape\n",
        "print(arr)"
      ]
    },
    {
      "cell_type": "code",
      "source": [
        "b=arr.reshape(5,10)\n",
        "b.shape\n",
        "print(b)"
      ],
      "metadata": {
        "colab": {
          "base_uri": "https://localhost:8080/"
        },
        "id": "_nmCIwbSYwqh",
        "outputId": "4e7808c0-e5da-4d9a-b67c-80f2f79b9c20"
      },
      "execution_count": 7,
      "outputs": [
        {
          "output_type": "stream",
          "name": "stdout",
          "text": [
            "[[43 28 56 19 29 90 14 81 57 44]\n",
            " [74 16 11  2 64 22 57 13 75 93]\n",
            " [ 7 93 36  5 24 11 99 46  3 23]\n",
            " [74 58 33 64 93 16 37 92 84 43]\n",
            " [20 33 53  6 46 27 76 83 31 67]]\n"
          ]
        }
      ]
    },
    {
      "cell_type": "code",
      "source": [
        "flat=b.flatten()\n",
        "print(flat.ndim)\n",
        "flat\n",
        "\n",
        "col_wise_flat=np.ravel(b,order='C')\n",
        "print(col_wise_flat)"
      ],
      "metadata": {
        "colab": {
          "base_uri": "https://localhost:8080/"
        },
        "id": "p3f7ufKpZBIF",
        "outputId": "eda0539a-33de-4cd9-de81-18b382cf0599"
      },
      "execution_count": 9,
      "outputs": [
        {
          "output_type": "stream",
          "name": "stdout",
          "text": [
            "1\n",
            "[43 28 56 19 29 90 14 81 57 44 74 16 11  2 64 22 57 13 75 93  7 93 36  5\n",
            " 24 11 99 46  3 23 74 58 33 64 93 16 37 92 84 43 20 33 53  6 46 27 76 83\n",
            " 31 67]\n"
          ]
        }
      ]
    },
    {
      "cell_type": "code",
      "source": [
        "a=np.random.randint(1,10,size=(2,3))\n",
        "b=np.random.randint(10,20,size=(2,3))\n",
        "print(a)\n",
        "print(b)"
      ],
      "metadata": {
        "colab": {
          "base_uri": "https://localhost:8080/"
        },
        "id": "Znbl5WaKZYIw",
        "outputId": "8188c2ee-3227-47aa-f2cd-3e42dbca8211"
      },
      "execution_count": 11,
      "outputs": [
        {
          "output_type": "stream",
          "name": "stdout",
          "text": [
            "[[7 8 9]\n",
            " [6 2 4]]\n",
            "[[12 11 16]\n",
            " [13 14 11]]\n"
          ]
        }
      ]
    },
    {
      "cell_type": "markdown",
      "source": [
        "**concatenate**"
      ],
      "metadata": {
        "id": "ODMDRObjZnE5"
      }
    },
    {
      "cell_type": "code",
      "source": [
        "con_row=np.concatenate((a,b),axis=0) #row wise\n",
        "print(con_row)\n",
        "con_col=np.concatenate((a,b),axis=1) #column wise\n",
        "print(con_col)"
      ],
      "metadata": {
        "colab": {
          "base_uri": "https://localhost:8080/"
        },
        "id": "qqixLB63ZlSR",
        "outputId": "ab056c2b-9803-49ad-9244-bf2a672fd810"
      },
      "execution_count": 12,
      "outputs": [
        {
          "output_type": "stream",
          "name": "stdout",
          "text": [
            "[[ 7  8  9]\n",
            " [ 6  2  4]\n",
            " [12 11 16]\n",
            " [13 14 11]]\n",
            "[[ 7  8  9 12 11 16]\n",
            " [ 6  2  4 13 14 11]]\n"
          ]
        }
      ]
    },
    {
      "cell_type": "code",
      "source": [
        "x=np.random.randint(1,10,size=(2,2))\n",
        "y=np.random.randint(30,40,size=(3,2))\n",
        "\n",
        "# row wise concetanate korar shomoi column same thakbe\n",
        "# col wise concat korar shomoi row ta same thakte hobe\n",
        "\n",
        "r=np.concatenate((x,y),axis=0)\n",
        "print(r)\n",
        "#s=np.concatenate((x,y),axis=1)\n",
        "#print(s)"
      ],
      "metadata": {
        "colab": {
          "base_uri": "https://localhost:8080/"
        },
        "id": "4nnVeEOyZ8dj",
        "outputId": "37cc6582-1648-4eb2-b86b-1bc8938d1893"
      },
      "execution_count": 16,
      "outputs": [
        {
          "output_type": "stream",
          "name": "stdout",
          "text": [
            "[[ 6  2]\n",
            " [ 8  3]\n",
            " [39 38]\n",
            " [37 37]\n",
            " [30 33]]\n"
          ]
        }
      ]
    }
  ]
}