{
  "nbformat": 4,
  "nbformat_minor": 0,
  "metadata": {
    "colab": {
      "provenance": [],
      "authorship_tag": "ABX9TyNkxRLO85G1a0p02vTwyswY",
      "include_colab_link": true
    },
    "kernelspec": {
      "name": "python3",
      "display_name": "Python 3"
    },
    "language_info": {
      "name": "python"
    }
  },
  "cells": [
    {
      "cell_type": "markdown",
      "metadata": {
        "id": "view-in-github",
        "colab_type": "text"
      },
      "source": [
        "<a href=\"https://colab.research.google.com/github/kaho0/Abstract/blob/main/Shore_11.ipynb\" target=\"_parent\"><img src=\"https://colab.research.google.com/assets/colab-badge.svg\" alt=\"Open In Colab\"/></a>"
      ]
    },
    {
      "cell_type": "code",
      "execution_count": 6,
      "metadata": {
        "colab": {
          "base_uri": "https://localhost:8080/"
        },
        "id": "OtPSfnIAYWzw",
        "outputId": "2c2fa17d-8505-4ccf-8e6f-8cf2b4601d5b"
      },
      "outputs": [
        {
          "output_type": "stream",
          "name": "stdout",
          "text": [
            "[[43 28 56 19 29]\n",
            " [90 14 81 57 44]\n",
            " [74 16 11  2 64]\n",
            " [22 57 13 75 93]\n",
            " [ 7 93 36  5 24]\n",
            " [11 99 46  3 23]\n",
            " [74 58 33 64 93]\n",
            " [16 37 92 84 43]\n",
            " [20 33 53  6 46]\n",
            " [27 76 83 31 67]]\n"
          ]
        }
      ],
      "source": [
        "import numpy as np\n",
        "\n",
        "arr=np.random.randint(1,100,size=(10,5)) #sample 10,feature 5\n",
        "\n",
        "arr.shape\n",
        "print(arr)"
      ]
    },
    {
      "cell_type": "code",
      "source": [
        "b=arr.reshape(5,10)\n",
        "b.shape\n",
        "print(b)"
      ],
      "metadata": {
        "colab": {
          "base_uri": "https://localhost:8080/"
        },
        "id": "_nmCIwbSYwqh",
        "outputId": "4e7808c0-e5da-4d9a-b67c-80f2f79b9c20"
      },
      "execution_count": 7,
      "outputs": [
        {
          "output_type": "stream",
          "name": "stdout",
          "text": [
            "[[43 28 56 19 29 90 14 81 57 44]\n",
            " [74 16 11  2 64 22 57 13 75 93]\n",
            " [ 7 93 36  5 24 11 99 46  3 23]\n",
            " [74 58 33 64 93 16 37 92 84 43]\n",
            " [20 33 53  6 46 27 76 83 31 67]]\n"
          ]
        }
      ]
    },
    {
      "cell_type": "code",
      "source": [
        "flat=b.flatten()\n",
        "print(flat.ndim)\n",
        "flat\n",
        "\n",
        "col_wise_flat=np.ravel(b,order='C')\n",
        "print(col_wise_flat)"
      ],
      "metadata": {
        "colab": {
          "base_uri": "https://localhost:8080/"
        },
        "id": "p3f7ufKpZBIF",
        "outputId": "eda0539a-33de-4cd9-de81-18b382cf0599"
      },
      "execution_count": 9,
      "outputs": [
        {
          "output_type": "stream",
          "name": "stdout",
          "text": [
            "1\n",
            "[43 28 56 19 29 90 14 81 57 44 74 16 11  2 64 22 57 13 75 93  7 93 36  5\n",
            " 24 11 99 46  3 23 74 58 33 64 93 16 37 92 84 43 20 33 53  6 46 27 76 83\n",
            " 31 67]\n"
          ]
        }
      ]
    },
    {
      "cell_type": "code",
      "source": [
        "a=np.random.randint(1,10,size=(2,3))\n",
        "b=np.random.randint(10,20,size=(2,3))\n",
        "print(a)\n",
        "print(b)"
      ],
      "metadata": {
        "colab": {
          "base_uri": "https://localhost:8080/"
        },
        "id": "Znbl5WaKZYIw",
        "outputId": "8188c2ee-3227-47aa-f2cd-3e42dbca8211"
      },
      "execution_count": 11,
      "outputs": [
        {
          "output_type": "stream",
          "name": "stdout",
          "text": [
            "[[7 8 9]\n",
            " [6 2 4]]\n",
            "[[12 11 16]\n",
            " [13 14 11]]\n"
          ]
        }
      ]
    },
    {
      "cell_type": "markdown",
      "source": [
        "**concatenate**"
      ],
      "metadata": {
        "id": "ODMDRObjZnE5"
      }
    },
    {
      "cell_type": "code",
      "source": [
        "con_row=np.concatenate((a,b),axis=0) #row wise\n",
        "print(con_row)\n",
        "con_col=np.concatenate((a,b),axis=1) #column wise\n",
        "print(con_col)"
      ],
      "metadata": {
        "colab": {
          "base_uri": "https://localhost:8080/"
        },
        "id": "qqixLB63ZlSR",
        "outputId": "ab056c2b-9803-49ad-9244-bf2a672fd810"
      },
      "execution_count": 12,
      "outputs": [
        {
          "output_type": "stream",
          "name": "stdout",
          "text": [
            "[[ 7  8  9]\n",
            " [ 6  2  4]\n",
            " [12 11 16]\n",
            " [13 14 11]]\n",
            "[[ 7  8  9 12 11 16]\n",
            " [ 6  2  4 13 14 11]]\n"
          ]
        }
      ]
    },
    {
      "cell_type": "code",
      "source": [
        "x=np.random.randint(1,10,size=(2,2))\n",
        "y=np.random.randint(30,40,size=(3,2))\n",
        "\n",
        "# row wise concetanate korar shomoi column same thakbe\n",
        "# col wise concat korar shomoi row ta same thakte hobe\n",
        "\n",
        "r=np.concatenate((x,y),axis=0)\n",
        "print(r)\n",
        "#s=np.concatenate((x,y),axis=1)\n",
        "#print(s)"
      ],
      "metadata": {
        "colab": {
          "base_uri": "https://localhost:8080/"
        },
        "id": "4nnVeEOyZ8dj",
        "outputId": "37cc6582-1648-4eb2-b86b-1bc8938d1893"
      },
      "execution_count": 16,
      "outputs": [
        {
          "output_type": "stream",
          "name": "stdout",
          "text": [
            "[[ 6  2]\n",
            " [ 8  3]\n",
            " [39 38]\n",
            " [37 37]\n",
            " [30 33]]\n"
          ]
        }
      ]
    },
    {
      "cell_type": "code",
      "source": [
        "m=np.random.randint(33,100,size=(1,5))\n",
        "n=np.random.randint(100,200,size=(1,5))\n",
        "print(m)\n",
        "print(n)\n",
        "\n",
        "transpose=m.T\n",
        "print(transpose)"
      ],
      "metadata": {
        "colab": {
          "base_uri": "https://localhost:8080/"
        },
        "id": "QYILMo-YamfW",
        "outputId": "7d218366-d34e-45f9-8614-fab7b2a0e895"
      },
      "execution_count": 19,
      "outputs": [
        {
          "output_type": "stream",
          "name": "stdout",
          "text": [
            "[[97 50 36 45 44]]\n",
            "[[185 106 115 149 118]]\n",
            "[[97]\n",
            " [50]\n",
            " [36]\n",
            " [45]\n",
            " [44]]\n"
          ]
        }
      ]
    },
    {
      "cell_type": "code",
      "source": [
        "import numpy as np\n",
        "\n",
        "m = np.random.randint(33, 100, size=(10,))\n",
        "split_arr = np.array_split(m, 3)   # can split unevenly\n",
        "print(split_arr)\n",
        "\n",
        "spl_arr = np.split(m, 3)           # splits equally only\n",
        "print(spl_arr)\n"
      ],
      "metadata": {
        "colab": {
          "base_uri": "https://localhost:8080/",
          "height": 367
        },
        "id": "rv9tglGibkYK",
        "outputId": "1d20589b-8683-402d-f2a1-19311e4dde16"
      },
      "execution_count": 25,
      "outputs": [
        {
          "output_type": "stream",
          "name": "stdout",
          "text": [
            "[array([47, 47, 78, 60]), array([93, 47, 41]), array([48, 54, 75])]\n"
          ]
        },
        {
          "output_type": "error",
          "ename": "ValueError",
          "evalue": "array split does not result in an equal division",
          "traceback": [
            "\u001b[0;31m---------------------------------------------------------------------------\u001b[0m",
            "\u001b[0;31mValueError\u001b[0m                                Traceback (most recent call last)",
            "\u001b[0;32m/tmp/ipython-input-3537714580.py\u001b[0m in \u001b[0;36m<cell line: 0>\u001b[0;34m()\u001b[0m\n\u001b[1;32m      5\u001b[0m \u001b[0mprint\u001b[0m\u001b[0;34m(\u001b[0m\u001b[0msplit_arr\u001b[0m\u001b[0;34m)\u001b[0m\u001b[0;34m\u001b[0m\u001b[0;34m\u001b[0m\u001b[0m\n\u001b[1;32m      6\u001b[0m \u001b[0;34m\u001b[0m\u001b[0m\n\u001b[0;32m----> 7\u001b[0;31m \u001b[0mspl_arr\u001b[0m \u001b[0;34m=\u001b[0m \u001b[0mnp\u001b[0m\u001b[0;34m.\u001b[0m\u001b[0msplit\u001b[0m\u001b[0;34m(\u001b[0m\u001b[0mm\u001b[0m\u001b[0;34m,\u001b[0m \u001b[0;36m3\u001b[0m\u001b[0;34m)\u001b[0m           \u001b[0;31m# splits equally only\u001b[0m\u001b[0;34m\u001b[0m\u001b[0;34m\u001b[0m\u001b[0m\n\u001b[0m\u001b[1;32m      8\u001b[0m \u001b[0mprint\u001b[0m\u001b[0;34m(\u001b[0m\u001b[0mspl_arr\u001b[0m\u001b[0;34m)\u001b[0m\u001b[0;34m\u001b[0m\u001b[0;34m\u001b[0m\u001b[0m\n",
            "\u001b[0;32m/usr/local/lib/python3.12/dist-packages/numpy/lib/_shape_base_impl.py\u001b[0m in \u001b[0;36msplit\u001b[0;34m(ary, indices_or_sections, axis)\u001b[0m\n\u001b[1;32m    872\u001b[0m         \u001b[0mN\u001b[0m \u001b[0;34m=\u001b[0m \u001b[0mary\u001b[0m\u001b[0;34m.\u001b[0m\u001b[0mshape\u001b[0m\u001b[0;34m[\u001b[0m\u001b[0maxis\u001b[0m\u001b[0;34m]\u001b[0m\u001b[0;34m\u001b[0m\u001b[0;34m\u001b[0m\u001b[0m\n\u001b[1;32m    873\u001b[0m         \u001b[0;32mif\u001b[0m \u001b[0mN\u001b[0m \u001b[0;34m%\u001b[0m \u001b[0msections\u001b[0m\u001b[0;34m:\u001b[0m\u001b[0;34m\u001b[0m\u001b[0;34m\u001b[0m\u001b[0m\n\u001b[0;32m--> 874\u001b[0;31m             raise ValueError(\n\u001b[0m\u001b[1;32m    875\u001b[0m                 'array split does not result in an equal division') from None\n\u001b[1;32m    876\u001b[0m     \u001b[0;32mreturn\u001b[0m \u001b[0marray_split\u001b[0m\u001b[0;34m(\u001b[0m\u001b[0mary\u001b[0m\u001b[0;34m,\u001b[0m \u001b[0mindices_or_sections\u001b[0m\u001b[0;34m,\u001b[0m \u001b[0maxis\u001b[0m\u001b[0;34m)\u001b[0m\u001b[0;34m\u001b[0m\u001b[0;34m\u001b[0m\u001b[0m\n",
            "\u001b[0;31mValueError\u001b[0m: array split does not result in an equal division"
          ]
        }
      ]
    },
    {
      "cell_type": "code",
      "source": [
        "x = np.array([10, 20, 40, 50])   # array 1\n",
        "y = np.array([1, 2, 3, 4])       # array 2\n",
        "\n",
        "add = x + y                      # addition\n",
        "print(\"Addition:\", add)\n",
        "\n",
        "sub = x - y                      # subtraction\n",
        "print(\"Subtraction:\", sub)\n",
        "\n",
        "mul = x * y                      # multiplication\n",
        "print(\"Multiplication:\", mul)\n",
        "\n",
        "div = x / y                      # division\n",
        "print(\"Division:\", div)\n",
        "\n",
        "remainder = x % y                # remainder\n",
        "print(\"Remainder:\", remainder)\n",
        "\n",
        "arr1 = [10, 20, 30, 40, 50]      # list 1\n",
        "arr2 = [5, 15, 25, 35, 45]       # list 2\n",
        "a = arr1 + arr2                  # concatenation\n",
        "print(\"List Concatenation:\", a)\n"
      ],
      "metadata": {
        "colab": {
          "base_uri": "https://localhost:8080/"
        },
        "id": "xzUtn4lXb0Y5",
        "outputId": "621f5858-7f6b-4fac-e1d6-1dd59fc2615d"
      },
      "execution_count": 30,
      "outputs": [
        {
          "output_type": "stream",
          "name": "stdout",
          "text": [
            "Addition: [11 22 43 54]\n",
            "Subtraction: [ 9 18 37 46]\n",
            "Multiplication: [ 10  40 120 200]\n",
            "Division: [10.         10.         13.33333333 12.5       ]\n",
            "Remainder: [0 0 1 2]\n",
            "List Concatenation: [10, 20, 30, 40, 50, 5, 15, 25, 35, 45]\n"
          ]
        }
      ]
    },
    {
      "cell_type": "code",
      "source": [],
      "metadata": {
        "id": "AMebJqNmb0Vo"
      },
      "execution_count": null,
      "outputs": []
    }
  ]
}