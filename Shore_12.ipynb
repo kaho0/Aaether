{
  "nbformat": 4,
  "nbformat_minor": 0,
  "metadata": {
    "colab": {
      "provenance": [],
      "authorship_tag": "ABX9TyOGGglnNpX5tGmL2wIeaDN6",
      "include_colab_link": true
    },
    "kernelspec": {
      "name": "python3",
      "display_name": "Python 3"
    },
    "language_info": {
      "name": "python"
    }
  },
  "cells": [
    {
      "cell_type": "markdown",
      "metadata": {
        "id": "view-in-github",
        "colab_type": "text"
      },
      "source": [
        "<a href=\"https://colab.research.google.com/github/kaho0/Abstract/blob/main/Shore_12.ipynb\" target=\"_parent\"><img src=\"https://colab.research.google.com/assets/colab-badge.svg\" alt=\"Open In Colab\"/></a>"
      ]
    },
    {
      "cell_type": "code",
      "execution_count": 3,
      "metadata": {
        "id": "voJJg2e3TGto"
      },
      "outputs": [],
      "source": [
        " import pandas as pd\n",
        "\n",
        " df=pd.read_csv('/content/drive/MyDrive/Datasets/student_data (1).csv')"
      ]
    },
    {
      "cell_type": "code",
      "source": [
        "print(df)\n",
        "print(type(df))"
      ],
      "metadata": {
        "id": "fsbsXJVBUq3n",
        "colab": {
          "base_uri": "https://localhost:8080/"
        },
        "outputId": "1a1de2b8-9d5c-448c-8f1f-d95792e22ff4"
      },
      "execution_count": 5,
      "outputs": [
        {
          "output_type": "stream",
          "name": "stdout",
          "text": [
            "   StudentID          FullName  Data Structure Marks  Algorithm Marks  \\\n",
            "0     PH1001       Alif Rahman                  85.0             85.0   \n",
            "1     PH1002     Fatima Akhter                  92.0             92.0   \n",
            "2     PH1003     Imran Hossain                  88.0             88.0   \n",
            "3     PH1004  Jannatul Ferdous                  78.0             78.0   \n",
            "4     PH1005       Kamal Uddin                   NaN              NaN   \n",
            "5     PH1006       Laila Begum                  75.0             75.0   \n",
            "6     PH1007    Mahmudul Hasan                  80.0             80.0   \n",
            "7     PH1008       Nadia Islam                  81.0             81.0   \n",
            "8     PH1009        Omar Faruq                  72.0             72.0   \n",
            "9     PH1010      Priya Sharma                  89.0             89.0   \n",
            "10    PH1011      Rahim Sheikh                   NaN              NaN   \n",
            "11    PH1012   Sadia Chowdhury                  85.0             85.0   \n",
            "12    PH1013      Tanvir Ahmed                  75.0             75.0   \n",
            "13    PH1014        Urmi Akter                   NaN              NaN   \n",
            "14    PH1015      Wahiduzzaman                  86.0             86.0   \n",
            "15    PH1016      Ziaur Rahman                  94.0             94.0   \n",
            "16    PH1017       Afsana Mimi                  90.0             90.0   \n",
            "17    PH1018       Babul Ahmed                  88.0             88.0   \n",
            "18    PH1019      Faria Rahman                   NaN              NaN   \n",
            "19    PH1020        Nasir Khan                  86.0             86.0   \n",
            "\n",
            "    Python Marks CompletionStatus EnrollmentDate Instructor    Location  \n",
            "0           88.0        Completed     2024-01-15  Mr. Karim       Dhaka  \n",
            "1            NaN      In Progress     2024-01-20  Ms. Salma  Chattogram  \n",
            "2           85.0        Completed     2024-02-10  Mr. Karim       Dhaka  \n",
            "3           82.0        Completed     2024-02-12  Ms. Salma      Sylhet  \n",
            "4           95.0      In Progress     2024-03-05  Mr. Karim  Chattogram  \n",
            "5           78.0        Completed     2024-03-08  Ms. Salma    Rajshahi  \n",
            "6            NaN      In Progress     2024-04-01  Mr. Karim       Dhaka  \n",
            "7           85.0        Completed     2024-04-22  Ms. Salma  Chattogram  \n",
            "8           76.0        Completed     2024-05-16  Mr. David       Dhaka  \n",
            "9           88.0        Completed     2024-05-20  Ms. Salma      Sylhet  \n",
            "10          91.0      In Progress     2024-06-11  Mr. Karim      Khulna  \n",
            "11          87.0        Completed     2024-06-14  Ms. Salma  Chattogram  \n",
            "12          79.0        Completed     2024-07-02  Mr. David       Dhaka  \n",
            "13           NaN      Not Started     2024-07-09  Ms. Salma    Rajshahi  \n",
            "14          84.0        Completed     2024-08-18  Mr. Karim       Dhaka  \n",
            "15           NaN      In Progress     2024-08-21  Ms. Salma  Chattogram  \n",
            "16          93.0        Completed     2025-09-01  Mr. Karim       Dhaka  \n",
            "17          85.0        Completed     2025-09-05  Ms. Salma      Sylhet  \n",
            "18           NaN      Not Started     2025-09-15  Mr. David  Chattogram  \n",
            "19          89.0        Completed     2025-10-02  Ms. Salma       Dhaka  \n",
            "<class 'pandas.core.frame.DataFrame'>\n"
          ]
        }
      ]
    },
    {
      "cell_type": "code",
      "source": [
        "student_id=df['StudentID']\n",
        "print(student_id)"
      ],
      "metadata": {
        "colab": {
          "base_uri": "https://localhost:8080/"
        },
        "id": "UwEGJsBHWX-X",
        "outputId": "c77632a5-d082-4b0d-87e4-d66a194116fb"
      },
      "execution_count": 6,
      "outputs": [
        {
          "output_type": "stream",
          "name": "stdout",
          "text": [
            "0     PH1001\n",
            "1     PH1002\n",
            "2     PH1003\n",
            "3     PH1004\n",
            "4     PH1005\n",
            "5     PH1006\n",
            "6     PH1007\n",
            "7     PH1008\n",
            "8     PH1009\n",
            "9     PH1010\n",
            "10    PH1011\n",
            "11    PH1012\n",
            "12    PH1013\n",
            "13    PH1014\n",
            "14    PH1015\n",
            "15    PH1016\n",
            "16    PH1017\n",
            "17    PH1018\n",
            "18    PH1019\n",
            "19    PH1020\n",
            "Name: StudentID, dtype: object\n"
          ]
        }
      ]
    },
    {
      "cell_type": "code",
      "source": [
        "#csv file\n",
        "\n",
        "csv_data=pd.read_csv('/content/drive/MyDrive/Datasets/student_data (1).csv')\n",
        "print(csv_data)"
      ],
      "metadata": {
        "colab": {
          "base_uri": "https://localhost:8080/"
        },
        "id": "yX5SM4PDXHgP",
        "outputId": "a7fe08d7-5383-4338-974c-7e8b38a89cd1"
      },
      "execution_count": 7,
      "outputs": [
        {
          "output_type": "stream",
          "name": "stdout",
          "text": [
            "   StudentID          FullName  Data Structure Marks  Algorithm Marks  \\\n",
            "0     PH1001       Alif Rahman                  85.0             85.0   \n",
            "1     PH1002     Fatima Akhter                  92.0             92.0   \n",
            "2     PH1003     Imran Hossain                  88.0             88.0   \n",
            "3     PH1004  Jannatul Ferdous                  78.0             78.0   \n",
            "4     PH1005       Kamal Uddin                   NaN              NaN   \n",
            "5     PH1006       Laila Begum                  75.0             75.0   \n",
            "6     PH1007    Mahmudul Hasan                  80.0             80.0   \n",
            "7     PH1008       Nadia Islam                  81.0             81.0   \n",
            "8     PH1009        Omar Faruq                  72.0             72.0   \n",
            "9     PH1010      Priya Sharma                  89.0             89.0   \n",
            "10    PH1011      Rahim Sheikh                   NaN              NaN   \n",
            "11    PH1012   Sadia Chowdhury                  85.0             85.0   \n",
            "12    PH1013      Tanvir Ahmed                  75.0             75.0   \n",
            "13    PH1014        Urmi Akter                   NaN              NaN   \n",
            "14    PH1015      Wahiduzzaman                  86.0             86.0   \n",
            "15    PH1016      Ziaur Rahman                  94.0             94.0   \n",
            "16    PH1017       Afsana Mimi                  90.0             90.0   \n",
            "17    PH1018       Babul Ahmed                  88.0             88.0   \n",
            "18    PH1019      Faria Rahman                   NaN              NaN   \n",
            "19    PH1020        Nasir Khan                  86.0             86.0   \n",
            "\n",
            "    Python Marks CompletionStatus EnrollmentDate Instructor    Location  \n",
            "0           88.0        Completed     2024-01-15  Mr. Karim       Dhaka  \n",
            "1            NaN      In Progress     2024-01-20  Ms. Salma  Chattogram  \n",
            "2           85.0        Completed     2024-02-10  Mr. Karim       Dhaka  \n",
            "3           82.0        Completed     2024-02-12  Ms. Salma      Sylhet  \n",
            "4           95.0      In Progress     2024-03-05  Mr. Karim  Chattogram  \n",
            "5           78.0        Completed     2024-03-08  Ms. Salma    Rajshahi  \n",
            "6            NaN      In Progress     2024-04-01  Mr. Karim       Dhaka  \n",
            "7           85.0        Completed     2024-04-22  Ms. Salma  Chattogram  \n",
            "8           76.0        Completed     2024-05-16  Mr. David       Dhaka  \n",
            "9           88.0        Completed     2024-05-20  Ms. Salma      Sylhet  \n",
            "10          91.0      In Progress     2024-06-11  Mr. Karim      Khulna  \n",
            "11          87.0        Completed     2024-06-14  Ms. Salma  Chattogram  \n",
            "12          79.0        Completed     2024-07-02  Mr. David       Dhaka  \n",
            "13           NaN      Not Started     2024-07-09  Ms. Salma    Rajshahi  \n",
            "14          84.0        Completed     2024-08-18  Mr. Karim       Dhaka  \n",
            "15           NaN      In Progress     2024-08-21  Ms. Salma  Chattogram  \n",
            "16          93.0        Completed     2025-09-01  Mr. Karim       Dhaka  \n",
            "17          85.0        Completed     2025-09-05  Ms. Salma      Sylhet  \n",
            "18           NaN      Not Started     2025-09-15  Mr. David  Chattogram  \n",
            "19          89.0        Completed     2025-10-02  Ms. Salma       Dhaka  \n"
          ]
        }
      ]
    },
    {
      "cell_type": "code",
      "source": [
        "#excel file\n",
        "\n",
        "excel_file=pd.read_excel('/content/drive/MyDrive/Datasets/phitron_student_marks.xlsx')\n",
        "print(excel_file)"
      ],
      "metadata": {
        "colab": {
          "base_uri": "https://localhost:8080/"
        },
        "id": "LWIOUma4YH_k",
        "outputId": "d085b78f-9d6a-41f0-83f5-54f3e59acd06"
      },
      "execution_count": 9,
      "outputs": [
        {
          "output_type": "stream",
          "name": "stdout",
          "text": [
            "   StudentID          FullName  Data Structure Marks  Algorithm Marks  \\\n",
            "0     PH1001       Alif Rahman                  85.0             85.0   \n",
            "1     PH1002     Fatima Akhter                  92.0             92.0   \n",
            "2     PH1003     Imran Hossain                  88.0             88.0   \n",
            "3     PH1004  Jannatul Ferdous                  78.0             78.0   \n",
            "4     PH1005       Kamal Uddin                   NaN              NaN   \n",
            "5     PH1006       Laila Begum                  75.0             75.0   \n",
            "6     PH1007    Mahmudul Hasan                  80.0             80.0   \n",
            "7     PH1008       Nadia Islam                  81.0             81.0   \n",
            "8     PH1009        Omar Faruq                  72.0             72.0   \n",
            "9     PH1010      Priya Sharma                  89.0             89.0   \n",
            "10    PH1011      Rahim Sheikh                   NaN              NaN   \n",
            "11    PH1012   Sadia Chowdhury                  85.0             85.0   \n",
            "12    PH1013      Tanvir Ahmed                  75.0             75.0   \n",
            "13    PH1014        Urmi Akter                   NaN              NaN   \n",
            "14    PH1015      Wahiduzzaman                  86.0             86.0   \n",
            "15    PH1016      Ziaur Rahman                  94.0             94.0   \n",
            "16    PH1017       Afsana Mimi                  90.0             90.0   \n",
            "17    PH1018       Babul Ahmed                  88.0             88.0   \n",
            "18    PH1019      Faria Rahman                   NaN              NaN   \n",
            "19    PH1020        Nasir Khan                  86.0             86.0   \n",
            "\n",
            "    Python Marks CompletionStatus EnrollmentDate Instructor    Location  \n",
            "0           88.0        Completed     2024-01-15  Mr. Karim       Dhaka  \n",
            "1            NaN      In Progress     2024-01-20  Ms. Salma  Chattogram  \n",
            "2           85.0        Completed     2024-02-10  Mr. Karim       Dhaka  \n",
            "3           82.0        Completed     2024-02-12  Ms. Salma      Sylhet  \n",
            "4           95.0      In Progress     2024-03-05  Mr. Karim  Chattogram  \n",
            "5           78.0        Completed     2024-03-08  Ms. Salma    Rajshahi  \n",
            "6            NaN      In Progress     2024-04-01  Mr. Karim       Dhaka  \n",
            "7           85.0        Completed     2024-04-22  Ms. Salma  Chattogram  \n",
            "8           76.0        Completed     2024-05-16  Mr. David       Dhaka  \n",
            "9           88.0        Completed     2024-05-20  Ms. Salma      Sylhet  \n",
            "10          91.0      In Progress     2024-06-11  Mr. Karim      Khulna  \n",
            "11          87.0        Completed     2024-06-14  Ms. Salma  Chattogram  \n",
            "12          79.0        Completed     2024-07-02  Mr. David       Dhaka  \n",
            "13           NaN      Not Started     2024-07-09  Ms. Salma    Rajshahi  \n",
            "14          84.0        Completed     2024-08-18  Mr. Karim       Dhaka  \n",
            "15           NaN      In Progress     2024-08-21  Ms. Salma  Chattogram  \n",
            "16          93.0        Completed     2025-09-01  Mr. Karim       Dhaka  \n",
            "17          85.0        Completed     2025-09-05  Ms. Salma      Sylhet  \n",
            "18           NaN      Not Started     2025-09-15  Mr. David  Chattogram  \n",
            "19          89.0        Completed     2025-10-02  Ms. Salma       Dhaka  \n"
          ]
        }
      ]
    },
    {
      "cell_type": "code",
      "source": [
        "#parquet file\n",
        "\n",
        "parquet_file=pd.read_parquet('/content/drive/MyDrive/Datasets/students.parquet')\n",
        "print(parquet_file)"
      ],
      "metadata": {
        "colab": {
          "base_uri": "https://localhost:8080/"
        },
        "id": "WMx6FOECYasV",
        "outputId": "f5f8a7a2-6c8a-4a28-a66f-2f238925343c"
      },
      "execution_count": 10,
      "outputs": [
        {
          "output_type": "stream",
          "name": "stdout",
          "text": [
            "   StudentID          FullName  Data Structure Marks  Algorithm Marks  \\\n",
            "0     PH1001       Alif Rahman                  85.0             85.0   \n",
            "1     PH1002     Fatima Akhter                  92.0             92.0   \n",
            "2     PH1003     Imran Hossain                  88.0             88.0   \n",
            "3     PH1004  Jannatul Ferdous                  78.0             78.0   \n",
            "4     PH1005       Kamal Uddin                   NaN              NaN   \n",
            "5     PH1006       Laila Begum                  75.0             75.0   \n",
            "6     PH1007    Mahmudul Hasan                  80.0             80.0   \n",
            "7     PH1008       Nadia Islam                  81.0             81.0   \n",
            "8     PH1009        Omar Faruq                  72.0             72.0   \n",
            "9     PH1010      Priya Sharma                  89.0             89.0   \n",
            "10    PH1011      Rahim Sheikh                   NaN              NaN   \n",
            "11    PH1012   Sadia Chowdhury                  85.0             85.0   \n",
            "12    PH1013      Tanvir Ahmed                  75.0             75.0   \n",
            "13    PH1014        Urmi Akter                   NaN              NaN   \n",
            "14    PH1015      Wahiduzzaman                  86.0             86.0   \n",
            "15    PH1016      Ziaur Rahman                  94.0             94.0   \n",
            "16    PH1017       Afsana Mimi                  90.0             90.0   \n",
            "17    PH1018       Babul Ahmed                  88.0             88.0   \n",
            "18    PH1019      Faria Rahman                   NaN              NaN   \n",
            "19    PH1020        Nasir Khan                  86.0             86.0   \n",
            "\n",
            "    Python Marks CompletionStatus EnrollmentDate Instructor    Location  \n",
            "0           88.0        Completed     2024-01-15  Mr. Karim       Dhaka  \n",
            "1            NaN      In Progress     2024-01-20  Ms. Salma  Chattogram  \n",
            "2           85.0        Completed     2024-02-10  Mr. Karim       Dhaka  \n",
            "3           82.0        Completed     2024-02-12  Ms. Salma      Sylhet  \n",
            "4           95.0      In Progress     2024-03-05  Mr. Karim  Chattogram  \n",
            "5           78.0        Completed     2024-03-08  Ms. Salma    Rajshahi  \n",
            "6            NaN      In Progress     2024-04-01  Mr. Karim       Dhaka  \n",
            "7           85.0        Completed     2024-04-22  Ms. Salma  Chattogram  \n",
            "8           76.0        Completed     2024-05-16  Mr. David       Dhaka  \n",
            "9           88.0        Completed     2024-05-20  Ms. Salma      Sylhet  \n",
            "10          91.0      In Progress     2024-06-11  Mr. Karim      Khulna  \n",
            "11          87.0        Completed     2024-06-14  Ms. Salma  Chattogram  \n",
            "12          79.0        Completed     2024-07-02  Mr. David       Dhaka  \n",
            "13           NaN      Not Started     2024-07-09  Ms. Salma    Rajshahi  \n",
            "14          84.0        Completed     2024-08-18  Mr. Karim       Dhaka  \n",
            "15           NaN      In Progress     2024-08-21  Ms. Salma  Chattogram  \n",
            "16          93.0        Completed     2025-09-01  Mr. Karim       Dhaka  \n",
            "17          85.0        Completed     2025-09-05  Ms. Salma      Sylhet  \n",
            "18           NaN      Not Started     2025-09-15  Mr. David  Chattogram  \n",
            "19          89.0        Completed     2025-10-02  Ms. Salma       Dhaka  \n"
          ]
        }
      ]
    },
    {
      "cell_type": "code",
      "source": [
        "#json file\n",
        "\n",
        "json_file=pd.read_json('/content/drive/MyDrive/Datasets/data.json')\n",
        "print(json_file)\n",
        "print(type(json_file))"
      ],
      "metadata": {
        "colab": {
          "base_uri": "https://localhost:8080/"
        },
        "id": "4ZpDqkf0Y8nq",
        "outputId": "e807ba71-06c3-47f3-91d8-d6a751a0705e"
      },
      "execution_count": 12,
      "outputs": [
        {
          "output_type": "stream",
          "name": "stdout",
          "text": [
            "  StudentID          FullName  Data Structure Marks  Algorithm Marks  \\\n",
            "0    PH1001       Alif Rahman                    85               85   \n",
            "1    PH1002     Fatima Akhter                    92               92   \n",
            "2    PH1004  Jannatul Ferdous                    78               78   \n",
            "\n",
            "   Python Marks  \n",
            "0            88  \n",
            "1            90  \n",
            "2            82  \n",
            "<class 'pandas.core.frame.DataFrame'>\n"
          ]
        }
      ]
    }
  ]
}