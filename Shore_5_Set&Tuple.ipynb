{
  "cells": [
    {
      "cell_type": "markdown",
      "metadata": {
        "colab_type": "text",
        "id": "view-in-github"
      },
      "source": [
        "<a href=\"https://colab.research.google.com/github/kaho0/SandBox/blob/main/Shore_5_Set%26Tuple.ipynb\" target=\"_parent\"><img src=\"https://colab.research.google.com/assets/colab-badge.svg\" alt=\"Open In Colab\"/></a>\n"
      ]
    },
    {
      "cell_type": "markdown",
      "metadata": {
        "id": "YMofxnb4joWV"
      },
      "source": [
        "# **Tuple**\n"
      ]
    },
    {
      "cell_type": "code",
      "execution_count": null,
      "metadata": {
        "colab": {
          "base_uri": "https://localhost:8080/"
        },
        "id": "1WSmb9OzjQHA",
        "outputId": "6e864a59-bc01-4cdf-a640-6dfc98edef7f"
      },
      "outputs": [
        {
          "name": "stdout",
          "output_type": "stream",
          "text": [
            "<class 'tuple'>\n",
            "<class 'tuple'>\n",
            "<class 'int'> 10\n",
            "<class 'tuple'> (10,)\n",
            "<class 'tuple'> (10,)\n",
            "<class 'tuple'> (10, 20, 50)\n"
          ]
        }
      ],
      "source": [
        "tpl=(10,20,30,40)\n",
        "print(type(tpl))\n",
        "\n",
        "flt_tpl=(10.33,50,44.544)\n",
        "print(type(flt_tpl))\n",
        "\n",
        "tup1=(10)\n",
        "print(type(tup1),tup1)\n",
        "\n",
        "##if we want one value but in tuple\n",
        "tup2=(10,)\n",
        "print(type(tup2),tup2)\n",
        "tup3=tuple([10])\n",
        "print(type(tup3),tup3)\n",
        "##converting list into tuples\n",
        "\n",
        "lst=[10,20,50]\n",
        "tpl_lst=tuple(lst)\n",
        "print(type(tpl_lst),tpl_lst)"
      ]
    },
    {
      "cell_type": "markdown",
      "metadata": {
        "id": "Md1LNSbtlkor"
      },
      "source": [
        "**Acess in tuple**\n"
      ]
    },
    {
      "cell_type": "code",
      "execution_count": 50,
      "metadata": {
        "colab": {
          "base_uri": "https://localhost:8080/"
        },
        "id": "0zTEQMuzlpr9",
        "outputId": "d9742c82-0323-442b-991a-1c2cf5e2ca12"
      },
      "outputs": [
        {
          "name": "stdout",
          "output_type": "stream",
          "text": [
            "False\n",
            "(10, 20, 30, 10.5, 'str', False)\n"
          ]
        }
      ],
      "source": [
        "tup = ( 10 , 20 , 30 , 10.5 , \"str\" , False )\n",
        "\n",
        "#index\n",
        "print(tup[5])\n",
        "\n",
        "# slicing\n",
        "\n",
        "new_tup = tup[0:6]\n",
        "print(new_tup)"
      ]
    },
    {
      "cell_type": "markdown",
      "metadata": {
        "id": "0xGraptMmRt0"
      },
      "source": [
        "**List VS Tuple**\n"
      ]
    },
    {
      "cell_type": "code",
      "execution_count": 51,
      "metadata": {
        "colab": {
          "base_uri": "https://localhost:8080/"
        },
        "id": "JDQ7y0TJmUv_",
        "outputId": "d02ac1b6-e6bc-479d-a47f-04ccc99900b7"
      },
      "outputs": [
        {
          "name": "stdout",
          "output_type": "stream",
          "text": [
            "[10, 100, 30, 40, 60]\n"
          ]
        }
      ],
      "source": [
        "# mutable\n",
        "\n",
        "lst = [ 10 , 20 , 30 , 40 ]\n",
        "lst.append(60)\n",
        "lst[1] = 100\n",
        "print(lst)\n",
        "\n",
        "# immutable\n",
        "tup= ( 10 , 20 , 30 , 40 )\n",
        "tup[1]= 100\n",
        "print(tup)"
      ]
    },
    {
      "cell_type": "code",
      "execution_count": 52,
      "metadata": {
        "colab": {
          "base_uri": "https://localhost:8080/"
        },
        "id": "Jym143uhml8j",
        "outputId": "d3699ab4-4709-41ed-9bd0-a12add166d9a"
      },
      "outputs": [
        {
          "name": "stdout",
          "output_type": "stream",
          "text": [
            "2\n",
            "3\n"
          ]
        }
      ],
      "source": [
        "# tuple method\n",
        "tup= ( 10 , 20 , 30 , 40 , 10 , 20 , 30 ,10 )\n",
        "\n",
        "print(tup.count(20))\n",
        "print(tup.index(40))\n"
      ]
    },
    {
      "cell_type": "markdown",
      "metadata": {
        "id": "lWarrgpenEzr"
      },
      "source": [
        "# **SET**\n"
      ]
    },
    {
      "cell_type": "code",
      "execution_count": 53,
      "metadata": {
        "colab": {
          "base_uri": "https://localhost:8080/"
        },
        "id": "WjMY-E1znIHG",
        "outputId": "3b515bd1-3b8f-4f06-c26f-b234c0fda919"
      },
      "outputs": [
        {
          "name": "stdout",
          "output_type": "stream",
          "text": [
            "<class 'set'> {1, 2, 3}\n"
          ]
        }
      ],
      "source": [
        " A = { 1, 2 , 3 }\n",
        "\n",
        "print(type(A) , A )"
      ]
    },
    {
      "cell_type": "markdown",
      "metadata": {
        "id": "BR1aL0han73i"
      },
      "source": [
        "**empty structures**\n"
      ]
    },
    {
      "cell_type": "code",
      "execution_count": 54,
      "metadata": {
        "colab": {
          "base_uri": "https://localhost:8080/"
        },
        "id": "sWBBcJjKnvoQ",
        "outputId": "090f571b-56c4-468a-db07-444879af9400"
      },
      "outputs": [
        {
          "name": "stdout",
          "output_type": "stream",
          "text": [
            "<class 'list'>\n",
            "<class 'tuple'>\n",
            "<class 'dict'>\n",
            "<class 'set'>\n"
          ]
        }
      ],
      "source": [
        "B = []\n",
        "\n",
        "print(type(B))\n",
        "\n",
        "C= ()\n",
        "\n",
        "print(type(C))\n",
        "\n",
        "D={}\n",
        "print(type(D))\n",
        "\n",
        "S = set()\n",
        "\n",
        "print(type(S))"
      ]
    },
    {
      "cell_type": "code",
      "execution_count": 55,
      "metadata": {
        "colab": {
          "base_uri": "https://localhost:8080/"
        },
        "id": "DxpJ5pEvoeYM",
        "outputId": "f28fbdb9-839b-47e6-bcea-fea0c83ce69f"
      },
      "outputs": [
        {
          "name": "stdout",
          "output_type": "stream",
          "text": [
            "yes\n",
            "1\n",
            "2\n",
            "3\n",
            "5\n",
            "6\n"
          ]
        }
      ],
      "source": [
        "Aset={1,2,3,5,6,1,2}\n",
        "if 3 in Aset:\n",
        "  print(\"yes\")\n",
        "else:\n",
        "  print(\"no\")\n",
        "for element in Aset:\n",
        "  print(element)\n"
      ]
    },
    {
      "cell_type": "code",
      "execution_count": 56,
      "metadata": {
        "colab": {
          "base_uri": "https://localhost:8080/"
        },
        "id": "ZWUe_NJTpUdM",
        "outputId": "77941b12-4e0f-4bc7-fb17-a10f9c6222c2"
      },
      "outputs": [
        {
          "name": "stdout",
          "output_type": "stream",
          "text": [
            "17\n"
          ]
        }
      ],
      "source": [
        "sum=0\n",
        "for element in Aset:\n",
        "  sum+=element\n",
        "print(sum)"
      ]
    },
    {
      "cell_type": "code",
      "execution_count": 60,
      "metadata": {
        "colab": {
          "base_uri": "https://localhost:8080/"
        },
        "id": "aOUdx4I1pe6L",
        "outputId": "6888d7b1-8cf3-44d4-ecb5-ad57b0346490"
      },
      "outputs": [
        {
          "name": "stdout",
          "output_type": "stream",
          "text": [
            "{2, 3, 20, 5, 6, 10}\n",
            "{3, 20, 5, 6, 10}\n"
          ]
        }
      ],
      "source": [
        "Aset.add(20)\n",
        "Aset.add(10)\n",
        "\n",
        "print(Aset)\n",
        "Aset.pop()"
      ]
    },
    {
      "cell_type": "code",
      "execution_count": 71,
      "metadata": {
        "colab": {
          "base_uri": "https://localhost:8080/"
        },
        "id": "dhMXzz_PrOf6",
        "outputId": "01b11cfa-d730-4eb4-b778-119182356491"
      },
      "outputs": [
        {
          "name": "stdout",
          "output_type": "stream",
          "text": [
            "Set after adding elements: {1, 2, 3, 20, 5, 6, 10}\n",
            "Popped element: 1\n",
            "Set after pop: {2, 3, 20, 5, 6, 10}\n",
            "Set after remove(5): {2, 3, 20, 6, 10}\n"
          ]
        }
      ],
      "source": [
        "# Create a set with some initial elements\n",
        "Aset = {1, 2, 3, 5, 6}\n",
        "\n",
        "# Add elements to the set\n",
        "Aset.add(20)\n",
        "Aset.add(10)\n",
        "\n",
        "# Print the set\n",
        "# Sets are unordered collections.\n",
        "# Elements may not appear in the order they were added.\n",
        "print(\"Set after adding elements:\", Aset)\n",
        "\n",
        "# Pop an element\n",
        "# In a set, pop() removes an **arbitrary element**,\n",
        "# usually the \"first\" element based on internal hashing,\n",
        "# NOT necessarily the element that was added first.\n",
        "popped_element = Aset.pop()\n",
        "print(\"Popped element:\", popped_element)\n",
        "print(\"Set after pop:\", Aset)\n",
        "\n",
        "# Remove a specific element\n",
        "# remove() removes the **element you specify**.\n",
        "# If the element doesn't exist, it raises a KeyError.\n",
        "Aset.remove(5)\n",
        "print(\"Set after remove(5):\", Aset)\n"
      ]
    },
    {
      "cell_type": "markdown",
      "metadata": {
        "id": "KBeyWMFGsg0j"
      },
      "source": [
        "**Comparison with LIST STACK QUEUE**\n"
      ]
    },
    {
      "cell_type": "code",
      "execution_count": 72,
      "metadata": {
        "colab": {
          "base_uri": "https://localhost:8080/"
        },
        "id": "H8DbiQeXsecL",
        "outputId": "38a3a128-1a17-49bb-de02-8b112a291c76"
      },
      "outputs": [
        {
          "name": "stdout",
          "output_type": "stream",
          "text": [
            "Original List: [1, 2, 3, 4]\n",
            "List after pop() from end: [1, 2, 3]\n",
            "List after pop(0) from front: [2, 3]\n"
          ]
        }
      ],
      "source": [
        "# 1. List\n",
        "my_list = [1, 2, 3, 4]\n",
        "print(\"Original List:\", my_list)\n",
        "\n",
        "# Remove from end (default behavior of pop)\n",
        "my_list.pop()\n",
        "print(\"List after pop() from end:\", my_list)\n",
        "\n",
        "# Remove from front (index 0)\n",
        "my_list.pop(0)\n",
        "print(\"List after pop(0) from front:\", my_list)\n"
      ]
    },
    {
      "cell_type": "code",
      "execution_count": 74,
      "metadata": {
        "colab": {
          "base_uri": "https://localhost:8080/"
        },
        "id": "Ph7F0KcrsuRf",
        "outputId": "5a51228f-a72e-43b0-ce98-50aac40fe7cf"
      },
      "outputs": [
        {
          "name": "stdout",
          "output_type": "stream",
          "text": [
            "\n",
            "Original Queue: deque([1, 2, 3, 4])\n",
            "Queue after popleft() from front: deque([2, 3, 4])\n",
            "Queue after pop() from back: deque([2, 3])\n"
          ]
        }
      ],
      "source": [
        "# 2. Queue (FIFO) using collections.deque\n",
        "from collections import deque\n",
        "\n",
        "my_queue = deque([1, 2, 3, 4])\n",
        "print(\"\\nOriginal Queue:\", my_queue)\n",
        "\n",
        "# Remove from front\n",
        "my_queue.popleft()\n",
        "print(\"Queue after popleft() from front:\", my_queue)\n",
        "# Remove from back\n",
        "my_queue.pop()\n",
        "print(\"Queue after pop() from back:\", my_queue)\n"
      ]
    },
    {
      "cell_type": "code",
      "execution_count": 75,
      "metadata": {
        "colab": {
          "base_uri": "https://localhost:8080/"
        },
        "id": "qC8v_ioBs5Un",
        "outputId": "bc400e8b-d2ed-4f4a-b838-fc5ba2f4578b"
      },
      "outputs": [
        {
          "name": "stdout",
          "output_type": "stream",
          "text": [
            "\n",
            "Original Stack: [1, 2, 3, 4]\n",
            "Stack after pop() from top/end: [1, 2, 3]\n"
          ]
        }
      ],
      "source": [
        "# 3. Stack (LIFO) using list\n",
        "my_stack = [1, 2, 3, 4]\n",
        "print(\"\\nOriginal Stack:\", my_stack)\n",
        "\n",
        "# Remove from top/end\n",
        "my_stack.pop()\n",
        "print(\"Stack after pop() from top/end:\", my_stack)"
      ]
    },
    {
      "cell_type": "markdown",
      "metadata": {
        "id": "mh0nyQxFtCmQ"
      },
      "source": [
        "**Set Mathematical Methods**\n"
      ]
    },
    {
      "cell_type": "code",
      "execution_count": 79,
      "metadata": {
        "colab": {
          "base_uri": "https://localhost:8080/"
        },
        "id": "Kq1GUOmstE3q",
        "outputId": "95892a6a-0055-4f9d-bd17-3b070a7daa3b"
      },
      "outputs": [
        {
          "name": "stdout",
          "output_type": "stream",
          "text": [
            "{1, 2, 3, 4, 5, 6}\n",
            "{1, 2}\n",
            "False\n",
            "True\n",
            "False\n"
          ]
        }
      ],
      "source": [
        "a = { 1, 2, 3 }\n",
        "b = {1, 2 ,5,6, 4 }\n",
        "c={10,20,30}\n",
        "print( a.union(b) )\n",
        "\n",
        "print(a.intersection(b))\n",
        "\n",
        "\n",
        "print(a.isdisjoint(b))\n",
        "print(a.isdisjoint(c))\n",
        "\n",
        "print(a.issubset(b))"
      ]
    }
  ],
  "metadata": {
    "colab": {
      "authorship_tag": "ABX9TyPuPrYkYe+4CEsYkYapQKM+",
      "include_colab_link": true,
      "provenance": []
    },
    "kernelspec": {
      "display_name": "Python 3",
      "name": "python3"
    },
    "language_info": {
      "name": "python"
    }
  },
  "nbformat": 4,
  "nbformat_minor": 0
}
