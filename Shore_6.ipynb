{
  "nbformat": 4,
  "nbformat_minor": 0,
  "metadata": {
    "colab": {
      "provenance": [],
      "authorship_tag": "ABX9TyO99mJmC8/FoWwwXVfJeww4",
      "include_colab_link": true
    },
    "kernelspec": {
      "name": "python3",
      "display_name": "Python 3"
    },
    "language_info": {
      "name": "python"
    }
  },
  "cells": [
    {
      "cell_type": "markdown",
      "metadata": {
        "id": "view-in-github",
        "colab_type": "text"
      },
      "source": [
        "<a href=\"https://colab.research.google.com/github/kaho0/SandBox/blob/main/Shore_6ipynb.ipynb\" target=\"_parent\"><img src=\"https://colab.research.google.com/assets/colab-badge.svg\" alt=\"Open In Colab\"/></a>"
      ]
    },
    {
      "cell_type": "markdown",
      "source": [
        "**Functions**"
      ],
      "metadata": {
        "id": "a_WQk_bM7GOa"
      }
    },
    {
      "cell_type": "code",
      "execution_count": 43,
      "metadata": {
        "id": "aB67EpS_5bii"
      },
      "outputs": [],
      "source": [
        "def greet():\n",
        "  print(\"Hello\")"
      ]
    },
    {
      "cell_type": "code",
      "source": [
        "greet()"
      ],
      "metadata": {
        "colab": {
          "base_uri": "https://localhost:8080/"
        },
        "id": "LgcdJQ2t7Nmg",
        "outputId": "bd06522e-3951-4884-c492-a91898730833"
      },
      "execution_count": 44,
      "outputs": [
        {
          "output_type": "stream",
          "name": "stdout",
          "text": [
            "Hello\n"
          ]
        }
      ]
    },
    {
      "cell_type": "markdown",
      "source": [
        "**Function with Parameter**"
      ],
      "metadata": {
        "id": "vYUcczmH7Qua"
      }
    },
    {
      "cell_type": "code",
      "source": [
        "def greet(user=\"Alice\"):\n",
        "  print(\"Hello\",user)\n",
        "greet(\"Kahon\")"
      ],
      "metadata": {
        "colab": {
          "base_uri": "https://localhost:8080/"
        },
        "id": "DbV5vNnb7QV9",
        "outputId": "0d566a37-c67e-4db1-e7ae-639756d519ae"
      },
      "execution_count": 45,
      "outputs": [
        {
          "output_type": "stream",
          "name": "stdout",
          "text": [
            "Hello Kahon\n"
          ]
        }
      ]
    },
    {
      "cell_type": "code",
      "source": [
        "def sq_ad(num1,num2):\n",
        "  print(f\"{num1},{num2}\")\n",
        "  a=num1**2\n",
        "  b=num2**2\n",
        "  return a+b"
      ],
      "metadata": {
        "id": "1jkz3bcN7mWi"
      },
      "execution_count": 46,
      "outputs": []
    },
    {
      "cell_type": "code",
      "source": [
        "ans=sq_ad(2,3)+10\n",
        "print(ans)\n",
        "##positional arguement"
      ],
      "metadata": {
        "colab": {
          "base_uri": "https://localhost:8080/"
        },
        "id": "Zt-H7FgX75Fu",
        "outputId": "6573aaec-6a8e-4c47-c43a-beb0da7f59ad"
      },
      "execution_count": 47,
      "outputs": [
        {
          "output_type": "stream",
          "name": "stdout",
          "text": [
            "2,3\n",
            "23\n"
          ]
        }
      ]
    },
    {
      "cell_type": "code",
      "source": [
        "#keyword arguement\n",
        "ans2=sq_ad(num2=30,num1=20)\n",
        "print(ans2)"
      ],
      "metadata": {
        "colab": {
          "base_uri": "https://localhost:8080/"
        },
        "id": "mT8X3E6r8eJz",
        "outputId": "2f8e3c64-aba4-48ac-e8d3-5be1727e60dd"
      },
      "execution_count": 48,
      "outputs": [
        {
          "output_type": "stream",
          "name": "stdout",
          "text": [
            "20,30\n",
            "1300\n"
          ]
        }
      ]
    },
    {
      "cell_type": "code",
      "source": [
        "def sq(*args):\n",
        " for i in args:\n",
        "  print(i)\n",
        "\n",
        "ans=sq(1,2,3,4,5)\n",
        "print(ans)\n",
        "\n"
      ],
      "metadata": {
        "colab": {
          "base_uri": "https://localhost:8080/"
        },
        "id": "JdcxKYY38xNj",
        "outputId": "c5d90cf1-ebbc-413a-c165-97d0639e0c32"
      },
      "execution_count": 49,
      "outputs": [
        {
          "output_type": "stream",
          "name": "stdout",
          "text": [
            "1\n",
            "2\n",
            "3\n",
            "4\n",
            "5\n",
            "None\n"
          ]
        }
      ]
    },
    {
      "cell_type": "code",
      "source": [
        "def square_ad(*args):\n",
        "  sum=0\n",
        "  for i in args:\n",
        "    i=i**2\n",
        "    sum+=i\n",
        "  return sum\n",
        "\n",
        "ans=square_ad(1,2,3,4,5)\n",
        "print(ans)"
      ],
      "metadata": {
        "colab": {
          "base_uri": "https://localhost:8080/"
        },
        "id": "SY_ESEcU9LRA",
        "outputId": "199401cc-95e2-4ce9-b8e8-6e5cca26a0a9"
      },
      "execution_count": 50,
      "outputs": [
        {
          "output_type": "stream",
          "name": "stdout",
          "text": [
            "55\n"
          ]
        }
      ]
    },
    {
      "cell_type": "code",
      "source": [
        "def student(**kargs):\n",
        "  for key,val in kargs.items():\n",
        "    print(f\"{key} : {val}\")\n",
        "\n",
        "student(name=\"Alice\",age=20,grade=\"A\")\n"
      ],
      "metadata": {
        "colab": {
          "base_uri": "https://localhost:8080/"
        },
        "id": "fwWMUvGg9q2s",
        "outputId": "fd91f510-dc0b-4df4-8fd9-d16def0f921c"
      },
      "execution_count": 51,
      "outputs": [
        {
          "output_type": "stream",
          "name": "stdout",
          "text": [
            "name : Alice\n",
            "age : 20\n",
            "grade : A\n"
          ]
        }
      ]
    },
    {
      "cell_type": "code",
      "source": [
        "def give_p(a):\n",
        "  return a\n",
        "type(give_p(10))"
      ],
      "metadata": {
        "colab": {
          "base_uri": "https://localhost:8080/"
        },
        "id": "kGGQU-12-fC7",
        "outputId": "6aef324b-2835-49f9-9e6e-a9fa61414520"
      },
      "execution_count": 52,
      "outputs": [
        {
          "output_type": "execute_result",
          "data": {
            "text/plain": [
              "int"
            ]
          },
          "metadata": {},
          "execution_count": 52
        }
      ]
    },
    {
      "cell_type": "code",
      "source": [
        "def arr():\n",
        "  arr=[1,2,3]\n",
        "  arr2=[5,6,7]\n",
        "  return arr,arr2\n",
        "\n",
        "a,b=arr()\n",
        "print(a,b)"
      ],
      "metadata": {
        "colab": {
          "base_uri": "https://localhost:8080/"
        },
        "id": "DU_2Zhrn-yGi",
        "outputId": "cdf3ebee-c014-4af1-d67a-92bb9792a434"
      },
      "execution_count": 53,
      "outputs": [
        {
          "output_type": "stream",
          "name": "stdout",
          "text": [
            "[1, 2, 3] [5, 6, 7]\n"
          ]
        }
      ]
    },
    {
      "cell_type": "code",
      "source": [
        "from re import A\n",
        "def give_pred():\n",
        "  a={1,2,3}\n",
        "  b=[20,40,44]\n",
        "  return a,b\n",
        "\n",
        "x=give_pred()\n",
        "print(type(x))\n",
        "\n",
        "for item in x:\n",
        "  print(item)"
      ],
      "metadata": {
        "colab": {
          "base_uri": "https://localhost:8080/"
        },
        "id": "R6chD9v1_YbF",
        "outputId": "189121fb-bd35-4e97-cbcd-175f44ed35bd"
      },
      "execution_count": 54,
      "outputs": [
        {
          "output_type": "stream",
          "name": "stdout",
          "text": [
            "<class 'tuple'>\n",
            "{1, 2, 3}\n",
            "[20, 40, 44]\n"
          ]
        }
      ]
    },
    {
      "cell_type": "code",
      "source": [
        "def give_pred():\n",
        "  return { \"name\" : \"adil\" , \"addr\" : \"Ctg\"},{ \"name\" : \"abrar\" , \"addr\" : \"dhaka\"}\n",
        "\n",
        "m,n=give_pred()\n",
        "print(type(n))\n",
        "\n",
        "for key,val in n.items():\n",
        "   print(key,val)"
      ],
      "metadata": {
        "colab": {
          "base_uri": "https://localhost:8080/"
        },
        "id": "lDBbHJtDAKXd",
        "outputId": "d51a356f-abdd-48b4-aec9-651b960cff4a"
      },
      "execution_count": 61,
      "outputs": [
        {
          "output_type": "stream",
          "name": "stdout",
          "text": [
            "<class 'dict'>\n",
            "name abrar\n",
            "addr dhaka\n"
          ]
        }
      ]
    },
    {
      "cell_type": "markdown",
      "source": [
        "**Iteration**"
      ],
      "metadata": {
        "id": "T-bp911bb9Dc"
      }
    },
    {
      "cell_type": "code",
      "source": [
        "s={1,2,3,45,6}\n",
        "print(\"NORMAL METHOD\")\n",
        "s_it=iter(s)\n",
        "print(next(s_it))\n",
        "print(next(s_it))\n",
        "print(next(s_it))\n",
        "print(\"ITERATOR METHOD\")\n",
        "\n",
        "for i in s:\n",
        "  print(i)"
      ],
      "metadata": {
        "colab": {
          "base_uri": "https://localhost:8080/"
        },
        "id": "Cq91FR66ZenM",
        "outputId": "5a3d90d7-070e-4915-c2fd-89a2417f674d"
      },
      "execution_count": 6,
      "outputs": [
        {
          "output_type": "stream",
          "name": "stdout",
          "text": [
            "NORMAL METHOD\n",
            "1\n",
            "2\n",
            "3\n",
            "ITERATOR METHOD\n",
            "1\n",
            "2\n",
            "3\n",
            "6\n",
            "45\n"
          ]
        }
      ]
    },
    {
      "cell_type": "code",
      "source": [],
      "metadata": {
        "colab": {
          "base_uri": "https://localhost:8080/"
        },
        "id": "J5xgRfVUaVKx",
        "outputId": "fd513eda-3e09-4225-eeff-8eaa1f57bd69"
      },
      "execution_count": 7,
      "outputs": [
        {
          "output_type": "stream",
          "name": "stdout",
          "text": [
            "50\n",
            "20\n",
            "40\n",
            "10\n",
            "30\n",
            "50\n",
            "20\n",
            "40\n",
            "10\n",
            "30\n"
          ]
        }
      ]
    },
    {
      "cell_type": "code",
      "source": [
        "# -----------------------------------------------------------\n",
        "# 🔹 ITERATION vs ITERATOR in Different Python Data Structures\n",
        "# -----------------------------------------------------------\n",
        "\n",
        "# 📘 Concept Recap:\n",
        "# - iter(obj) → returns an iterator object\n",
        "# - next(iterator) → gives next element\n",
        "# - for loop → internally uses iter() + next()\n",
        "# -----------------------------------------------------------\n",
        "\n",
        "\n",
        "# ===========================================================\n",
        "# 🟦 1️⃣ LIST (Ordered, Indexed, Iterable)\n",
        "# ===========================================================\n",
        "lst = [10, 20, 30, 40, 50]\n",
        "\n",
        "print(\"🔸 LIST Example\")\n",
        "print(\"Using Indexing:\")\n",
        "print(lst[0])   # ✅ Works (lists are indexed)\n",
        "print(lst[1])\n",
        "\n",
        "print(\"\\nUsing Iterator Manually:\")\n",
        "lst_iter = iter(lst)\n",
        "print(next(lst_iter))\n",
        "print(next(lst_iter))\n",
        "print(next(lst_iter))\n",
        "\n",
        "print(\"\\nUsing For Loop:\")\n",
        "for item in lst:\n",
        "    print(item)\n",
        "print(\"-\" * 50)\n",
        "\n",
        "\n",
        "# ===========================================================\n",
        "# 🟩 2️⃣ TUPLE (Ordered, Indexed, Immutable, Iterable)\n",
        "# ===========================================================\n",
        "tpl = (1, 2, 3, 4)\n",
        "\n",
        "print(\"🔸 TUPLE Example\")\n",
        "print(\"Using Indexing:\")\n",
        "print(tpl[0])   # ✅ Works\n",
        "print(tpl[2])\n",
        "\n",
        "print(\"\\nUsing Iterator Manually:\")\n",
        "tpl_iter = iter(tpl)\n",
        "print(next(tpl_iter))\n",
        "print(next(tpl_iter))\n",
        "\n",
        "print(\"\\nUsing For Loop:\")\n",
        "for item in tpl:\n",
        "    print(item)\n",
        "print(\"-\" * 50)\n",
        "\n",
        "\n",
        "# ===========================================================\n",
        "# 🟥 3️⃣ SET (Unordered, Unindexed, Iterable)\n",
        "# ===========================================================\n",
        "s = {100, 200, 300, 400, 500}\n",
        "\n",
        "print(\"🔸 SET Example\")\n",
        "print(\"Indexing:\")\n",
        "# print(s[0])  # ❌ ERROR: 'set' object is not subscriptable\n",
        "\n",
        "print(\"Using Iterator Manually:\")\n",
        "s_iter = iter(s)\n",
        "print(next(s_iter))\n",
        "print(next(s_iter))\n",
        "print(next(s_iter))\n",
        "\n",
        "print(\"\\nUsing For Loop:\")\n",
        "for item in s:\n",
        "    print(item)\n",
        "# ⚠️ Output order may vary each time because sets are unordered.\n",
        "print(\"-\" * 50)\n",
        "\n",
        "\n",
        "# ===========================================================\n",
        "# 🟨 4️⃣ DICTIONARY (Ordered by insertion, Key–Value pairs)\n",
        "# ===========================================================\n",
        "d = {\"name\": \"Adil\", \"age\": 21, \"city\": \"Ctg\"}\n",
        "\n",
        "print(\"🔸 DICTIONARY Example\")\n",
        "\n",
        "print(\"Access by Key:\")\n",
        "print(d[\"name\"])   # ✅ Works\n",
        "# print(d[0])      # ❌ ERROR: Dictionary uses keys, not numeric index\n",
        "\n",
        "print(\"\\nUsing Iterator Manually (Iterates over KEYS):\")\n",
        "d_iter = iter(d)\n",
        "print(next(d_iter))\n",
        "print(next(d_iter))\n",
        "\n",
        "print(\"\\nUsing For Loop:\")\n",
        "for key, value in d.items():\n",
        "    print(key, \"=>\", value)\n",
        "print(\"-\" * 50)\n"
      ],
      "metadata": {
        "id": "QZw7ni1Bb_WH"
      },
      "execution_count": null,
      "outputs": []
    },
    {
      "cell_type": "code",
      "source": [
        "lst=[x for x in range(500)]\n",
        "def data_loader(chunk_size,lst):\n",
        "  for i in range(0,len(lst),chunk_size):\n",
        "    yield lst[i:i+chunk_size]\n",
        "\n",
        "\n",
        "x=data_loader(5,lst)\n",
        "print(type(x))\n",
        "print(next(x))\n",
        "print(next(x))"
      ],
      "metadata": {
        "colab": {
          "base_uri": "https://localhost:8080/"
        },
        "id": "L-_fbrm8d1xk",
        "outputId": "eaf84932-2ad3-4c08-e919-21bffc65b256"
      },
      "execution_count": 16,
      "outputs": [
        {
          "output_type": "stream",
          "name": "stdout",
          "text": [
            "<class 'generator'>\n",
            "[0, 1, 2, 3, 4]\n",
            "[5, 6, 7, 8, 9]\n"
          ]
        }
      ]
    },
    {
      "cell_type": "markdown",
      "source": [
        "# **Lamda function**"
      ],
      "metadata": {
        "id": "pWoTVRicgz3W"
      }
    },
    {
      "cell_type": "code",
      "source": [
        "def square_add(x,y):\n",
        "  return x**2 + y**2\n",
        "\n",
        "sq_add=lambda x,y:x**2+y**2\n",
        "\n",
        "print(sq_add(2,3))"
      ],
      "metadata": {
        "colab": {
          "base_uri": "https://localhost:8080/"
        },
        "id": "UB4uHNf3g2Qf",
        "outputId": "9741f850-5b7a-4114-d3a9-28ea0d5b8c14"
      },
      "execution_count": 20,
      "outputs": [
        {
          "output_type": "stream",
          "name": "stdout",
          "text": [
            "13\n"
          ]
        }
      ]
    },
    {
      "cell_type": "code",
      "source": [
        "if_even=lambda x:x%2==0\n",
        "\n",
        "print(if_even(11))"
      ],
      "metadata": {
        "colab": {
          "base_uri": "https://localhost:8080/"
        },
        "id": "qiPWGjHChYtS",
        "outputId": "b45aef69-407d-477d-9b34-df3268b0c58f"
      },
      "execution_count": 21,
      "outputs": [
        {
          "output_type": "stream",
          "name": "stdout",
          "text": [
            "False\n"
          ]
        }
      ]
    },
    {
      "cell_type": "code",
      "source": [
        "lst=[1,2,3,4,5,6]\n",
        "def sq(x):\n",
        "  return x**2\n",
        "\n",
        "lst=list(map(sq,lst))\n",
        "print(lst)"
      ],
      "metadata": {
        "colab": {
          "base_uri": "https://localhost:8080/"
        },
        "id": "CyKScnchiE_J",
        "outputId": "f6693888-77a2-4be3-b1ea-5a55d1b6a0e2"
      },
      "execution_count": 22,
      "outputs": [
        {
          "output_type": "stream",
          "name": "stdout",
          "text": [
            "[1, 4, 9, 16, 25, 36]\n"
          ]
        }
      ]
    },
    {
      "cell_type": "code",
      "source": [
        "string = \"hello world, welcome to the age of AI\"\n",
        "string1 = [char.upper() for char in string]\n",
        "print(string1)\n",
        "string1 = \" \".join(string1)\n",
        "print(string1)"
      ],
      "metadata": {
        "colab": {
          "base_uri": "https://localhost:8080/"
        },
        "id": "N1RUe0XmqmDy",
        "outputId": "f20b5440-ac64-4e42-e414-e6880fe1e802"
      },
      "execution_count": 34,
      "outputs": [
        {
          "output_type": "stream",
          "name": "stdout",
          "text": [
            "['H', 'E', 'L', 'L', 'O', ' ', 'W', 'O', 'R', 'L', 'D', ',', ' ', 'W', 'E', 'L', 'C', 'O', 'M', 'E', ' ', 'T', 'O', ' ', 'T', 'H', 'E', ' ', 'A', 'G', 'E', ' ', 'O', 'F', ' ', 'A', 'I']\n",
            "H E L L O   W O R L D ,   W E L C O M E   T O   T H E   A G E   O F   A I\n"
          ]
        }
      ]
    },
    {
      "cell_type": "code",
      "source": [
        "lst=[1,2,3,4,5]\n",
        "evn=list(map(lambda x:x%2==0,lst))\n",
        "even=[x for x in lst if x%2==0]\n",
        "print(even)\n",
        "print(evn)"
      ],
      "metadata": {
        "colab": {
          "base_uri": "https://localhost:8080/"
        },
        "id": "qAdWqdI80BGE",
        "outputId": "74cef07f-8572-4a6f-d2e7-ca8a040b9f60"
      },
      "execution_count": 40,
      "outputs": [
        {
          "output_type": "stream",
          "name": "stdout",
          "text": [
            "[2, 4]\n",
            "[False, True, False, True, False]\n"
          ]
        }
      ]
    },
    {
      "cell_type": "code",
      "source": [
        "n=[x for x in range(100)]\n",
        "print(n)\n",
        "even=list(filter(lambda x:x%2==0,n))\n",
        "print(even)\n",
        "\n",
        "fift_up=list(filter(lambda x:x>50,n))\n",
        "print(fift_up)"
      ],
      "metadata": {
        "colab": {
          "base_uri": "https://localhost:8080/"
        },
        "id": "uASa3qMO2Nkj",
        "outputId": "74b11e4e-ae43-4036-89a7-33970993a954"
      },
      "execution_count": 47,
      "outputs": [
        {
          "output_type": "stream",
          "name": "stdout",
          "text": [
            "[0, 1, 2, 3, 4, 5, 6, 7, 8, 9, 10, 11, 12, 13, 14, 15, 16, 17, 18, 19, 20, 21, 22, 23, 24, 25, 26, 27, 28, 29, 30, 31, 32, 33, 34, 35, 36, 37, 38, 39, 40, 41, 42, 43, 44, 45, 46, 47, 48, 49, 50, 51, 52, 53, 54, 55, 56, 57, 58, 59, 60, 61, 62, 63, 64, 65, 66, 67, 68, 69, 70, 71, 72, 73, 74, 75, 76, 77, 78, 79, 80, 81, 82, 83, 84, 85, 86, 87, 88, 89, 90, 91, 92, 93, 94, 95, 96, 97, 98, 99]\n",
            "[0, 2, 4, 6, 8, 10, 12, 14, 16, 18, 20, 22, 24, 26, 28, 30, 32, 34, 36, 38, 40, 42, 44, 46, 48, 50, 52, 54, 56, 58, 60, 62, 64, 66, 68, 70, 72, 74, 76, 78, 80, 82, 84, 86, 88, 90, 92, 94, 96, 98]\n",
            "[51, 52, 53, 54, 55, 56, 57, 58, 59, 60, 61, 62, 63, 64, 65, 66, 67, 68, 69, 70, 71, 72, 73, 74, 75, 76, 77, 78, 79, 80, 81, 82, 83, 84, 85, 86, 87, 88, 89, 90, 91, 92, 93, 94, 95, 96, 97, 98, 99]\n"
          ]
        }
      ]
    },
    {
      "cell_type": "code",
      "source": [
        "data = [0, 1, '',None, 'Hello', [], [1, 2], None, True, False, None]\n",
        "\n",
        "cleaned_data = list(filter(None, data))\n",
        "\n",
        "print(cleaned_data)"
      ],
      "metadata": {
        "colab": {
          "base_uri": "https://localhost:8080/"
        },
        "id": "EKf2BLas4cTY",
        "outputId": "257cb808-4ea9-4c8e-bd55-70557e7e8d47"
      },
      "execution_count": 48,
      "outputs": [
        {
          "output_type": "stream",
          "name": "stdout",
          "text": [
            "[1, 'Hello', [1, 2], True]\n"
          ]
        }
      ]
    },
    {
      "cell_type": "code",
      "source": [
        "v=list(filter(lambda x:x in \"AEIOU\",string))\n",
        "print(v)"
      ],
      "metadata": {
        "colab": {
          "base_uri": "https://localhost:8080/"
        },
        "id": "NWfJBcp_5qLV",
        "outputId": "63eb9317-7ff8-4a67-fa27-ad7fb1109366"
      },
      "execution_count": 50,
      "outputs": [
        {
          "output_type": "stream",
          "name": "stdout",
          "text": [
            "['A', 'I']\n"
          ]
        }
      ]
    },
    {
      "cell_type": "markdown",
      "source": [
        "# **Reduce**"
      ],
      "metadata": {
        "id": "Q_dP-36851pU"
      }
    },
    {
      "cell_type": "code",
      "source": [
        "from functools import reduce\n",
        "summation=reduce(lambda x,y:x+y,lst)\n",
        "print(summation)"
      ],
      "metadata": {
        "colab": {
          "base_uri": "https://localhost:8080/"
        },
        "id": "7craER5D6WS9",
        "outputId": "025f925a-6e3e-45ca-bd0f-a9cd7f4fedc6"
      },
      "execution_count": 51,
      "outputs": [
        {
          "output_type": "stream",
          "name": "stdout",
          "text": [
            "15\n"
          ]
        }
      ]
    },
    {
      "cell_type": "code",
      "source": [
        "def add(a,b=2):\n",
        "  return a+b\n",
        "print(add(3))\n",
        "\n",
        "k=list(filter(lambda x: x%2==0, [1,2,3,4]))\n",
        "print(k)"
      ],
      "metadata": {
        "colab": {
          "base_uri": "https://localhost:8080/"
        },
        "id": "-Em19Pm08c1v",
        "outputId": "f89c2c11-c0c0-4357-e022-b28102b82961"
      },
      "execution_count": 53,
      "outputs": [
        {
          "output_type": "stream",
          "name": "stdout",
          "text": [
            "5\n",
            "[2, 4]\n"
          ]
        }
      ]
    }
  ]
}
