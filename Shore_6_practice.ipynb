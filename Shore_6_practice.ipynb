{
  "nbformat": 4,
  "nbformat_minor": 0,
  "metadata": {
    "colab": {
      "provenance": [],
      "authorship_tag": "ABX9TyPbtH9PhMrldAYRFN89SEsM",
      "include_colab_link": true
    },
    "kernelspec": {
      "name": "python3",
      "display_name": "Python 3"
    },
    "language_info": {
      "name": "python"
    }
  },
  "cells": [
    {
      "cell_type": "markdown",
      "metadata": {
        "id": "view-in-github",
        "colab_type": "text"
      },
      "source": [
        "<a href=\"https://colab.research.google.com/github/kaho0/SandBox/blob/main/Shore_6_practice.ipynb\" target=\"_parent\"><img src=\"https://colab.research.google.com/assets/colab-badge.svg\" alt=\"Open In Colab\"/></a>"
      ]
    },
    {
      "cell_type": "markdown",
      "source": [
        "**Create a text file named emails.txt containing multiple email addresses, some in uppercase and some repeated.\n",
        "Write a Python program to clean the data by converting all emails to lowercase, removing duplicates, sorting them alphabetically, and saving the cleaned list to a new file named unique_emails.txt.**\n"
      ],
      "metadata": {
        "id": "fuFakxQ7l8dU"
      }
    },
    {
      "cell_type": "code",
      "execution_count": 4,
      "metadata": {
        "colab": {
          "base_uri": "https://localhost:8080/"
        },
        "id": "Wj_xfKT4l3KZ",
        "outputId": "46e06447-40d6-42d3-b013-e0e11223df2c"
      },
      "outputs": [
        {
          "output_type": "stream",
          "name": "stdout",
          "text": [
            "unique_emails.txt created with email addresses.\n"
          ]
        }
      ],
      "source": [
        "emails = [\n",
        "    \"alice@example.com\",\n",
        "    \"BOB@EXAMPLE.COM\",\n",
        "    \"charlie@example.com\",\n",
        "    \"alice@example.com\",\n",
        "    \"DAVE@EXAMPLE.COM\",\n",
        "    \"eve@example.com\",\n",
        "    \"bob@example.com\",\n",
        "    \"FRANK@EXAMPLE.COM\",\n",
        "    \"grace@example.com\",\n",
        "    \"HEIDI@EXAMPLE.COM\",\n",
        "    \"JUDY@EXAMPLE.COM\",\n",
        "    \"charlie@example.com\",\n",
        "    \"KATE@EXAMPLE.COM\",\n",
        "    \"leo@example.com\",\n",
        "    \"MALLORY@EXAMPLE.COM\",\n",
        "    \"nancy@example.com\",\n",
        "    \"OSCAR@EXAMPLE.COM\",\n",
        "    \"peggy@example.com\",\n",
        "    \"trent@example.com\",\n",
        "    \"VICTOR@EXAMPLE.COM\",\n",
        "    \"walter@example.com\"\n",
        "]\n",
        "unique=sorted(set(email.lower() for email in emails))\n",
        "with open(\"unique_emails.txt\",\"w\")as file:\n",
        "  for email in unique:\n",
        "    file.write(email+\"\\n\")\n",
        "print(\"unique_emails.txt created with email addresses.\")"
      ]
    },
    {
      "cell_type": "markdown",
      "source": [
        "Create a text file named names.txt containing a list of names.\n",
        "Some names may have extra spaces, inconsistent capitalization (like “aLiCe” or “ bob ”), or appear more than once.\n",
        "Write a Python program to clean the data by:\n",
        "1.  Removing extra spaces.\n",
        "2.  Converting all names so that only the first letter is capitalized.\n",
        "3.  Removing duplicate names.\n",
        "4. Sorting the names alphabetically.\n",
        "Finally, save the cleaned list into a new file named clean_names.txt."
      ],
      "metadata": {
        "id": "rC48cKguoTTe"
      }
    },
    {
      "cell_type": "code",
      "source": [
        "names = [\n",
        "    \"aLiCe\",\n",
        "    \" bob\",\n",
        "    \"Charlie\",\n",
        "    \"dave\",\n",
        "    \"EVE\",\n",
        "    \"alice\",\n",
        "    \"Frank\",\n",
        "    \" GRACE\",\n",
        "    \"heidi\",\n",
        "    \"Ivan\",\n",
        "    \"Judy\",\n",
        "    \"charlie\",\n",
        "    \"Kate\",\n",
        "    \"leo\",\n",
        "    \"Mallory\",\n",
        "    \"nancy\",\n",
        "    \"oscar\",\n",
        "    \"Peggy\",\n",
        "    \"trent\",\n",
        "    \"Victor\",\n",
        "    \"walter\",\n",
        "    \"BOB\"\n",
        "]\n",
        "space_removal=sorted(set(name.strip().capitalize() for name in names))\n",
        "print(space_removal)"
      ],
      "metadata": {
        "colab": {
          "base_uri": "https://localhost:8080/"
        },
        "id": "R9jn2YgyoSRB",
        "outputId": "7b685884-fbe5-4e66-92b4-fe413685272a"
      },
      "execution_count": 8,
      "outputs": [
        {
          "output_type": "stream",
          "name": "stdout",
          "text": [
            "['Alice', 'Bob', 'Charlie', 'Dave', 'Eve', 'Frank', 'Grace', 'Heidi', 'Ivan', 'Judy', 'Kate', 'Leo', 'Mallory', 'Nancy', 'Oscar', 'Peggy', 'Trent', 'Victor', 'Walter']\n"
          ]
        }
      ]
    },
    {
      "cell_type": "markdown",
      "source": [
        "Write a Python program that creates a list of 5 numbers.\n",
        "Ask the user for an index number and print the value at that index.\n",
        "If the index is out of range, handle the exception and print \"Invalid index!\".\n"
      ],
      "metadata": {
        "id": "-IHRxcyurC1q"
      }
    },
    {
      "cell_type": "code",
      "source": [
        "inp=input(\"Enter 5 numbers seperated by spaces:\")\n",
        "num=list(map(int,inp.split()))\n",
        "try:\n",
        "  index=int(input(\"enter a index: \"))\n",
        "  print(\"value at index\",index,\"is\",num[index])\n",
        "except IndexError:\n",
        "  print(\"Invalid index!\")\n",
        "except ValueError:\n",
        "  print(\"Invalid input.please enter valid numbers.\")\n",
        "except Exception as e:\n",
        "  print(e)\n"
      ],
      "metadata": {
        "colab": {
          "base_uri": "https://localhost:8080/"
        },
        "id": "KrNUYaLCrFyP",
        "outputId": "7dde3a04-2da5-4cdf-db56-64210801f350"
      },
      "execution_count": 9,
      "outputs": [
        {
          "output_type": "stream",
          "name": "stdout",
          "text": [
            "Enter 5 numbers seperated by spaces:1 2 3 4 5\n",
            "enter a index: 10\n",
            "Invalid index!\n"
          ]
        }
      ]
    }
  ]
}
