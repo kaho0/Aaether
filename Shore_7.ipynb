{
  "nbformat": 4,
  "nbformat_minor": 0,
  "metadata": {
    "colab": {
      "provenance": [],
      "mount_file_id": "1OcCmKcFc9x9Hc-mRKN9lEkv6gomFiQkD",
      "authorship_tag": "ABX9TyN2oz0KicYW56Np1rnM0Tcd",
      "include_colab_link": true
    },
    "kernelspec": {
      "name": "python3",
      "display_name": "Python 3"
    },
    "language_info": {
      "name": "python"
    }
  },
  "cells": [
    {
      "cell_type": "markdown",
      "metadata": {
        "id": "view-in-github",
        "colab_type": "text"
      },
      "source": [
        "<a href=\"https://colab.research.google.com/github/kaho0/SandBox/blob/main/Shore_7.ipynb\" target=\"_parent\"><img src=\"https://colab.research.google.com/assets/colab-badge.svg\" alt=\"Open In Colab\"/></a>"
      ]
    },
    {
      "cell_type": "markdown",
      "source": [
        "# **File**"
      ],
      "metadata": {
        "id": "xa516UHSHYvW"
      }
    },
    {
      "cell_type": "code",
      "source": [
        "# Create the file /content/sample.txt with the content from cell JzspFpqGLlEk\n",
        "file_content = \"\"\"Once upon a time, a tiny seed lay buried deep in the soil. Every day, it felt the warmth of the sun above and the cool touch of the rain below.\n",
        "\n",
        "“I wish I could see the world,” it whispered.\n",
        "\n",
        "But the earth around it said, “Not yet. Grow first.”\n",
        "\n",
        "So the seed waited. Slowly, it pushed a small green sprout through the soil. Days turned into weeks, and soon, it became a tall, beautiful flower.\n",
        "\n",
        "One morning, a little girl passing by smiled and said, “What a lovely flower!”\n",
        "\n",
        "The seed finally realized — the world had always been waiting for it to bloom.\"\"\"\n",
        "\n",
        "with open(\"/content/sample.txt\", \"w\") as file:\n",
        "    file.write(file_content)"
      ],
      "metadata": {
        "id": "j4iDdEt_DC16"
      },
      "execution_count": 8,
      "outputs": []
    },
    {
      "cell_type": "code",
      "execution_count": 9,
      "metadata": {
        "colab": {
          "base_uri": "https://localhost:8080/"
        },
        "id": "lCq_-T7THH7d",
        "outputId": "49b671e6-fbc2-49f0-d59d-b8849956130d"
      },
      "outputs": [
        {
          "output_type": "stream",
          "name": "stdout",
          "text": [
            "<class 'str'>\n",
            "True\n"
          ]
        }
      ],
      "source": [
        "# --- Example 1: Basic file reading using open() and read() ---\n",
        "# Open the file in read mode (\"r\")\n",
        "file = open(\"./sample_data/sample.txt\", \"r\")\n",
        "\n",
        "# Read the entire content of the file as a single string\n",
        "content = file.read()\n",
        "\n",
        "# Print the type of content to verify (it will be a string)\n",
        "print(type(content))  # Output: <class 'str'>\n",
        "\n",
        "# Close the file after reading (good practice)\n",
        "file.close()\n",
        "\n",
        "# Check if the file is closed or not (returns True if closed)\n",
        "print(file.closed)  # Output: True\n"
      ]
    },
    {
      "cell_type": "code",
      "source": [
        "# --- Example 32 Using 'with open()' (recommended way) ---\n",
        "\n",
        "# 'with' automatically closes the file after the block ends\n",
        "with open(\"./sample_data/sample.txt\", \"r\") as file:\n",
        "    # Read all lines into a list (keeps '\\n' at the end of each line)\n",
        "    content = file.readlines()\n",
        "    print(content)\n",
        "    # Output: ['Hello world\\n', 'Welcome to the AI/ML with Phitron\\n', ' ']\n",
        "\n",
        "# No need to call file.close(), it’s already closed automatically\n",
        "print(file.closed)  # Output: True"
      ],
      "metadata": {
        "colab": {
          "base_uri": "https://localhost:8080/"
        },
        "id": "JzspFpqGLlEk",
        "outputId": "c3f0bccf-fda1-435a-81ba-4503238083d4"
      },
      "execution_count": 10,
      "outputs": [
        {
          "output_type": "stream",
          "name": "stdout",
          "text": [
            "['Once upon a time, a tiny seed lay buried deep in the soil. Every day, it felt the warmth of the sun above and the cool touch of the rain below.\\n', '\\n', '“I wish I could see the world,” it whispered.\\n', '\\n', 'But the earth around it said, “Not yet. Grow first.”\\n', '\\n', 'So the seed waited. Slowly, it pushed a small green sprout through the soil. Days turned into weeks, and soon, it became a tall, beautiful flower.\\n', '\\n', 'One morning, a little girl passing by smiled and said, “What a lovely flower!”\\n', '\\n', 'The seed finally realized — the world had always been waiting for it to bloom.']\n",
            "True\n"
          ]
        }
      ]
    },
    {
      "cell_type": "code",
      "source": [
        "with open(\"/content/sample.txt\",\"r\") as file:\n",
        "  for line in file:\n",
        "    print(line)"
      ],
      "metadata": {
        "colab": {
          "base_uri": "https://localhost:8080/"
        },
        "id": "x3yH-UvGMQQR",
        "outputId": "96ad73e8-78bc-4589-c9d4-52620054be76"
      },
      "execution_count": 11,
      "outputs": [
        {
          "output_type": "stream",
          "name": "stdout",
          "text": [
            "Once upon a time, a tiny seed lay buried deep in the soil. Every day, it felt the warmth of the sun above and the cool touch of the rain below.\n",
            "\n",
            "\n",
            "\n",
            "“I wish I could see the world,” it whispered.\n",
            "\n",
            "\n",
            "\n",
            "But the earth around it said, “Not yet. Grow first.”\n",
            "\n",
            "\n",
            "\n",
            "So the seed waited. Slowly, it pushed a small green sprout through the soil. Days turned into weeks, and soon, it became a tall, beautiful flower.\n",
            "\n",
            "\n",
            "\n",
            "One morning, a little girl passing by smiled and said, “What a lovely flower!”\n",
            "\n",
            "\n",
            "\n",
            "The seed finally realized — the world had always been waiting for it to bloom.\n"
          ]
        }
      ]
    },
    {
      "cell_type": "code",
      "source": [
        "with open(\"/content/test.txt\",\"w\") as file:\n",
        "  file.write(\"hehehehhehhhhhhheeeeeeee\\n\")\n",
        "  file.write(\"tuiiiiiiiiiiiiiiiiii\")\n"
      ],
      "metadata": {
        "id": "lPVLd351NF-1"
      },
      "execution_count": 12,
      "outputs": []
    },
    {
      "cell_type": "code",
      "source": [
        "# writing on a existing file\n",
        "# it overwrites the file\n",
        "\n",
        "with open(\"/content/test.txt\",\"w\")as file:\n",
        "  file.write(\"ektaaaaaaaaaaaaa\\n\")\n",
        "  file.write(\"shalaaaaaaaaaaa\\n\")\n"
      ],
      "metadata": {
        "id": "mRIIJS9iNlPM"
      },
      "execution_count": 13,
      "outputs": []
    },
    {
      "cell_type": "code",
      "source": [
        "# No overwriting just append the text later\n",
        "# append mode\n",
        "with open(\"/content/test.txt\",\"a\") as file:\n",
        "  file.write(\"hehehehhehhhhhhheeeeeeee\\n\")\n",
        "  file.write(\"tuiiiiiiiiiiiiiiiiii\")"
      ],
      "metadata": {
        "id": "CMh7cbGNN6yX"
      },
      "execution_count": 14,
      "outputs": []
    },
    {
      "cell_type": "code",
      "source": [
        "\n",
        "\n",
        "file=open(\"/content/sample.txt\",\"r\")\n",
        "content=file.readlines()\n",
        "content=list(map(str.strip,content))\n",
        "print(content)\n",
        "fil_content=list(filter(lambda x:len(x)>=1,content))\n",
        "print(fil_content)"
      ],
      "metadata": {
        "colab": {
          "base_uri": "https://localhost:8080/"
        },
        "id": "fkye46RdOa54",
        "outputId": "e87b8d64-48bc-42f2-81a5-2bdad175443a"
      },
      "execution_count": 15,
      "outputs": [
        {
          "output_type": "stream",
          "name": "stdout",
          "text": [
            "['Once upon a time, a tiny seed lay buried deep in the soil. Every day, it felt the warmth of the sun above and the cool touch of the rain below.', '', '“I wish I could see the world,” it whispered.', '', 'But the earth around it said, “Not yet. Grow first.”', '', 'So the seed waited. Slowly, it pushed a small green sprout through the soil. Days turned into weeks, and soon, it became a tall, beautiful flower.', '', 'One morning, a little girl passing by smiled and said, “What a lovely flower!”', '', 'The seed finally realized — the world had always been waiting for it to bloom.']\n",
            "['Once upon a time, a tiny seed lay buried deep in the soil. Every day, it felt the warmth of the sun above and the cool touch of the rain below.', '“I wish I could see the world,” it whispered.', 'But the earth around it said, “Not yet. Grow first.”', 'So the seed waited. Slowly, it pushed a small green sprout through the soil. Days turned into weeks, and soon, it became a tall, beautiful flower.', 'One morning, a little girl passing by smiled and said, “What a lovely flower!”', 'The seed finally realized — the world had always been waiting for it to bloom.']\n"
          ]
        }
      ]
    },
    {
      "cell_type": "code",
      "source": [
        "strings=['hello','hi','good bye','whatssap']\n",
        "with open(\"/content/test2.txt\",\"a\") as file:\n",
        "  file.writelines(strings)\n"
      ],
      "metadata": {
        "id": "jrA1otKfPkwb"
      },
      "execution_count": 16,
      "outputs": []
    },
    {
      "cell_type": "markdown",
      "source": [
        "# **Ftell**"
      ],
      "metadata": {
        "id": "Mg4XAa9cRTMN"
      }
    },
    {
      "cell_type": "code",
      "source": [
        "with open(\"/content/sample.txt\",\"r\") as file:\n",
        "  print(file.tell())\n",
        "  print(file.read(7))\n",
        "\n",
        "  print(file.tell())\n",
        "  print(file.read())\n",
        "\n",
        "  print(file.tell())\n",
        "\n",
        "  print(file.read(5))\n",
        "  print(file.seek(5))"
      ],
      "metadata": {
        "colab": {
          "base_uri": "https://localhost:8080/"
        },
        "id": "LQQ8wzVKRVz7",
        "outputId": "c528153d-0c23-420a-aa86-1b68b7d5beb6"
      },
      "execution_count": 17,
      "outputs": [
        {
          "output_type": "stream",
          "name": "stdout",
          "text": [
            "0\n",
            "Once up\n",
            "7\n",
            "on a time, a tiny seed lay buried deep in the soil. Every day, it felt the warmth of the sun above and the cool touch of the rain below.\n",
            "\n",
            "“I wish I could see the world,” it whispered.\n",
            "\n",
            "But the earth around it said, “Not yet. Grow first.”\n",
            "\n",
            "So the seed waited. Slowly, it pushed a small green sprout through the soil. Days turned into weeks, and soon, it became a tall, beautiful flower.\n",
            "\n",
            "One morning, a little girl passing by smiled and said, “What a lovely flower!”\n",
            "\n",
            "The seed finally realized — the world had always been waiting for it to bloom.\n",
            "566\n",
            "\n",
            "5\n"
          ]
        }
      ]
    },
    {
      "cell_type": "code",
      "source": [
        "# --- Example 1: Using tell() and read() ---\n",
        "\n",
        "# Open the file safely using 'with' so it closes automatically after use\n",
        "with open(\"/content/sample.txt\", \"r\") as file:\n",
        "    # tell() → shows current cursor position (in bytes/characters)\n",
        "    print(file.tell())      # Output: 0 (cursor at the beginning)\n",
        "\n",
        "    # read() → reads entire content from current cursor position\n",
        "    print(file.read())      # Example output: Hello world\n",
        "\n",
        "    # tell() → now cursor is at the end of the file\n",
        "    print(file.tell())      # Output: 11 (if \"Hello world\" = 11 chars)\n",
        "\n",
        "    # Trying to read again returns '' because cursor is already at the end\n",
        "    print(file.read())      # Output: '' (empty string)\n",
        "\n",
        "\n",
        "\n",
        "# --- Example 2: Reading fixed number of characters with read(n) ---\n",
        "\n",
        "with open(\"/content/sample.txt\", \"r\") as file:\n",
        "    print(file.tell())      # Output: 0 → start of file\n",
        "\n",
        "    # Read first 5 characters only\n",
        "    print(file.read(5))     # Output: Hello\n",
        "\n",
        "    # Cursor now moved 5 positions ahead\n",
        "    print(file.tell())      # Output: 5\n",
        "\n",
        "    # Read the rest of the content\n",
        "    print(file.read())      # Output: \" world\"\n",
        "\n",
        "    # Cursor now at the end\n",
        "    print(file.tell())      # Output: 11\n",
        "\n",
        "\n",
        "\n",
        "# --- Example 3: Moving the cursor manually using seek() ---\n",
        "\n",
        "with open(\"/content/sample.txt\", \"r\") as file:\n",
        "    print(file.tell())      # Output: 0 → cursor at beginning\n",
        "\n",
        "    # Read first 5 characters\n",
        "    print(file.read(5))     # Output: Hello\n",
        "\n",
        "    # Cursor is now at position 5\n",
        "    print(file.tell())      # Output: 5\n",
        "\n",
        "    # Move cursor back to position 0 (start of file)\n",
        "    file.seek(0)\n",
        "    print(file.tell())      # Output: 0\n",
        "\n",
        "    # Read again from the beginning\n",
        "    print(file.read(5))     # Output: Hello\n"
      ],
      "metadata": {
        "colab": {
          "base_uri": "https://localhost:8080/"
        },
        "id": "Ws6VWOgrVdfq",
        "outputId": "5d13aa44-b06b-4380-ef73-4320f33602b8"
      },
      "execution_count": 18,
      "outputs": [
        {
          "output_type": "stream",
          "name": "stdout",
          "text": [
            "0\n",
            "Once upon a time, a tiny seed lay buried deep in the soil. Every day, it felt the warmth of the sun above and the cool touch of the rain below.\n",
            "\n",
            "“I wish I could see the world,” it whispered.\n",
            "\n",
            "But the earth around it said, “Not yet. Grow first.”\n",
            "\n",
            "So the seed waited. Slowly, it pushed a small green sprout through the soil. Days turned into weeks, and soon, it became a tall, beautiful flower.\n",
            "\n",
            "One morning, a little girl passing by smiled and said, “What a lovely flower!”\n",
            "\n",
            "The seed finally realized — the world had always been waiting for it to bloom.\n",
            "566\n",
            "\n",
            "0\n",
            "Once \n",
            "5\n",
            "upon a time, a tiny seed lay buried deep in the soil. Every day, it felt the warmth of the sun above and the cool touch of the rain below.\n",
            "\n",
            "“I wish I could see the world,” it whispered.\n",
            "\n",
            "But the earth around it said, “Not yet. Grow first.”\n",
            "\n",
            "So the seed waited. Slowly, it pushed a small green sprout through the soil. Days turned into weeks, and soon, it became a tall, beautiful flower.\n",
            "\n",
            "One morning, a little girl passing by smiled and said, “What a lovely flower!”\n",
            "\n",
            "The seed finally realized — the world had always been waiting for it to bloom.\n",
            "566\n",
            "0\n",
            "Once \n",
            "5\n",
            "0\n",
            "Once \n"
          ]
        }
      ]
    },
    {
      "cell_type": "markdown",
      "source": [
        "**Practice 1 :**"
      ],
      "metadata": {
        "id": "vOEOJvucwrsz"
      }
    },
    {
      "cell_type": "markdown",
      "source": [
        "Get the text from sample.txt , and count the following\n",
        "\n",
        "Number of lines\n",
        "\n",
        "Number of words\n",
        "\n",
        "Number of characters\n",
        "\n",
        "and save it to the counter_of_string.txt file"
      ],
      "metadata": {
        "id": "FF0tOeE7wybv"
      }
    },
    {
      "cell_type": "code",
      "source": [
        "# Import reduce for cumulative addition\n",
        "from functools import reduce\n",
        "\n",
        "# --- Step 1: Read the content from the file ---\n",
        "with open(\"/content/sample.txt\", \"r\") as file:\n",
        "    content = file.read()  # Read the entire file as one string\n",
        "    print(\" File Content:\\n\", content)\n",
        "    print(\"-\" * 50)\n",
        "\n",
        "    # --- Step 2: Count the number of lines ---\n",
        "    # splitlines() → separates the text into a list of lines\n",
        "    num_of_lines = len(content.splitlines())\n",
        "    print(\"Number of lines:\", num_of_lines)\n",
        "\n",
        "    # --- Step 3: Count the number of words ---\n",
        "    # split() → splits the text by whitespace into words\n",
        "    num_of_words = len(content.split())\n",
        "    print(\"Number of words:\", num_of_words)\n",
        "\n",
        "    # --- Step 4: (Alternative method) Using map() + reduce() correctly ---\n",
        "    # Split the text line by line first\n",
        "    lines = content.splitlines()\n",
        "\n",
        "    # Map → count words in each line using len(line.split())\n",
        "    word_counts_per_line = list(map(lambda line: len(line.split()), lines))\n",
        "\n",
        "    # Reduce → add all word counts together to get total\n",
        "    total_num_of_words = reduce(lambda x, y: x + y, word_counts_per_line, 0)\n",
        "\n",
        "    print(\"Word count per line:\", word_counts_per_line)\n",
        "    print(\"Total number of words (map + reduce):\", total_num_of_words)\n",
        "\n",
        "    # --- Step 5: Count the number of characters ---\n",
        "    # len(content) → counts every character including spaces and newlines\n",
        "    num_of_chars = len(content)\n",
        "    print(\"Number of characters:\", num_of_chars)\n",
        "\n",
        "# --- Step 6: Write the results into a new file ---\n",
        "with open(\"/content/counter_of_string.txt\", \"w\") as file:\n",
        "    file.write(f\"Number of lines: {num_of_lines}\\n\")\n",
        "    file.write(f\"Number of words: {num_of_words}\\n\")\n",
        "    file.write(f\"Number of characters: {num_of_chars}\\n\")\n",
        "\n",
        "print(\"\\n Results saved successfully to '/content/counter_of_string.txt'\")\n"
      ],
      "metadata": {
        "colab": {
          "base_uri": "https://localhost:8080/"
        },
        "id": "kRVAGBxAwugL",
        "outputId": "287f410e-c683-400d-948f-de9ac148f78e",
        "collapsed": true
      },
      "execution_count": 19,
      "outputs": [
        {
          "output_type": "stream",
          "name": "stdout",
          "text": [
            "📄 File Content:\n",
            " Once upon a time, a tiny seed lay buried deep in the soil. Every day, it felt the warmth of the sun above and the cool touch of the rain below.\n",
            "\n",
            "“I wish I could see the world,” it whispered.\n",
            "\n",
            "But the earth around it said, “Not yet. Grow first.”\n",
            "\n",
            "So the seed waited. Slowly, it pushed a small green sprout through the soil. Days turned into weeks, and soon, it became a tall, beautiful flower.\n",
            "\n",
            "One morning, a little girl passing by smiled and said, “What a lovely flower!”\n",
            "\n",
            "The seed finally realized — the world had always been waiting for it to bloom.\n",
            "--------------------------------------------------\n",
            "Number of lines: 11\n",
            "Number of words: 105\n",
            "Word count per line: [31, 0, 9, 0, 10, 0, 26, 0, 14, 0, 15]\n",
            "Total number of words (map + reduce): 105\n",
            "Number of characters: 552\n",
            "\n",
            "✅ Results saved successfully to '/content/counter_of_string.txt'\n"
          ]
        }
      ]
    },
    {
      "cell_type": "markdown",
      "source": [
        "**Practice 2:\n",
        "Write then read with one open**"
      ],
      "metadata": {
        "id": "hJLJs0UrErt1"
      }
    },
    {
      "cell_type": "code",
      "source": [],
      "metadata": {
        "id": "whCGxbEa1J_4"
      },
      "execution_count": 19,
      "outputs": []
    }
  ]
}