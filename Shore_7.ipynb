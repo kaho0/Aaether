{
  "nbformat": 4,
  "nbformat_minor": 0,
  "metadata": {
    "colab": {
      "provenance": [],
      "mount_file_id": "1OcCmKcFc9x9Hc-mRKN9lEkv6gomFiQkD",
      "authorship_tag": "ABX9TyPKX5xqYBhSKC/jBkqJ+uJ5",
      "include_colab_link": true
    },
    "kernelspec": {
      "name": "python3",
      "display_name": "Python 3"
    },
    "language_info": {
      "name": "python"
    }
  },
  "cells": [
    {
      "cell_type": "markdown",
      "metadata": {
        "id": "view-in-github",
        "colab_type": "text"
      },
      "source": [
        "<a href=\"https://colab.research.google.com/github/kaho0/SandBox/blob/main/Shore_7.ipynb\" target=\"_parent\"><img src=\"https://colab.research.google.com/assets/colab-badge.svg\" alt=\"Open In Colab\"/></a>"
      ]
    },
    {
      "cell_type": "markdown",
      "source": [
        "# **File**"
      ],
      "metadata": {
        "id": "xa516UHSHYvW"
      }
    },
    {
      "cell_type": "code",
      "execution_count": null,
      "metadata": {
        "colab": {
          "base_uri": "https://localhost:8080/",
          "height": 228
        },
        "id": "lCq_-T7THH7d",
        "outputId": "36250992-8208-45ca-d3e4-f7abba5c8648"
      },
      "outputs": [
        {
          "output_type": "error",
          "ename": "FileNotFoundError",
          "evalue": "[Errno 2] No such file or directory: './sample_data/sample.txt'",
          "traceback": [
            "\u001b[0;31m---------------------------------------------------------------------------\u001b[0m",
            "\u001b[0;31mFileNotFoundError\u001b[0m                         Traceback (most recent call last)",
            "\u001b[0;32m/tmp/ipython-input-1321068634.py\u001b[0m in \u001b[0;36m<cell line: 0>\u001b[0;34m()\u001b[0m\n\u001b[1;32m      1\u001b[0m \u001b[0;31m# --- Example 1: Basic file reading using open() and read() ---\u001b[0m\u001b[0;34m\u001b[0m\u001b[0;34m\u001b[0m\u001b[0m\n\u001b[1;32m      2\u001b[0m \u001b[0;31m# Open the file in read mode (\"r\")\u001b[0m\u001b[0;34m\u001b[0m\u001b[0;34m\u001b[0m\u001b[0m\n\u001b[0;32m----> 3\u001b[0;31m \u001b[0mfile\u001b[0m \u001b[0;34m=\u001b[0m \u001b[0mopen\u001b[0m\u001b[0;34m(\u001b[0m\u001b[0;34m\"./sample_data/sample.txt\"\u001b[0m\u001b[0;34m,\u001b[0m \u001b[0;34m\"r\"\u001b[0m\u001b[0;34m)\u001b[0m\u001b[0;34m\u001b[0m\u001b[0;34m\u001b[0m\u001b[0m\n\u001b[0m\u001b[1;32m      4\u001b[0m \u001b[0;34m\u001b[0m\u001b[0m\n\u001b[1;32m      5\u001b[0m \u001b[0;31m# Read the entire content of the file as a single string\u001b[0m\u001b[0;34m\u001b[0m\u001b[0;34m\u001b[0m\u001b[0m\n",
            "\u001b[0;31mFileNotFoundError\u001b[0m: [Errno 2] No such file or directory: './sample_data/sample.txt'"
          ]
        }
      ],
      "source": [
        "# --- Example 1: Basic file reading using open() and read() ---\n",
        "# Open the file in read mode (\"r\")\n",
        "file = open(\"./sample_data/sample.txt\", \"r\")\n",
        "\n",
        "# Read the entire content of the file as a single string\n",
        "content = file.read()\n",
        "\n",
        "# Print the type of content to verify (it will be a string)\n",
        "print(type(content))  # Output: <class 'str'>\n",
        "\n",
        "# Close the file after reading (good practice)\n",
        "file.close()\n",
        "\n",
        "# Check if the file is closed or not (returns True if closed)\n",
        "print(file.closed)  # Output: True\n"
      ]
    },
    {
      "cell_type": "code",
      "source": [
        "# --- Example 32 Using 'with open()' (recommended way) ---\n",
        "\n",
        "# 'with' automatically closes the file after the block ends\n",
        "with open(\"./sample_data/sample.txt\", \"r\") as file:\n",
        "    # Read all lines into a list (keeps '\\n' at the end of each line)\n",
        "    content = file.readlines()\n",
        "    print(content)\n",
        "    # Output: ['Hello world\\n', 'Welcome to the AI/ML with Phitron\\n', ' ']\n",
        "\n",
        "# No need to call file.close(), it’s already closed automatically\n",
        "print(file.closed)  # Output: True"
      ],
      "metadata": {
        "colab": {
          "base_uri": "https://localhost:8080/"
        },
        "id": "JzspFpqGLlEk",
        "outputId": "5cc6fe9c-9c15-4d49-f47a-b9e393744996"
      },
      "execution_count": null,
      "outputs": [
        {
          "output_type": "stream",
          "name": "stdout",
          "text": [
            "['Once upon a time, a tiny seed lay buried deep in the soil. Every day, it felt the warmth of the sun above and the cool touch of the rain below.\\n', '\\n', '“I wish I could see the world,” it whispered.\\n', '\\n', 'But the earth around it said, “Not yet. Grow first.”\\n', '\\n', 'So the seed waited. Slowly, it pushed a small green sprout through the soil. Days turned into weeks, and soon, it became a tall, beautiful flower.\\n', '\\n', 'One morning, a little girl passing by smiled and said, “What a lovely flower!”\\n', '\\n', 'The seed finally realized — the world had always been waiting for it to bloom.']\n",
            "True\n"
          ]
        }
      ]
    },
    {
      "cell_type": "code",
      "source": [
        "with open(\"/content/sample.txt\",\"r\") as file:\n",
        "  for line in file:\n",
        "    print(line)"
      ],
      "metadata": {
        "colab": {
          "base_uri": "https://localhost:8080/"
        },
        "id": "x3yH-UvGMQQR",
        "outputId": "25680f4e-ade9-4f7e-ee3a-599bbe6eac3a"
      },
      "execution_count": null,
      "outputs": [
        {
          "output_type": "stream",
          "name": "stdout",
          "text": [
            "Once upon a time, a tiny seed lay buried deep in the soil. Every day, it felt the warmth of the sun above and the cool touch of the rain below.\n",
            "\n",
            "\n",
            "\n",
            "“I wish I could see the world,” it whispered.\n",
            "\n",
            "\n",
            "\n",
            "But the earth around it said, “Not yet. Grow first.”\n",
            "\n",
            "\n",
            "\n",
            "So the seed waited. Slowly, it pushed a small green sprout through the soil. Days turned into weeks, and soon, it became a tall, beautiful flower.\n",
            "\n",
            "\n",
            "\n",
            "One morning, a little girl passing by smiled and said, “What a lovely flower!”\n",
            "\n",
            "\n",
            "\n",
            "The seed finally realized — the world had always been waiting for it to bloom.\n"
          ]
        }
      ]
    },
    {
      "cell_type": "code",
      "source": [
        "with open(\"/content/test.txt\",\"w\") as file:\n",
        "  file.write(\"hehehehhehhhhhhheeeeeeee\\n\")\n",
        "  file.write(\"tuiiiiiiiiiiiiiiiiii\")\n"
      ],
      "metadata": {
        "id": "lPVLd351NF-1"
      },
      "execution_count": null,
      "outputs": []
    },
    {
      "cell_type": "code",
      "source": [
        "# writing on a existing file\n",
        "# it overwrites the file\n",
        "\n",
        "with open(\"/content/test.txt\",\"w\")as file:\n",
        "  file.write(\"ektaaaaaaaaaaaaa\\n\")\n",
        "  file.write(\"shalaaaaaaaaaaa\\n\")\n"
      ],
      "metadata": {
        "id": "mRIIJS9iNlPM"
      },
      "execution_count": null,
      "outputs": []
    },
    {
      "cell_type": "code",
      "source": [
        "# No overwriting just append the text later\n",
        "# append mode\n",
        "with open(\"/content/test.txt\",\"a\") as file:\n",
        "  file.write(\"hehehehhehhhhhhheeeeeeee\\n\")\n",
        "  file.write(\"tuiiiiiiiiiiiiiiiiii\")"
      ],
      "metadata": {
        "id": "CMh7cbGNN6yX"
      },
      "execution_count": null,
      "outputs": []
    },
    {
      "cell_type": "code",
      "source": [
        "\n",
        "\n",
        "file=open(\"/content/sample.txt\",\"r\")\n",
        "content=file.readlines()\n",
        "content=list(map(str.strip,content))\n",
        "print(content)\n",
        "fil_content=list(filter(lambda x:len(x)>=1,content))\n",
        "print(fil_content)"
      ],
      "metadata": {
        "colab": {
          "base_uri": "https://localhost:8080/"
        },
        "id": "fkye46RdOa54",
        "outputId": "7616ef3c-e198-4977-bf02-860f46b269f3"
      },
      "execution_count": null,
      "outputs": [
        {
          "output_type": "stream",
          "name": "stdout",
          "text": [
            "['Once upon a time, a tiny seed lay buried deep in the soil. Every day, it felt the warmth of the sun above and the cool touch of the rain below.', '', '“I wish I could see the world,” it whispered.', '', 'But the earth around it said, “Not yet. Grow first.”', '', 'So the seed waited. Slowly, it pushed a small green sprout through the soil. Days turned into weeks, and soon, it became a tall, beautiful flower.', '', 'One morning, a little girl passing by smiled and said, “What a lovely flower!”', '', 'The seed finally realized — the world had always been waiting for it to bloom.']\n",
            "['Once upon a time, a tiny seed lay buried deep in the soil. Every day, it felt the warmth of the sun above and the cool touch of the rain below.', '“I wish I could see the world,” it whispered.', 'But the earth around it said, “Not yet. Grow first.”', 'So the seed waited. Slowly, it pushed a small green sprout through the soil. Days turned into weeks, and soon, it became a tall, beautiful flower.', 'One morning, a little girl passing by smiled and said, “What a lovely flower!”', 'The seed finally realized — the world had always been waiting for it to bloom.']\n"
          ]
        }
      ]
    },
    {
      "cell_type": "code",
      "source": [
        "strings=['hello','hi','good bye','whatssap']\n",
        "with open(\"/content/test2.txt\",\"a\") as file:\n",
        "  file.writelines(strings)\n"
      ],
      "metadata": {
        "id": "jrA1otKfPkwb"
      },
      "execution_count": null,
      "outputs": []
    },
    {
      "cell_type": "markdown",
      "source": [
        "# **Ftell**"
      ],
      "metadata": {
        "id": "Mg4XAa9cRTMN"
      }
    },
    {
      "cell_type": "code",
      "source": [
        "with open(\"/content/sample.txt\",\"r\") as file:\n",
        "  print(file.tell())\n",
        "  print(file.read(7))\n",
        "\n",
        "  print(file.tell())\n",
        "  print(file.read())\n",
        "\n",
        "  print(file.tell())\n",
        "\n",
        "  print(file.read(5))\n",
        "  print(file.seek(5))"
      ],
      "metadata": {
        "colab": {
          "base_uri": "https://localhost:8080/"
        },
        "id": "LQQ8wzVKRVz7",
        "outputId": "2a688871-0c39-4de7-cdb3-314c7999dab6"
      },
      "execution_count": null,
      "outputs": [
        {
          "output_type": "stream",
          "name": "stdout",
          "text": [
            "0\n",
            "Once up\n",
            "7\n",
            "on a time, a tiny seed lay buried deep in the soil. Every day, it felt the warmth of the sun above and the cool touch of the rain below.\n",
            "\n",
            "“I wish I could see the world,” it whispered.\n",
            "\n",
            "But the earth around it said, “Not yet. Grow first.”\n",
            "\n",
            "So the seed waited. Slowly, it pushed a small green sprout through the soil. Days turned into weeks, and soon, it became a tall, beautiful flower.\n",
            "\n",
            "One morning, a little girl passing by smiled and said, “What a lovely flower!”\n",
            "\n",
            "The seed finally realized — the world had always been waiting for it to bloom.\n",
            "576\n",
            "\n",
            "5\n"
          ]
        }
      ]
    },
    {
      "cell_type": "code",
      "source": [
        "# --- Example 1: Using tell() and read() ---\n",
        "\n",
        "# Open the file safely using 'with' so it closes automatically after use\n",
        "with open(\"/content/sample.txt\", \"r\") as file:\n",
        "    # tell() → shows current cursor position (in bytes/characters)\n",
        "    print(file.tell())      # Output: 0 (cursor at the beginning)\n",
        "\n",
        "    # read() → reads entire content from current cursor position\n",
        "    print(file.read())      # Example output: Hello world\n",
        "\n",
        "    # tell() → now cursor is at the end of the file\n",
        "    print(file.tell())      # Output: 11 (if \"Hello world\" = 11 chars)\n",
        "\n",
        "    # Trying to read again returns '' because cursor is already at the end\n",
        "    print(file.read())      # Output: '' (empty string)\n",
        "\n",
        "\n",
        "\n",
        "# --- Example 2: Reading fixed number of characters with read(n) ---\n",
        "\n",
        "with open(\"/content/sample.txt\", \"r\") as file:\n",
        "    print(file.tell())      # Output: 0 → start of file\n",
        "\n",
        "    # Read first 5 characters only\n",
        "    print(file.read(5))     # Output: Hello\n",
        "\n",
        "    # Cursor now moved 5 positions ahead\n",
        "    print(file.tell())      # Output: 5\n",
        "\n",
        "    # Read the rest of the content\n",
        "    print(file.read())      # Output: \" world\"\n",
        "\n",
        "    # Cursor now at the end\n",
        "    print(file.tell())      # Output: 11\n",
        "\n",
        "\n",
        "\n",
        "# --- Example 3: Moving the cursor manually using seek() ---\n",
        "\n",
        "with open(\"/content/sample.txt\", \"r\") as file:\n",
        "    print(file.tell())      # Output: 0 → cursor at beginning\n",
        "\n",
        "    # Read first 5 characters\n",
        "    print(file.read(5))     # Output: Hello\n",
        "\n",
        "    # Cursor is now at position 5\n",
        "    print(file.tell())      # Output: 5\n",
        "\n",
        "    # Move cursor back to position 0 (start of file)\n",
        "    file.seek(0)\n",
        "    print(file.tell())      # Output: 0\n",
        "\n",
        "    # Read again from the beginning\n",
        "    print(file.read(5))     # Output: Hello\n"
      ],
      "metadata": {
        "colab": {
          "base_uri": "https://localhost:8080/",
          "height": 245
        },
        "id": "Ws6VWOgrVdfq",
        "outputId": "0e9de6c1-8932-4ffd-f5b3-993334d3ade8"
      },
      "execution_count": null,
      "outputs": [
        {
          "output_type": "error",
          "ename": "FileNotFoundError",
          "evalue": "[Errno 2] No such file or directory: '/content/sample.txt'",
          "traceback": [
            "\u001b[0;31m---------------------------------------------------------------------------\u001b[0m",
            "\u001b[0;31mFileNotFoundError\u001b[0m                         Traceback (most recent call last)",
            "\u001b[0;32m/tmp/ipython-input-1385990342.py\u001b[0m in \u001b[0;36m<cell line: 0>\u001b[0;34m()\u001b[0m\n\u001b[1;32m      2\u001b[0m \u001b[0;34m\u001b[0m\u001b[0m\n\u001b[1;32m      3\u001b[0m \u001b[0;31m# Open the file safely using 'with' so it closes automatically after use\u001b[0m\u001b[0;34m\u001b[0m\u001b[0;34m\u001b[0m\u001b[0m\n\u001b[0;32m----> 4\u001b[0;31m \u001b[0;32mwith\u001b[0m \u001b[0mopen\u001b[0m\u001b[0;34m(\u001b[0m\u001b[0;34m\"/content/sample.txt\"\u001b[0m\u001b[0;34m,\u001b[0m \u001b[0;34m\"r\"\u001b[0m\u001b[0;34m)\u001b[0m \u001b[0;32mas\u001b[0m \u001b[0mfile\u001b[0m\u001b[0;34m:\u001b[0m\u001b[0;34m\u001b[0m\u001b[0;34m\u001b[0m\u001b[0m\n\u001b[0m\u001b[1;32m      5\u001b[0m     \u001b[0;31m# tell() → shows current cursor position (in bytes/characters)\u001b[0m\u001b[0;34m\u001b[0m\u001b[0;34m\u001b[0m\u001b[0m\n\u001b[1;32m      6\u001b[0m     \u001b[0mprint\u001b[0m\u001b[0;34m(\u001b[0m\u001b[0mfile\u001b[0m\u001b[0;34m.\u001b[0m\u001b[0mtell\u001b[0m\u001b[0;34m(\u001b[0m\u001b[0;34m)\u001b[0m\u001b[0;34m)\u001b[0m      \u001b[0;31m# Output: 0 (cursor at the beginning)\u001b[0m\u001b[0;34m\u001b[0m\u001b[0;34m\u001b[0m\u001b[0m\n",
            "\u001b[0;31mFileNotFoundError\u001b[0m: [Errno 2] No such file or directory: '/content/sample.txt'"
          ]
        }
      ]
    },
    {
      "cell_type": "markdown",
      "source": [
        "**Practice 1 :**"
      ],
      "metadata": {
        "id": "vOEOJvucwrsz"
      }
    },
    {
      "cell_type": "markdown",
      "source": [
        "Get the text from sample.txt , and count the following\n",
        "\n",
        "Number of lines\n",
        "\n",
        "Number of words\n",
        "\n",
        "Number of characters\n",
        "\n",
        "and save it to the counter_of_string.txt file"
      ],
      "metadata": {
        "id": "FF0tOeE7wybv"
      }
    },
    {
      "cell_type": "code",
      "source": [
        "with open(\"/content/sample.txt\", \"r\") as file:\n",
        "  content=file.read()\n",
        "  print(content)\n",
        "\n",
        "  num_of_lines=len(content.splitlines())\n",
        "  print(num_of_lines)\n",
        "\n",
        "  num_of_words=len(content.split())\n",
        "  print(num_of_words)\n",
        "\n",
        "  num_of_chars=len(content)\n",
        "  print(num_of_chars)\n",
        "\n",
        "  with open(\"/content/counter_of_string.txt\",\"w\") as file:\n",
        "    file.write(f\"Number of lines: {num_of_lines}\\n\")\n",
        "    file.write(f\"Number of words: {num_of_words}\\n\")\n",
        "    file.write(f\"Number of characters: {num_of_chars}\\n\")"
      ],
      "metadata": {
        "colab": {
          "base_uri": "https://localhost:8080/"
        },
        "id": "kRVAGBxAwugL",
        "outputId": "ed4b7c4c-ca97-4c3d-82a6-56a288d8bc94"
      },
      "execution_count": 13,
      "outputs": [
        {
          "output_type": "stream",
          "name": "stdout",
          "text": [
            "Once upon a time, a tiny seed lay buried deep in the soil. Every day, it felt the warmth of the sun above and the cool touch of the rain below.\n",
            "\n",
            "“I wish I could see the world,” it whispered.\n",
            "\n",
            "But the earth around it said, “Not yet. Grow first.”\n",
            "\n",
            "So the seed waited. Slowly, it pushed a small green sprout through the soil. Days turned into weeks, and soon, it became a tall, beautiful flower.\n",
            "\n",
            "One morning, a little girl passing by smiled and said, “What a lovely flower!”\n",
            "\n",
            "The seed finally realized — the world had always been waiting for it to bloom.\n",
            "11\n",
            "105\n",
            "552\n"
          ]
        }
      ]
    },
    {
      "cell_type": "code",
      "metadata": {
        "id": "d5deb8a6"
      },
      "source": [
        "# Create the file /content/sample.txt with the content from cell JzspFpqGLlEk\n",
        "file_content = \"\"\"Once upon a time, a tiny seed lay buried deep in the soil. Every day, it felt the warmth of the sun above and the cool touch of the rain below.\n",
        "\n",
        "“I wish I could see the world,” it whispered.\n",
        "\n",
        "But the earth around it said, “Not yet. Grow first.”\n",
        "\n",
        "So the seed waited. Slowly, it pushed a small green sprout through the soil. Days turned into weeks, and soon, it became a tall, beautiful flower.\n",
        "\n",
        "One morning, a little girl passing by smiled and said, “What a lovely flower!”\n",
        "\n",
        "The seed finally realized — the world had always been waiting for it to bloom.\"\"\"\n",
        "\n",
        "with open(\"/content/sample.txt\", \"w\") as file:\n",
        "    file.write(file_content)"
      ],
      "execution_count": 7,
      "outputs": []
    }
  ]
}