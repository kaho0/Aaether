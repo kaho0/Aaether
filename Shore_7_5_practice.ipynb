{
  "nbformat": 4,
  "nbformat_minor": 0,
  "metadata": {
    "colab": {
      "provenance": [],
      "authorship_tag": "ABX9TyP52vuphANEBJq7MjyUJ6B1",
      "include_colab_link": true
    },
    "kernelspec": {
      "name": "python3",
      "display_name": "Python 3"
    },
    "language_info": {
      "name": "python"
    }
  },
  "cells": [
    {
      "cell_type": "markdown",
      "metadata": {
        "id": "view-in-github",
        "colab_type": "text"
      },
      "source": [
        "<a href=\"https://colab.research.google.com/github/kaho0/SandBox/blob/main/Shore_7_5_practice.ipynb\" target=\"_parent\"><img src=\"https://colab.research.google.com/assets/colab-badge.svg\" alt=\"Open In Colab\"/></a>"
      ]
    },
    {
      "cell_type": "markdown",
      "source": [
        " Given two sets of friends from two people, find the mutual friends, unique friends of each, and the total number of unique friends.\n"
      ],
      "metadata": {
        "id": "ry9HsJ2qeQa1"
      }
    },
    {
      "cell_type": "code",
      "execution_count": 4,
      "metadata": {
        "colab": {
          "base_uri": "https://localhost:8080/"
        },
        "id": "Fb_0SJ0bbBnL",
        "outputId": "a872b910-a2ae-4c80-cb16-774c52ca23f3"
      },
      "outputs": [
        {
          "output_type": "stream",
          "name": "stdout",
          "text": [
            "Enter names for first list: rahim karim sakib jamal\n",
            "Enter names for second list: sakib jamal rafiq nadim\n",
            "{'jamal', 'sakib'}\n",
            "Unique to A: {'rahim', 'karim'}\n",
            "Unique to B: {'rafiq', 'nadim'}\n"
          ]
        }
      ],
      "source": [
        "x=input(\"Enter names for first list: \").split()\n",
        "y=input(\"Enter names for second list: \").split()\n",
        "z=set(x).intersection(set(y))\n",
        "print(z)\n",
        "n=set(x)-set(y)\n",
        "print(f\"Unique to A: {n}\")\n",
        "\n",
        "m=set(y)-set(x)\n",
        "print(f\"Unique to B: {m}\")"
      ]
    },
    {
      "cell_type": "markdown",
      "source": [
        " You are given a list of tuples — each containing a student’s name and mark.\n",
        " Sort them in descending order of marks and print the top 3 scorers.\n"
      ],
      "metadata": {
        "id": "uotY15xxeSYb"
      }
    },
    {
      "cell_type": "code",
      "source": [
        "n=int(input(\"Enter number of students: \"))\n",
        "students=[]\n",
        "\n",
        "for i in range(n):\n",
        "  name=input(f\"Enter name of student {i+1}: \")\n",
        "  mark=int(input(f\"Enter mark of student {i+1}: \"))\n",
        "  students.append((name,mark))\n",
        "\n",
        "students_sorted=sorted(students,key=lambda x:x[1],reverse=True)\n",
        "print(\"Top 3 students: \")\n",
        "for name,mark in students_sorted[:3]:\n",
        "  print(f\"{name} - {mark}\")\n",
        "\n",
        "\n"
      ],
      "metadata": {
        "colab": {
          "base_uri": "https://localhost:8080/"
        },
        "id": "MvmjMo7LbzAa",
        "outputId": "8c673cc9-90b4-4e7c-c21e-ed3742c37f13"
      },
      "execution_count": 9,
      "outputs": [
        {
          "output_type": "stream",
          "name": "stdout",
          "text": [
            "Enter number of students: 4\n",
            "Enter name of student 1: In nostrum aut venia\n",
            "Enter mark of student 1: 77\n",
            "Enter name of student 2: Qui nulla et atque p\n",
            "Enter mark of student 2: 88\n",
            "Enter name of student 3: Labore eos ad deser\n",
            "Enter mark of student 3: 98\n",
            "Enter name of student 4: Earum ipsum laborum\n",
            "Enter mark of student 4: 65\n",
            "Top 3 students: \n",
            "Labore eos ad deser - 98\n",
            "Qui nulla et atque p - 88\n",
            "In nostrum aut venia - 77\n"
          ]
        }
      ]
    },
    {
      "cell_type": "markdown",
      "source": [
        " Given a list of words, use filter() and lambda to return only words whose length is greater than 4.\n"
      ],
      "metadata": {
        "id": "PgRW9JwjhQsi"
      }
    },
    {
      "cell_type": "code",
      "source": [
        "x=list(map(str,input(\"Enter words: \").split()))\n",
        "y=list(filter(lambda x:len(x)>4,x))\n",
        "print(y)"
      ],
      "metadata": {
        "colab": {
          "base_uri": "https://localhost:8080/"
        },
        "id": "hGos_PvObioH",
        "outputId": "96b5910c-6103-41c4-e06d-2a9b59553f3d"
      },
      "execution_count": 10,
      "outputs": [
        {
          "output_type": "stream",
          "name": "stdout",
          "text": [
            "Enter words: kahon hehe naiii matha brainn too ekeno\n",
            "['kahon', 'naiii', 'matha', 'brainn', 'ekeno']\n"
          ]
        }
      ]
    },
    {
      "cell_type": "code",
      "source": [
        "x=list(map(int,input(\"Enter numbers: \").split()))\n",
        "y=list(map(lambda x:x**2,filter(lambda x:x%2==0,y)))\n",
        "print(y)"
      ],
      "metadata": {
        "colab": {
          "base_uri": "https://localhost:8080/"
        },
        "id": "tu88jiGBhv5Y",
        "outputId": "f9bbf0bc-2f12-453a-f28e-33f3887670c4"
      },
      "execution_count": 17,
      "outputs": [
        {
          "output_type": "stream",
          "name": "stdout",
          "text": [
            "Enter numbers: 1 2 3 4 5 6\n",
            "[4, 16, 36]\n"
          ]
        }
      ]
    },
    {
      "cell_type": "code",
      "source": [
        "with open (\"/data.txt\",\"w+\") as file:\n",
        "  file.write(\"Learning Python is fun!\")\n",
        "  file.seek(0)\n",
        "  print(file.tell())\n",
        "  content=file.read()\n",
        "  print(content)"
      ],
      "metadata": {
        "colab": {
          "base_uri": "https://localhost:8080/"
        },
        "id": "6r6MX9Bpiu7H",
        "outputId": "fa8dbaee-fbfc-4756-f54e-71f969db7b4d"
      },
      "execution_count": 22,
      "outputs": [
        {
          "output_type": "stream",
          "name": "stdout",
          "text": [
            "0\n",
            "Learning Python is fun!\n"
          ]
        }
      ]
    },
    {
      "cell_type": "markdown",
      "source": [
        " Write a Python program to count how many lines are in a text file named story.txt.\n",
        " If the file does not exist, handle the exception and print an error message, otherwise read the text file ( test it with both conditions ). Print a message finally.\n"
      ],
      "metadata": {
        "id": "JR5t5v5Sju1h"
      }
    },
    {
      "cell_type": "code",
      "source": [
        "#if doesnt exist\n",
        "try:\n",
        "  file=open(\"/story.txt\")\n",
        "except Exception as e:\n",
        "  print(e)\n",
        "else:\n",
        "  print(file.read())\n",
        "finally:\n",
        "  print(\"DOnee\")"
      ],
      "metadata": {
        "colab": {
          "base_uri": "https://localhost:8080/"
        },
        "id": "O5oSz25_juB4",
        "outputId": "b2e6a358-8f6d-41e2-a07b-4d4bff512f7a"
      },
      "execution_count": 23,
      "outputs": [
        {
          "output_type": "stream",
          "name": "stdout",
          "text": [
            "[Errno 2] No such file or directory: '/story.txt'\n",
            "DOnee\n"
          ]
        }
      ]
    },
    {
      "cell_type": "code",
      "source": [
        "# Part 1: Write file if it exists\n",
        "file_content = \"\"\"Once upon a time, a tiny seed lay buried deep in the soil. Every day, it felt the warmth of the sun above and the cool touch of the rain below.\n",
        "\n",
        "“I wish I could see the world,” it whispered.\n",
        "\n",
        "But the earth around it said, “Not yet. Grow first.”\n",
        "\n",
        "So the seed waited. Slowly, it pushed a small green sprout through the soil. Days turned into weeks, and soon, it became a tall, beautiful flower.\n",
        "\n",
        "One morning, a little girl passing by smiled and said, “What a lovely flower!”\n",
        "\n",
        "The seed finally realized — the world had always been waiting for it to bloom.\"\"\"\n",
        "\n",
        "# Write the file line by line\n",
        "with open(\"sample.txt\", \"w\") as file:\n",
        "    for line in file_content.splitlines():\n",
        "        file.write(line + \"\\n\")  # Write line with newline\n",
        "\n",
        "print(\"sample.txt has been written.\\n\")\n",
        "\n",
        "# Part 2: Read a file safely\n",
        "try:\n",
        "    with open(\"sample.txt\", \"r\") as file:  # Try to open file\n",
        "        content = file.read()\n",
        "        print(\"File content:\\n\", content)\n",
        "except FileNotFoundError as e:\n",
        "    print(\"Error:\", e)\n",
        "finally:\n",
        "    print(\"Done!\")\n"
      ],
      "metadata": {
        "colab": {
          "base_uri": "https://localhost:8080/"
        },
        "id": "80_uyyLAkCOt",
        "outputId": "2eb41941-0926-47b9-8ecd-59f4d4b4e2f4"
      },
      "execution_count": 32,
      "outputs": [
        {
          "output_type": "stream",
          "name": "stdout",
          "text": [
            "sample.txt has been written.\n",
            "\n",
            "File content:\n",
            " Once upon a time, a tiny seed lay buried deep in the soil. Every day, it felt the warmth of the sun above and the cool touch of the rain below.\n",
            "\n",
            "“I wish I could see the world,” it whispered.\n",
            "\n",
            "But the earth around it said, “Not yet. Grow first.”\n",
            "\n",
            "So the seed waited. Slowly, it pushed a small green sprout through the soil. Days turned into weeks, and soon, it became a tall, beautiful flower.\n",
            "\n",
            "One morning, a little girl passing by smiled and said, “What a lovely flower!”\n",
            "\n",
            "The seed finally realized — the world had always been waiting for it to bloom.\n",
            "\n",
            "Done!\n"
          ]
        }
      ]
    },
    {
      "cell_type": "markdown",
      "source": [],
      "metadata": {
        "id": "hNpxFyW0k1ky"
      }
    }
  ]
}