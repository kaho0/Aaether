{
  "nbformat": 4,
  "nbformat_minor": 0,
  "metadata": {
    "colab": {
      "provenance": [],
      "authorship_tag": "ABX9TyMhskzN3ejJw6cpjXcpv0p9",
      "include_colab_link": true
    },
    "kernelspec": {
      "name": "python3",
      "display_name": "Python 3"
    },
    "language_info": {
      "name": "python"
    }
  },
  "cells": [
    {
      "cell_type": "markdown",
      "metadata": {
        "id": "view-in-github",
        "colab_type": "text"
      },
      "source": [
        "<a href=\"https://colab.research.google.com/github/kaho0/SandBox/blob/main/Shore_8.ipynb\" target=\"_parent\"><img src=\"https://colab.research.google.com/assets/colab-badge.svg\" alt=\"Open In Colab\"/></a>"
      ]
    },
    {
      "cell_type": "markdown",
      "source": [
        "# **Class & Objects**"
      ],
      "metadata": {
        "id": "_c4TVVpPqS7J"
      }
    },
    {
      "cell_type": "code",
      "execution_count": 26,
      "metadata": {
        "id": "gZIfAJKRqPZG"
      },
      "outputs": [],
      "source": [
        "class Car:\n",
        "  def __init__(self,brand,model,engine_num):\n",
        "    self.brand=brand\n",
        "    self.model=model\n",
        "    self.__engine_num=engine_num\n",
        "  def get_engine_num(self):\n",
        "    return self.__engine_num\n",
        "  def set_engine_num(self,engine_num):\n",
        "    self.__engine_num=engine_num\n",
        "\n",
        "  def display(self):\n",
        "    print(self.brand,self.model,self.__engine_num)"
      ]
    },
    {
      "cell_type": "code",
      "source": [
        "car1 = Car(\"Toyota\", \"Corolla\", \"ENG-999\")\n",
        "car1.display()"
      ],
      "metadata": {
        "colab": {
          "base_uri": "https://localhost:8080/"
        },
        "id": "kar4j_yyqcVM",
        "outputId": "5ee1b2ea-2b9f-4735-8c62-e47ac1f7c4fb"
      },
      "execution_count": 25,
      "outputs": [
        {
          "output_type": "stream",
          "name": "stdout",
          "text": [
            "Toyota Corolla ENG-999\n"
          ]
        }
      ]
    },
    {
      "cell_type": "markdown",
      "source": [
        "# **INHERITANCE**"
      ],
      "metadata": {
        "id": "yU88kn0hdpc-"
      }
    },
    {
      "cell_type": "code",
      "source": [
        "class Car:\n",
        "  def __init__(self,brand):\n",
        "    self.brand=brand\n",
        "  def drive(self):\n",
        "    print(f\"{self.brand} is driving\") # From parent\n",
        "\n",
        "#child class\n",
        "\n",
        "class ElectricCar(Car):\n",
        "  def __init__(self,brand,battery):\n",
        "    super().__init__(brand)\n",
        "    self.battery=battery\n",
        "  def charge(self):\n",
        "    print(f\"{self.brand} is charging\") # From child\n",
        "\n",
        "tesla=ElectricCar(\"Tesla\",100)\n",
        "tesla.drive()  # From parent\n",
        "tesla.charge() # From child"
      ],
      "metadata": {
        "id": "w_prbML47dIH",
        "colab": {
          "base_uri": "https://localhost:8080/"
        },
        "outputId": "1c368108-93f0-4d99-fbf4-bec99f316589"
      },
      "execution_count": 29,
      "outputs": [
        {
          "output_type": "stream",
          "name": "stdout",
          "text": [
            "Tesla is driving\n",
            "Tesla is charging\n"
          ]
        }
      ]
    },
    {
      "cell_type": "markdown",
      "source": [
        "# **Inheritance**"
      ],
      "metadata": {
        "id": "Ef8_Ypg9_2qn"
      }
    },
    {
      "cell_type": "code",
      "source": [],
      "metadata": {
        "colab": {
          "base_uri": "https://localhost:8080/"
        },
        "id": "wdWoAP_S_1rV",
        "outputId": "854531b6-b7db-461e-db20-d31ca87e61d7"
      },
      "execution_count": 14,
      "outputs": [
        {
          "output_type": "stream",
          "name": "stdout",
          "text": [
            "snapdragon\n",
            "FAst charge in process\n",
            "charge completed by 2\n"
          ]
        }
      ]
    },
    {
      "cell_type": "code",
      "source": [],
      "metadata": {
        "id": "8jEYzfAAUiSy"
      },
      "execution_count": null,
      "outputs": []
    },
    {
      "cell_type": "code",
      "source": [],
      "metadata": {
        "id": "rrS0xp31S7N5"
      },
      "execution_count": null,
      "outputs": []
    },
    {
      "cell_type": "code",
      "metadata": {
        "id": "1bef88f8"
      },
      "source": [],
      "execution_count": null,
      "outputs": []
    }
  ]
}