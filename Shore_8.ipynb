{
  "nbformat": 4,
  "nbformat_minor": 0,
  "metadata": {
    "colab": {
      "provenance": [],
      "authorship_tag": "ABX9TyNAKOwEQD6zoPKFQuV3YIa5",
      "include_colab_link": true
    },
    "kernelspec": {
      "name": "python3",
      "display_name": "Python 3"
    },
    "language_info": {
      "name": "python"
    }
  },
  "cells": [
    {
      "cell_type": "markdown",
      "metadata": {
        "id": "view-in-github",
        "colab_type": "text"
      },
      "source": [
        "<a href=\"https://colab.research.google.com/github/kaho0/SandBox/blob/main/Shore_8.ipynb\" target=\"_parent\"><img src=\"https://colab.research.google.com/assets/colab-badge.svg\" alt=\"Open In Colab\"/></a>"
      ]
    },
    {
      "cell_type": "markdown",
      "source": [
        "# **Class & Objects**"
      ],
      "metadata": {
        "id": "_c4TVVpPqS7J"
      }
    },
    {
      "cell_type": "code",
      "execution_count": 26,
      "metadata": {
        "id": "gZIfAJKRqPZG"
      },
      "outputs": [],
      "source": [
        "class Car:\n",
        "  def __init__(self,brand,model,engine_num):\n",
        "    self.brand=brand\n",
        "    self.model=model\n",
        "    self.__engine_num=engine_num\n",
        "  def get_engine_num(self):\n",
        "    return self.__engine_num\n",
        "  def set_engine_num(self,engine_num):\n",
        "    self.__engine_num=engine_num\n",
        "\n",
        "  def display(self):\n",
        "    print(self.brand,self.model,self.__engine_num)"
      ]
    },
    {
      "cell_type": "code",
      "source": [
        "car1 = Car(\"Toyota\", \"Corolla\", \"ENG-999\")\n",
        "car1.display()"
      ],
      "metadata": {
        "colab": {
          "base_uri": "https://localhost:8080/"
        },
        "id": "kar4j_yyqcVM",
        "outputId": "5ee1b2ea-2b9f-4735-8c62-e47ac1f7c4fb"
      },
      "execution_count": 25,
      "outputs": [
        {
          "output_type": "stream",
          "name": "stdout",
          "text": [
            "Toyota Corolla ENG-999\n"
          ]
        }
      ]
    },
    {
      "cell_type": "code",
      "source": [],
      "metadata": {
        "id": "w_prbML47dIH"
      },
      "execution_count": null,
      "outputs": []
    },
    {
      "cell_type": "markdown",
      "source": [
        "# **Inheritance**"
      ],
      "metadata": {
        "id": "Ef8_Ypg9_2qn"
      }
    },
    {
      "cell_type": "code",
      "source": [],
      "metadata": {
        "colab": {
          "base_uri": "https://localhost:8080/"
        },
        "id": "wdWoAP_S_1rV",
        "outputId": "854531b6-b7db-461e-db20-d31ca87e61d7"
      },
      "execution_count": 14,
      "outputs": [
        {
          "output_type": "stream",
          "name": "stdout",
          "text": [
            "snapdragon\n",
            "FAst charge in process\n",
            "charge completed by 2\n"
          ]
        }
      ]
    },
    {
      "cell_type": "code",
      "source": [],
      "metadata": {
        "id": "8jEYzfAAUiSy"
      },
      "execution_count": null,
      "outputs": []
    },
    {
      "cell_type": "code",
      "source": [],
      "metadata": {
        "id": "rrS0xp31S7N5"
      },
      "execution_count": null,
      "outputs": []
    },
    {
      "cell_type": "code",
      "metadata": {
        "id": "1bef88f8"
      },
      "source": [],
      "execution_count": null,
      "outputs": []
    }
  ]
}