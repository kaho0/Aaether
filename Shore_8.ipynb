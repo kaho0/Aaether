{
  "nbformat": 4,
  "nbformat_minor": 0,
  "metadata": {
    "colab": {
      "provenance": [],
      "authorship_tag": "ABX9TyNdOB8drmVVeAJ8hiXiOCyP",
      "include_colab_link": true
    },
    "kernelspec": {
      "name": "python3",
      "display_name": "Python 3"
    },
    "language_info": {
      "name": "python"
    }
  },
  "cells": [
    {
      "cell_type": "markdown",
      "metadata": {
        "id": "view-in-github",
        "colab_type": "text"
      },
      "source": [
        "<a href=\"https://colab.research.google.com/github/kaho0/SandBox/blob/main/Shore_8.ipynb\" target=\"_parent\"><img src=\"https://colab.research.google.com/assets/colab-badge.svg\" alt=\"Open In Colab\"/></a>"
      ]
    },
    {
      "cell_type": "markdown",
      "source": [
        "# **Class & Objects**"
      ],
      "metadata": {
        "id": "_c4TVVpPqS7J"
      }
    },
    {
      "cell_type": "code",
      "execution_count": 10,
      "metadata": {
        "id": "gZIfAJKRqPZG"
      },
      "outputs": [],
      "source": [
        "class Phone:\n",
        "  category=\"Electronics\"\n",
        "\n",
        "  #constructor\n",
        "\n",
        "  def __init__(self,model,battery,camera):\n",
        "    self.model=model\n",
        "    self.battery=battery\n",
        "    self.camera=camera\n"
      ]
    },
    {
      "cell_type": "code",
      "source": [
        "apple=Phone(\"Iphone17\",3000,40)\n",
        "blueberry=Phone(\"B-17\",4000,50)\n",
        "print(type(apple))\n",
        "print(apple.category)\n",
        "print(apple.battery)\n",
        "print(blueberry.camera)\n",
        "print(blueberry.category)"
      ],
      "metadata": {
        "colab": {
          "base_uri": "https://localhost:8080/"
        },
        "id": "kar4j_yyqcVM",
        "outputId": "3faeae0c-cccc-4cfb-da7a-1aeca368b998"
      },
      "execution_count": 14,
      "outputs": [
        {
          "output_type": "stream",
          "name": "stdout",
          "text": [
            "<class '__main__.Phone'>\n",
            "Electronics\n",
            "3000\n",
            "50\n",
            "Electronics\n"
          ]
        }
      ]
    },
    {
      "cell_type": "code",
      "source": [
        "18+8+11+9"
      ],
      "metadata": {
        "id": "w_prbML47dIH"
      },
      "execution_count": null,
      "outputs": []
    }
  ]
}