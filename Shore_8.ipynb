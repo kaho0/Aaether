{
  "nbformat": 4,
  "nbformat_minor": 0,
  "metadata": {
    "colab": {
      "provenance": [],
      "authorship_tag": "ABX9TyP2Gu8inrx+bCC+HLT3Lqd0",
      "include_colab_link": true
    },
    "kernelspec": {
      "name": "python3",
      "display_name": "Python 3"
    },
    "language_info": {
      "name": "python"
    }
  },
  "cells": [
    {
      "cell_type": "markdown",
      "metadata": {
        "id": "view-in-github",
        "colab_type": "text"
      },
      "source": [
        "<a href=\"https://colab.research.google.com/github/kaho0/SandBox/blob/main/Shore_8.ipynb\" target=\"_parent\"><img src=\"https://colab.research.google.com/assets/colab-badge.svg\" alt=\"Open In Colab\"/></a>"
      ]
    },
    {
      "cell_type": "markdown",
      "source": [
        "# **Class & Objects**"
      ],
      "metadata": {
        "id": "_c4TVVpPqS7J"
      }
    },
    {
      "cell_type": "code",
      "execution_count": 1,
      "metadata": {
        "id": "gZIfAJKRqPZG"
      },
      "outputs": [],
      "source": [
        "class Phone:\n",
        "  category=\"Electronics\"\n",
        "\n",
        "  #constructor\n",
        "\n",
        "  def __init__(self,model,battery,camera):\n",
        "    self.model=model\n",
        "    self.battery=battery\n",
        "    self.camera=camera\n"
      ]
    },
    {
      "cell_type": "code",
      "source": [
        " ##base class / parent class\n",
        "class Phone:\n",
        "  category = \"Electronics\"\n",
        "\n",
        "  # constructor\n",
        "\n",
        "  def __init__(self,model , battery , camera,battery_percentage=100):\n",
        "    self.model = model\n",
        "    self.battery = battery\n",
        "    self.camera = camera\n",
        "    self.battery_percentage = battery_percentage\n",
        "\n",
        "  # methods\n",
        "  def charge(self,hour):\n",
        "    print(f\"charge completed by {hour}\")\n",
        "\n",
        "  def capture(self,photo):\n",
        "    if(self.battery_percentage)<=0:\n",
        "      print(\"No charge\")\n",
        "    else:\n",
        "      self.battery_percentage-=photo\n",
        "      print(f\"photo captured in {self.model}\")\n",
        "\n",
        "\n",
        "\n",
        "class Cooling_Mechanism:\n",
        "  def __init__(self,cooling_method):\n",
        "    self.cooling_method= cooling_method\n",
        "\n",
        "\n",
        "  #methods\n",
        "  def cooling_on(self):\n",
        "    print(f\"the system is being cool by {self.cooling_method}\")\n",
        "\n",
        "\n",
        "\n",
        "\n",
        "\n",
        "\n",
        "## creating object\n",
        "\n",
        "apple = Phone(\"Iphone17\",3000,40,66)\n",
        "blueberry = Phone(\"B-17\",4000,30,88)\n",
        "motorola = Phone(\"M-17\",3500,35,100)\n",
        "apple.capture(10)\n",
        "print(motorola.battery_percentage)\n"
      ],
      "metadata": {
        "colab": {
          "base_uri": "https://localhost:8080/"
        },
        "id": "kar4j_yyqcVM",
        "outputId": "d0627864-10c9-41ff-d47a-c647a96618c0"
      },
      "execution_count": 12,
      "outputs": [
        {
          "output_type": "stream",
          "name": "stdout",
          "text": [
            "photo captured in Iphone17\n",
            "100\n"
          ]
        }
      ]
    },
    {
      "cell_type": "code",
      "source": [
        "18+8+11+9"
      ],
      "metadata": {
        "id": "w_prbML47dIH"
      },
      "execution_count": null,
      "outputs": []
    },
    {
      "cell_type": "markdown",
      "source": [
        "# **Inheritance**"
      ],
      "metadata": {
        "id": "Ef8_Ypg9_2qn"
      }
    },
    {
      "cell_type": "code",
      "source": [
        "#child class\n",
        "class SmartPhone(Phone):\n",
        "  def __init__(self,model,battery,camera,processor):\n",
        "    super().__init__(model,battery,camera)\n",
        "    self.processor=processor\n",
        "\n",
        "\n",
        "  def charge(self,hour):\n",
        "    print(\"FAst charge in process\")\n",
        "    super().charge(hour)\n",
        "\n",
        "pro=SmartPhone(\"X\",5000,20,\"snapdragon\")\n",
        "print(pro.processor)\n",
        "pro.charge(2)"
      ],
      "metadata": {
        "colab": {
          "base_uri": "https://localhost:8080/"
        },
        "id": "wdWoAP_S_1rV",
        "outputId": "854531b6-b7db-461e-db20-d31ca87e61d7"
      },
      "execution_count": 14,
      "outputs": [
        {
          "output_type": "stream",
          "name": "stdout",
          "text": [
            "snapdragon\n",
            "FAst charge in process\n",
            "charge completed by 2\n"
          ]
        }
      ]
    },
    {
      "cell_type": "code",
      "source": [
        "class Student:\n",
        "  def __init__(self,name):\n",
        "    self.name=name\n",
        "s=Student(\"Rafi\")\n",
        "print(s.name)"
      ],
      "metadata": {
        "id": "rrS0xp31S7N5"
      },
      "execution_count": null,
      "outputs": []
    },
    {
      "cell_type": "code",
      "metadata": {
        "id": "1bef88f8"
      },
      "source": [
        "class Student:\n",
        "  pass"
      ],
      "execution_count": null,
      "outputs": []
    }
  ]
}