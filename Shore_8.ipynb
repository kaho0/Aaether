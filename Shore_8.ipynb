{
  "nbformat": 4,
  "nbformat_minor": 0,
  "metadata": {
    "colab": {
      "provenance": [],
      "authorship_tag": "ABX9TyMlzvMs4l5huzZjqbS+4Pot",
      "include_colab_link": true
    },
    "kernelspec": {
      "name": "python3",
      "display_name": "Python 3"
    },
    "language_info": {
      "name": "python"
    }
  },
  "cells": [
    {
      "cell_type": "markdown",
      "metadata": {
        "id": "view-in-github",
        "colab_type": "text"
      },
      "source": [
        "<a href=\"https://colab.research.google.com/github/kaho0/Abstract/blob/main/Shore_8.ipynb\" target=\"_parent\"><img src=\"https://colab.research.google.com/assets/colab-badge.svg\" alt=\"Open In Colab\"/></a>"
      ]
    },
    {
      "cell_type": "markdown",
      "source": [
        "# **Class & Objects**"
      ],
      "metadata": {
        "id": "_c4TVVpPqS7J"
      }
    },
    {
      "cell_type": "code",
      "execution_count": 30,
      "metadata": {
        "id": "gZIfAJKRqPZG"
      },
      "outputs": [],
      "source": [
        "class Car:\n",
        "  # Constructor with brand, model, and engine number\n",
        "  def __init__(self,brand,model,engine_num):\n",
        "    self.brand=brand # Public attribute for brand\n",
        "    self.model=model # Public attribute for model\n",
        "    self.__engine_num=engine_num # Private attribute for engine number\n",
        "\n",
        "  # Method to get the private engine number\n",
        "  def get_engine_num(self):\n",
        "    return self.__engine_num\n",
        "\n",
        "  # Method to set the private engine number\n",
        "  def set_engine_num(self,engine_num):\n",
        "    self.__engine_num=engine_num\n",
        "\n",
        "  # Another constructor with only brand (this will override the previous __init__)\n",
        "  def __init__(self,brand):\n",
        "    self.brand=brand\n",
        "\n",
        "  # Method to simulate driving action\n",
        "  def drive(self):\n",
        "    print(f\"{self.brand} is driving\") # From parent\n",
        "\n",
        "  # Method to display car information\n",
        "  def display(self):\n",
        "    # This method will cause an error because __engine_num is not accessible after the second __init__\n",
        "    print(self.brand,self.model,self.__engine_num)"
      ]
    },
    {
      "cell_type": "code",
      "source": [
        "car1 = Car(\"Toyota\", \"Corolla\", \"ENG-999\")\n",
        "car1.display()"
      ],
      "metadata": {
        "colab": {
          "base_uri": "https://localhost:8080/"
        },
        "id": "kar4j_yyqcVM",
        "outputId": "5ee1b2ea-2b9f-4735-8c62-e47ac1f7c4fb"
      },
      "execution_count": 25,
      "outputs": [
        {
          "output_type": "stream",
          "name": "stdout",
          "text": [
            "Toyota Corolla ENG-999\n"
          ]
        }
      ]
    },
    {
      "cell_type": "markdown",
      "source": [
        "# **INHERITANCE**"
      ],
      "metadata": {
        "id": "yU88kn0hdpc-"
      }
    },
    {
      "cell_type": "code",
      "source": [
        "#child class\n",
        "\n",
        "class ElectricCar(Car):\n",
        "  def __init__(self,brand,battery):\n",
        "    super().__init__(brand)\n",
        "    self.battery=battery\n",
        "  def charge(self):\n",
        "    print(f\"{self.brand} is charging\") # From child\n",
        "\n",
        "tesla=ElectricCar(\"Tesla\",100)\n",
        "tesla.drive()  # From parent\n",
        "tesla.charge() # From child"
      ],
      "metadata": {
        "id": "w_prbML47dIH",
        "colab": {
          "base_uri": "https://localhost:8080/"
        },
        "outputId": "765255a2-e836-43af-e6ef-b9010bddbef3"
      },
      "execution_count": 31,
      "outputs": [
        {
          "output_type": "stream",
          "name": "stdout",
          "text": [
            "Tesla is driving\n",
            "Tesla is charging\n"
          ]
        }
      ]
    },
    {
      "cell_type": "markdown",
      "source": [
        "# **Polymorphism**"
      ],
      "metadata": {
        "id": "B1nGd7GIlGUH"
      }
    },
    {
      "cell_type": "code",
      "source": [
        "class Car:\n",
        "  def fuel_type(self):\n",
        "    print(\"Petrol\")\n",
        "class ElectricCar(Car):\n",
        "  def fuel_type(self):\n",
        "    print(\"Electric\")\n",
        "\n",
        "class HybridCar(Car):\n",
        "  def fuel_type(self):\n",
        "    print(\"Hybrid\")\n",
        "\n",
        "cars=[Car(),ElectricCar(),HybridCar()]\n",
        "for c in cars:\n",
        "  c.fuel_type()"
      ],
      "metadata": {
        "colab": {
          "base_uri": "https://localhost:8080/"
        },
        "id": "wdWoAP_S_1rV",
        "outputId": "ab6fa29d-b659-465a-e765-8ccc0bf7d20e"
      },
      "execution_count": 32,
      "outputs": [
        {
          "output_type": "stream",
          "name": "stdout",
          "text": [
            "Petrol\n",
            "Electric\n",
            "Hybrid\n"
          ]
        }
      ]
    },
    {
      "cell_type": "markdown",
      "source": [
        "# **Practice:8.5(Smart Vehicle Classifier)**"
      ],
      "metadata": {
        "id": "SrOLrAvVl0Bl"
      }
    },
    {
      "cell_type": "code",
      "source": [],
      "metadata": {
        "id": "8jEYzfAAUiSy"
      },
      "execution_count": null,
      "outputs": []
    },
    {
      "cell_type": "code",
      "source": [],
      "metadata": {
        "id": "rrS0xp31S7N5"
      },
      "execution_count": null,
      "outputs": []
    },
    {
      "cell_type": "code",
      "metadata": {
        "id": "1bef88f8"
      },
      "source": [],
      "execution_count": null,
      "outputs": []
    }
  ]
}