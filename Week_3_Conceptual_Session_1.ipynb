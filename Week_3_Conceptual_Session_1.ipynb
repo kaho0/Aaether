{
  "nbformat": 4,
  "nbformat_minor": 0,
  "metadata": {
    "colab": {
      "provenance": [],
      "toc_visible": true,
      "include_colab_link": true
    },
    "kernelspec": {
      "name": "python3",
      "display_name": "Python 3"
    },
    "language_info": {
      "name": "python"
    }
  },
  "cells": [
    {
      "cell_type": "markdown",
      "metadata": {
        "id": "view-in-github",
        "colab_type": "text"
      },
      "source": [
        "<a href=\"https://colab.research.google.com/github/kaho0/Abstract/blob/main/Week_3_Conceptual_Session_1.ipynb\" target=\"_parent\"><img src=\"https://colab.research.google.com/assets/colab-badge.svg\" alt=\"Open In Colab\"/></a>"
      ]
    },
    {
      "cell_type": "markdown",
      "source": [
        "# Module covered topic\n",
        "Numpy - Nd Array Object.\n",
        "\n",
        "Numpy - Data Types.\n",
        "\n",
        "Numpy - Array Attributes.\n",
        "\n",
        "Numpy - Array Creation Routines.\n",
        "\n",
        "Numpy - Array From Existing.\n",
        "\n",
        "Data Array From Numerical Ranges.\n",
        "\n",
        "Numpy - Indexing & Slicing.\n",
        "\n",
        "Numpy - Advanced Indexing.\n",
        "\n",
        "Numpy - Broadcasting.\n",
        "\n",
        "Numpy - Iterating Over Array\n",
        "\n",
        "Numpy - Array Manipulation.\n",
        "\n",
        "Numpy - Conditional operations with all and any\n",
        "\n",
        "Numpy - String Functions.\n",
        "\n",
        "Numpy - Mathematical Functions.\n",
        "\n",
        "Numpy - Arithmetic Operations.\n",
        "\n",
        "Numpy - Statistical Functions.\n",
        "\n",
        "Sort, Search & Counting Functions.\n",
        "\n",
        "Numpy - Linear Algebra\n"
      ],
      "metadata": {
        "id": "mOQuIql600rh"
      }
    },
    {
      "cell_type": "code",
      "source": [
        "import numpy as np\n",
        "A = np.array([\n",
        "    [1, 2, 3],\n",
        "    [4, 5, 6]\n",
        "])\n",
        "\n",
        "B = np.array([\n",
        "    [7, 8],\n",
        "    [9, 10],\n",
        "    [11, 12]\n",
        "])\n",
        "\n",
        "d = np.dot(A, B)\n",
        "print(d)"
      ],
      "metadata": {
        "colab": {
          "base_uri": "https://localhost:8080/"
        },
        "id": "h5ZyGXr6-fP-",
        "outputId": "86410dcb-07e8-424e-8ebb-ac6cdf7134b9"
      },
      "execution_count": null,
      "outputs": [
        {
          "output_type": "stream",
          "name": "stdout",
          "text": [
            "[[ 58  64]\n",
            " [139 154]]\n"
          ]
        }
      ]
    },
    {
      "cell_type": "code",
      "source": [
        "d1 = np.linalg.inv(d)\n",
        "print(d1)"
      ],
      "metadata": {
        "colab": {
          "base_uri": "https://localhost:8080/"
        },
        "id": "2Q0-yEww--_9",
        "outputId": "554a04f3-88fe-4d98-d9f8-b371eb275fce"
      },
      "execution_count": null,
      "outputs": [
        {
          "output_type": "stream",
          "name": "stdout",
          "text": [
            "[[ 4.27777778 -1.77777778]\n",
            " [-3.86111111  1.61111111]]\n"
          ]
        }
      ]
    },
    {
      "cell_type": "code",
      "source": [
        "d2 = np.linalg.matrix_transpose(d1)\n",
        "print(d2)"
      ],
      "metadata": {
        "colab": {
          "base_uri": "https://localhost:8080/"
        },
        "id": "8ZH8BoLv_Xd2",
        "outputId": "ac450108-9315-4421-fc5e-b6d39237050e"
      },
      "execution_count": null,
      "outputs": [
        {
          "output_type": "stream",
          "name": "stdout",
          "text": [
            "[[ 4.27777778 -3.86111111]\n",
            " [-1.77777778  1.61111111]]\n"
          ]
        }
      ]
    },
    {
      "cell_type": "markdown",
      "source": [
        "# Numpy Questions"
      ],
      "metadata": {
        "id": "JIWyqh8NtCT_"
      }
    },
    {
      "cell_type": "markdown",
      "source": [
        "### Array Creation and Manipulation\n",
        "\n",
        "1. Create a NumPy array of shape (5, 5) filled with random integers between 1 and 20. Replace all the elements in the third column with 1.\n",
        "2. Create a NumPy array of shape (4, 4) with values from 1 to 16. Replace the diagonal elements with 0."
      ],
      "metadata": {
        "id": "mu9iBJH3tCUA"
      }
    },
    {
      "cell_type": "code",
      "source": [
        "# 1\n",
        "arr = np.random.randint(1, 21, size=(5, 5))\n",
        "\n",
        "print(arr)\n"
      ],
      "metadata": {
        "colab": {
          "base_uri": "https://localhost:8080/"
        },
        "id": "wEJMxSt0AMOv",
        "outputId": "010a9b94-b409-4743-d0ce-897997ba22e1"
      },
      "execution_count": null,
      "outputs": [
        {
          "output_type": "stream",
          "name": "stdout",
          "text": [
            "[[14 10 19 10 10]\n",
            " [ 5 14  9  5  4]\n",
            " [ 4  8  2 19 10]\n",
            " [11  9 10  9  8]\n",
            " [ 4 14  7  6 20]]\n"
          ]
        }
      ]
    },
    {
      "cell_type": "code",
      "source": [
        "arr[:, 2] = 1\n",
        "print(arr)\n",
        "arr[2, :] = 1\n",
        "print(arr)"
      ],
      "metadata": {
        "colab": {
          "base_uri": "https://localhost:8080/"
        },
        "id": "FMmqH3FAA0GY",
        "outputId": "a702f7fa-ebfd-4e1f-b834-5a84cd938a60"
      },
      "execution_count": null,
      "outputs": [
        {
          "output_type": "stream",
          "name": "stdout",
          "text": [
            "[[14 10  1 10 10]\n",
            " [ 5 14  1  5  4]\n",
            " [ 4  8  1 19 10]\n",
            " [11  9  1  9  8]\n",
            " [ 4 14  1  6 20]]\n",
            "[[14 10  1 10 10]\n",
            " [ 5 14  1  5  4]\n",
            " [ 1  1  1  1  1]\n",
            " [11  9  1  9  8]\n",
            " [ 4 14  1  6 20]]\n"
          ]
        }
      ]
    },
    {
      "cell_type": "code",
      "source": [
        "# 2\n",
        "arr = np.random.randint(1, 17, size=(4, 4))\n",
        "arr"
      ],
      "metadata": {
        "colab": {
          "base_uri": "https://localhost:8080/"
        },
        "id": "czTUhc3dB3KI",
        "outputId": "53543202-2eb6-4114-f073-702bee07b3dd"
      },
      "execution_count": null,
      "outputs": [
        {
          "output_type": "execute_result",
          "data": {
            "text/plain": [
              "array([[13,  9,  8, 15],\n",
              "       [11,  8,  8,  1],\n",
              "       [ 1,  8, 12, 10],\n",
              "       [16, 11,  8, 13]])"
            ]
          },
          "metadata": {},
          "execution_count": 23
        }
      ]
    },
    {
      "cell_type": "code",
      "source": [
        "np.fill_diagonal(arr,0)\n",
        "print(arr)"
      ],
      "metadata": {
        "colab": {
          "base_uri": "https://localhost:8080/"
        },
        "id": "qwR2fjFbB7uB",
        "outputId": "f9049484-3e53-4530-dcc3-3d1129b4a270"
      },
      "execution_count": null,
      "outputs": [
        {
          "output_type": "stream",
          "name": "stdout",
          "text": [
            "[[ 0  9  8 15]\n",
            " [11  0  8  1]\n",
            " [ 1  8  0 10]\n",
            " [16 11  8  0]]\n"
          ]
        }
      ]
    },
    {
      "cell_type": "markdown",
      "source": [
        "### Array Indexing and Slicing\n",
        "\n",
        "1. Create a NumPy array of shape (6, 6) with values from 1 to 36. Extract the sub-array consisting of the 3rd to 5th rows and 2nd to 4th columns.\n",
        "2. Create a NumPy array of shape (5, 5) with random integers. Extract the elements on the border."
      ],
      "metadata": {
        "id": "Z-TOIPYxcs3r"
      }
    },
    {
      "cell_type": "code",
      "source": [
        "#1\n",
        "arr = np.random.randint(1, 36, size=(6, 6))\n",
        "print(arr)"
      ],
      "metadata": {
        "colab": {
          "base_uri": "https://localhost:8080/"
        },
        "id": "5Rmm40a_C_PS",
        "outputId": "f4138408-af17-4034-a8f9-3355bb919637"
      },
      "execution_count": null,
      "outputs": [
        {
          "output_type": "stream",
          "name": "stdout",
          "text": [
            "[[32  2 29 18 30  5]\n",
            " [ 8 23  3 15 30 27]\n",
            " [15  3  3  1 27  9]\n",
            " [11  6 12  8 18  4]\n",
            " [22  7 14 12 20 20]\n",
            " [ 8 12 22  9 14 32]]\n"
          ]
        }
      ]
    },
    {
      "cell_type": "code",
      "source": [
        "arr2 = arr[2:5,1:4]\n",
        "print(arr[2:5,1:4])"
      ],
      "metadata": {
        "colab": {
          "base_uri": "https://localhost:8080/"
        },
        "id": "xQzdSJTTDuZt",
        "outputId": "889a5583-5a6c-4a07-92a0-ad6b73dbae78"
      },
      "execution_count": null,
      "outputs": [
        {
          "output_type": "stream",
          "name": "stdout",
          "text": [
            "[[ 3  3  1]\n",
            " [ 6 12  8]\n",
            " [ 7 14 12]]\n"
          ]
        }
      ]
    },
    {
      "cell_type": "code",
      "source": [
        "# 2\n",
        "arr = np.random.randint(1, 36, size=(5, 5))\n",
        "print(arr)"
      ],
      "metadata": {
        "colab": {
          "base_uri": "https://localhost:8080/"
        },
        "id": "bPsAnOLcEM0H",
        "outputId": "8aab51b4-ffd1-412c-8de2-6ffd82f07f71"
      },
      "execution_count": null,
      "outputs": [
        {
          "output_type": "stream",
          "name": "stdout",
          "text": [
            "[[35 11 33 32  8]\n",
            " [16  5 11 28 12]\n",
            " [16 26 27 35 15]\n",
            " [10  6 28 24 24]\n",
            " [ 4  2  3 30 33]]\n"
          ]
        }
      ]
    },
    {
      "cell_type": "code",
      "source": [
        "print(arr[0, :])\n",
        "print(arr[-1, :])\n",
        "print(arr[1:4, 0])\n",
        "print(arr[1:4, -1])\n",
        "\n",
        "arr3 = np.concatenate((arr[0, :],arr[-1, :],arr[1:4, 0],arr[1:4, -1] ))\n",
        "print(arr3)"
      ],
      "metadata": {
        "colab": {
          "base_uri": "https://localhost:8080/"
        },
        "id": "jsXaw6ldEohJ",
        "outputId": "2e6fbe88-2511-4463-c5a2-5ba6968c26ed"
      },
      "execution_count": null,
      "outputs": [
        {
          "output_type": "stream",
          "name": "stdout",
          "text": [
            "[35 11 33 32  8]\n",
            "[ 4  2  3 30 33]\n",
            "[16 16 10]\n",
            "[12 15 24]\n",
            "[35 11 33 32  8  4  2  3 30 33 16 16 10 12 15 24]\n"
          ]
        }
      ]
    },
    {
      "cell_type": "markdown",
      "source": [
        "### Array Operations\n",
        "\n",
        "1. Create two NumPy arrays of shape (3, 4) filled with random integers. Perform element-wise addition, subtraction, multiplication, and division.\n",
        "2. Create a NumPy array of shape (4, 4) with values from 1 to 16. Compute the row-wise and column-wise sum."
      ],
      "metadata": {
        "id": "d3p9NpuRdjlM"
      }
    },
    {
      "cell_type": "code",
      "source": [
        "# 1\n",
        "arr1 = np.random.randint(1, 36, size=(3, 4))\n",
        "arr2 = np.random.randint(1, 36, size=(3, 4))\n",
        "print(arr1)\n",
        "print(arr2)\n",
        "\n",
        "print(arr1+arr2)\n",
        "print(arr1-arr2)\n",
        "print(arr1*arr2)\n",
        "print(arr1/arr2)\n"
      ],
      "metadata": {
        "colab": {
          "base_uri": "https://localhost:8080/"
        },
        "id": "aKJNyImWGKAe",
        "outputId": "ffb6c7e5-6028-4d3b-912d-0745815a3594"
      },
      "execution_count": null,
      "outputs": [
        {
          "output_type": "stream",
          "name": "stdout",
          "text": [
            "[[35 28 17 16]\n",
            " [12 24 12 10]\n",
            " [35 33 18 26]]\n",
            "[[29 11 28 10]\n",
            " [ 5 34 15 31]\n",
            " [25 19 13 26]]\n",
            "[[64 39 45 26]\n",
            " [17 58 27 41]\n",
            " [60 52 31 52]]\n",
            "[[  6  17 -11   6]\n",
            " [  7 -10  -3 -21]\n",
            " [ 10  14   5   0]]\n",
            "[[1015  308  476  160]\n",
            " [  60  816  180  310]\n",
            " [ 875  627  234  676]]\n",
            "[[1.20689655 2.54545455 0.60714286 1.6       ]\n",
            " [2.4        0.70588235 0.8        0.32258065]\n",
            " [1.4        1.73684211 1.38461538 1.        ]]\n"
          ]
        }
      ]
    },
    {
      "cell_type": "code",
      "source": [
        "# Create a NumPy array of shape (4, 4) with values from 1 to 16. Compute the row-wise and column-wise sum.\n",
        "# 2\n",
        "\n",
        "arr = np.random.randint(1, 5, size=(4, 4))\n",
        "print(arr)"
      ],
      "metadata": {
        "colab": {
          "base_uri": "https://localhost:8080/"
        },
        "id": "WMRJhMmHGxgd",
        "outputId": "ef0aca2a-fe56-4e03-c6f9-1df3df044b66"
      },
      "execution_count": null,
      "outputs": [
        {
          "output_type": "stream",
          "name": "stdout",
          "text": [
            "[[2 2 2 2]\n",
            " [1 3 2 2]\n",
            " [2 1 3 1]\n",
            " [4 3 3 4]]\n"
          ]
        }
      ]
    },
    {
      "cell_type": "code",
      "source": [
        "row_sum = np.sum(arr, axis=1)\n",
        "print(\"Row sum \", row_sum)\n",
        "col_sum = np.sum(arr, axis=0)\n",
        "print(\"Col sum \", col_sum)\n"
      ],
      "metadata": {
        "colab": {
          "base_uri": "https://localhost:8080/"
        },
        "id": "DjsbgqKIHaQM",
        "outputId": "c52dda93-8aa0-4127-f65c-1c712ab99d09"
      },
      "execution_count": null,
      "outputs": [
        {
          "output_type": "stream",
          "name": "stdout",
          "text": [
            "Row sum  [ 8  8  7 14]\n",
            "Col sum  [ 9  9 10  9]\n"
          ]
        }
      ]
    },
    {
      "cell_type": "code",
      "source": [],
      "metadata": {
        "id": "79ysXJTFHqA0"
      },
      "execution_count": null,
      "outputs": []
    },
    {
      "cell_type": "markdown",
      "source": [
        "### Statistical Operations\n",
        "\n",
        "1. Create a NumPy array of shape (5, 5) filled with random integers. Compute the mean, median, standard deviation, and variance of the array."
      ],
      "metadata": {
        "id": "K9yvG5HZeRD0"
      }
    },
    {
      "cell_type": "code",
      "source": [
        "arr = np.random.randint(1, 25, size=(4, 4))\n",
        "print(arr)\n",
        "print(\"Mean = \", np.mean(arr))\n",
        "print(\"Meadian = \", np.median(arr))\n",
        "print(\"Standard Deviatio = \", np.std(arr))\n",
        "print(\"Variance = \", np.var(arr))\n",
        "print(dir(np))"
      ],
      "metadata": {
        "colab": {
          "base_uri": "https://localhost:8080/"
        },
        "id": "nb2XWnhKIR-N",
        "outputId": "f4c3508d-a4e2-453e-eb48-20537dca17ec"
      },
      "execution_count": null,
      "outputs": [
        {
          "output_type": "stream",
          "name": "stdout",
          "text": [
            "[[20 23 21 11]\n",
            " [24 22 19 23]\n",
            " [ 1 13 10  1]\n",
            " [19 14 24 16]]\n",
            "Mean =  16.3125\n",
            "Meadian =  19.0\n",
            "Standard Deviatio =  7.260498863714531\n",
            "Variance =  52.71484375\n",
            "['False_', 'ScalarType', 'True_', '_CopyMode', '_NoValue', '__NUMPY_SETUP__', '__all__', '__array_api_version__', '__builtins__', '__cached__', '__config__', '__dir__', '__doc__', '__expired_attributes__', '__file__', '__former_attrs__', '__future_scalars__', '__getattr__', '__loader__', '__name__', '__numpy_submodules__', '__package__', '__path__', '__spec__', '__version__', '_core', '_distributor_init', '_expired_attrs_2_0', '_get_promotion_state', '_globals', '_int_extended_msg', '_mat', '_msg', '_no_nep50_warning', '_pyinstaller_hooks_dir', '_pytesttester', '_set_promotion_state', '_specific_msg', '_type_info', '_typing', '_utils', 'abs', 'absolute', 'acos', 'acosh', 'add', 'all', 'allclose', 'amax', 'amin', 'angle', 'any', 'append', 'apply_along_axis', 'apply_over_axes', 'arange', 'arccos', 'arccosh', 'arcsin', 'arcsinh', 'arctan', 'arctan2', 'arctanh', 'argmax', 'argmin', 'argpartition', 'argsort', 'argwhere', 'around', 'array', 'array2string', 'array_equal', 'array_equiv', 'array_repr', 'array_split', 'array_str', 'asanyarray', 'asarray', 'asarray_chkfinite', 'ascontiguousarray', 'asfortranarray', 'asin', 'asinh', 'asmatrix', 'astype', 'atan', 'atan2', 'atanh', 'atleast_1d', 'atleast_2d', 'atleast_3d', 'average', 'bartlett', 'base_repr', 'binary_repr', 'bincount', 'bitwise_and', 'bitwise_count', 'bitwise_invert', 'bitwise_left_shift', 'bitwise_not', 'bitwise_or', 'bitwise_right_shift', 'bitwise_xor', 'blackman', 'block', 'bmat', 'bool', 'bool_', 'broadcast', 'broadcast_arrays', 'broadcast_shapes', 'broadcast_to', 'busday_count', 'busday_offset', 'busdaycalendar', 'byte', 'bytes_', 'c_', 'can_cast', 'cbrt', 'cdouble', 'ceil', 'char', 'character', 'choose', 'clip', 'clongdouble', 'column_stack', 'common_type', 'complex128', 'complex256', 'complex64', 'complexfloating', 'compress', 'concat', 'concatenate', 'conj', 'conjugate', 'convolve', 'copy', 'copysign', 'copyto', 'core', 'corrcoef', 'correlate', 'cos', 'cosh', 'count_nonzero', 'cov', 'cross', 'csingle', 'ctypeslib', 'cumprod', 'cumsum', 'datetime64', 'datetime_as_string', 'datetime_data', 'deg2rad', 'degrees', 'delete', 'diag', 'diag_indices', 'diag_indices_from', 'diagflat', 'diagonal', 'diff', 'digitize', 'divide', 'divmod', 'dot', 'double', 'dsplit', 'dstack', 'dtype', 'dtypes', 'e', 'ediff1d', 'einsum', 'einsum_path', 'emath', 'empty', 'empty_like', 'equal', 'errstate', 'euler_gamma', 'exceptions', 'exp', 'exp2', 'expand_dims', 'expm1', 'extract', 'eye', 'f2py', 'fabs', 'fft', 'fill_diagonal', 'finfo', 'fix', 'flatiter', 'flatnonzero', 'flexible', 'flip', 'fliplr', 'flipud', 'float128', 'float16', 'float32', 'float64', 'float_power', 'floating', 'floor', 'floor_divide', 'fmax', 'fmin', 'fmod', 'format_float_positional', 'format_float_scientific', 'frexp', 'from_dlpack', 'frombuffer', 'fromfile', 'fromfunction', 'fromiter', 'frompyfunc', 'fromregex', 'fromstring', 'full', 'full_like', 'gcd', 'generic', 'genfromtxt', 'geomspace', 'get_include', 'get_printoptions', 'getbufsize', 'geterr', 'geterrcall', 'gradient', 'greater', 'greater_equal', 'half', 'hamming', 'hanning', 'heaviside', 'histogram', 'histogram2d', 'histogram_bin_edges', 'histogramdd', 'hsplit', 'hstack', 'hypot', 'i0', 'identity', 'iinfo', 'imag', 'in1d', 'index_exp', 'indices', 'inexact', 'inf', 'info', 'inner', 'insert', 'int16', 'int32', 'int64', 'int8', 'int_', 'intc', 'integer', 'interp', 'intersect1d', 'intp', 'invert', 'is_busday', 'isclose', 'iscomplex', 'iscomplexobj', 'isdtype', 'isfinite', 'isfortran', 'isin', 'isinf', 'isnan', 'isnat', 'isneginf', 'isposinf', 'isreal', 'isrealobj', 'isscalar', 'issubdtype', 'iterable', 'ix_', 'kaiser', 'kron', 'lcm', 'ldexp', 'left_shift', 'less', 'less_equal', 'lexsort', 'lib', 'linalg', 'linspace', 'little_endian', 'load', 'loadtxt', 'log', 'log10', 'log1p', 'log2', 'logaddexp', 'logaddexp2', 'logical_and', 'logical_not', 'logical_or', 'logical_xor', 'logspace', 'long', 'longdouble', 'longlong', 'ma', 'mask_indices', 'matmul', 'matrix', 'matrix_transpose', 'max', 'maximum', 'may_share_memory', 'mean', 'median', 'memmap', 'meshgrid', 'mgrid', 'min', 'min_scalar_type', 'minimum', 'mintypecode', 'mod', 'modf', 'moveaxis', 'multiply', 'nan', 'nan_to_num', 'nanargmax', 'nanargmin', 'nancumprod', 'nancumsum', 'nanmax', 'nanmean', 'nanmedian', 'nanmin', 'nanpercentile', 'nanprod', 'nanquantile', 'nanstd', 'nansum', 'nanvar', 'ndarray', 'ndenumerate', 'ndim', 'ndindex', 'nditer', 'negative', 'nested_iters', 'newaxis', 'nextafter', 'nonzero', 'not_equal', 'number', 'object_', 'ogrid', 'ones', 'ones_like', 'outer', 'packbits', 'pad', 'partition', 'percentile', 'permute_dims', 'pi', 'piecewise', 'place', 'poly', 'poly1d', 'polyadd', 'polyder', 'polydiv', 'polyfit', 'polyint', 'polymul', 'polynomial', 'polysub', 'polyval', 'positive', 'pow', 'power', 'printoptions', 'prod', 'promote_types', 'ptp', 'put', 'put_along_axis', 'putmask', 'quantile', 'r_', 'rad2deg', 'radians', 'random', 'ravel', 'ravel_multi_index', 'real', 'real_if_close', 'rec', 'recarray', 'reciprocal', 'record', 'remainder', 'repeat', 'require', 'reshape', 'resize', 'result_type', 'right_shift', 'rint', 'roll', 'rollaxis', 'roots', 'rot90', 'round', 'row_stack', 's_', 'save', 'savetxt', 'savez', 'savez_compressed', 'sctypeDict', 'searchsorted', 'select', 'set_printoptions', 'setbufsize', 'setdiff1d', 'seterr', 'seterrcall', 'setxor1d', 'shape', 'shares_memory', 'short', 'show_config', 'show_runtime', 'sign', 'signbit', 'signedinteger', 'sin', 'sinc', 'single', 'sinh', 'size', 'sort', 'sort_complex', 'spacing', 'split', 'sqrt', 'square', 'squeeze', 'stack', 'std', 'str_', 'strings', 'subtract', 'sum', 'swapaxes', 'take', 'take_along_axis', 'tan', 'tanh', 'tensordot', 'test', 'testing', 'tile', 'timedelta64', 'trace', 'transpose', 'trapezoid', 'trapz', 'tri', 'tril', 'tril_indices', 'tril_indices_from', 'trim_zeros', 'triu', 'triu_indices', 'triu_indices_from', 'true_divide', 'trunc', 'typecodes', 'typename', 'typing', 'ubyte', 'ufunc', 'uint', 'uint16', 'uint32', 'uint64', 'uint8', 'uintc', 'uintp', 'ulong', 'ulonglong', 'union1d', 'unique', 'unique_all', 'unique_counts', 'unique_inverse', 'unique_values', 'unpackbits', 'unravel_index', 'unsignedinteger', 'unwrap', 'ushort', 'vander', 'var', 'vdot', 'vecdot', 'vectorize', 'void', 'vsplit', 'vstack', 'where', 'zeros', 'zeros_like']\n"
          ]
        }
      ]
    },
    {
      "cell_type": "markdown",
      "source": [
        "### Broadcasting\n",
        "\n",
        "1. Create a NumPy array of shape (3, 3) filled with random integers. Add a 1D array of shape (3,) to each row of the 2D array using broadcasting.\n",
        "2. Create a NumPy array of shape (4, 4) filled with random integers. Subtract a 1D array of shape (4,) from each column of the 2D array using broadcasting."
      ],
      "metadata": {
        "id": "J9J7kKldeSkC"
      }
    },
    {
      "cell_type": "code",
      "source": [
        "# 1\n",
        "arr = np.random.randint(1, 25, size=(3, 3))\n",
        "arr1 = np.random.randint(1, 25, size=(3,))\n",
        "\n",
        "print(arr)\n",
        "print(arr1)\n",
        "print(arr+arr1)"
      ],
      "metadata": {
        "colab": {
          "base_uri": "https://localhost:8080/"
        },
        "id": "tG45_ED7JdMB",
        "outputId": "e1833cf6-1659-4de1-ce7b-5015fea5cb4d"
      },
      "execution_count": null,
      "outputs": [
        {
          "output_type": "stream",
          "name": "stdout",
          "text": [
            "[[18 15  6]\n",
            " [17 20  9]\n",
            " [ 7 20 12]]\n",
            "[16  6  9]\n",
            "[[34 21 15]\n",
            " [33 26 18]\n",
            " [23 26 21]]\n"
          ]
        }
      ]
    },
    {
      "cell_type": "code",
      "source": [
        "# print(arr1[:, np.newaxis])\n",
        "# print(arr1[np.newaxis, :])\n",
        "# print(arr1[:,np.newaxis])\n",
        "print(arr1)  # 3\n",
        "arr1.shape\n",
        "arr2 = arr1.reshape(3, 1) # row =3, col = 1\n",
        "\n",
        "print(arr - arr2)"
      ],
      "metadata": {
        "colab": {
          "base_uri": "https://localhost:8080/"
        },
        "id": "MOCMn-vWL20P",
        "outputId": "82d0bd76-67f3-4c19-f68e-f7bafe94e3dd"
      },
      "execution_count": null,
      "outputs": [
        {
          "output_type": "stream",
          "name": "stdout",
          "text": [
            "[16  6  9]\n",
            "[[  2  -1 -10]\n",
            " [ 11  14   3]\n",
            " [ -2  11   3]]\n"
          ]
        }
      ]
    },
    {
      "cell_type": "markdown",
      "source": [
        "### Linear Algebra\n",
        "\n",
        "1. Create two NumPy arrays of shape (2, 3) and (3, 2). Perform matrix multiplication on these arrays."
      ],
      "metadata": {
        "id": "bSrkjSh0eV_e"
      }
    },
    {
      "cell_type": "code",
      "source": [
        "# 1\n",
        "A = np.array([\n",
        "    [1, 2, 3],\n",
        "    [4, 5, 6]\n",
        "])\n",
        "\n",
        "B = np.array([\n",
        "    [7, 8],\n",
        "    [9, 10],\n",
        "    [11, 12]\n",
        "])\n",
        "print(np.dot(A, B))"
      ],
      "metadata": {
        "colab": {
          "base_uri": "https://localhost:8080/"
        },
        "id": "7BH2zP4GONdy",
        "outputId": "ff63b097-66fb-4808-ad7a-200a7ad03c93"
      },
      "execution_count": null,
      "outputs": [
        {
          "output_type": "stream",
          "name": "stdout",
          "text": [
            "[[ 58  64]\n",
            " [139 154]]\n"
          ]
        }
      ]
    },
    {
      "cell_type": "markdown",
      "source": [
        "### Advanced Array Manipulation\n",
        "\n",
        "1. Create a NumPy array of shape (3, 3) with values from 1 to 9. Reshape the array to shape (1, 9) and then to shape (9, 1).\n",
        "2. Create a NumPy array of shape (5, 5) filled with random integers. Flatten the array and then reshape it back to (5, 5)."
      ],
      "metadata": {
        "id": "QdUgtsIieUJL"
      }
    },
    {
      "cell_type": "code",
      "source": [
        "# 1\n",
        "arr = np.random.randint(1, 10, size=(3, 3))\n",
        "print(arr)\n",
        "\n",
        "print(arr.reshape(1, 9))\n",
        "print(arr.reshape(9, 1)) # row = 9 , col = 1"
      ],
      "metadata": {
        "colab": {
          "base_uri": "https://localhost:8080/"
        },
        "id": "aYNMUNuwOZyU",
        "outputId": "cca65702-53e5-4eb4-e63b-c8a4df0099ae"
      },
      "execution_count": null,
      "outputs": [
        {
          "output_type": "stream",
          "name": "stdout",
          "text": [
            "[[8 6 7]\n",
            " [2 7 9]\n",
            " [5 1 6]]\n",
            "[[8 6 7 2 7 9 5 1 6]]\n",
            "[[8]\n",
            " [6]\n",
            " [7]\n",
            " [2]\n",
            " [7]\n",
            " [9]\n",
            " [5]\n",
            " [1]\n",
            " [6]]\n"
          ]
        }
      ]
    },
    {
      "cell_type": "code",
      "source": [
        "# 2\n",
        "arr = np.random.randint(1, 10, size=(5, 5))\n",
        "print(arr)\n",
        "flatten_arr = arr.flatten()\n",
        "print(flatten_arr)\n",
        "arr2 = flatten_arr.reshape(6,5)\n",
        "print(arr2)"
      ],
      "metadata": {
        "colab": {
          "base_uri": "https://localhost:8080/"
        },
        "id": "d-fKCvw1OyS8",
        "outputId": "11e54dfc-d5bc-4ec6-a2c7-c6c6f5acadb6"
      },
      "execution_count": null,
      "outputs": [
        {
          "output_type": "stream",
          "name": "stdout",
          "text": [
            "[[7 4 3 4 5]\n",
            " [7 7 9 9 5]\n",
            " [5 2 4 2 4]\n",
            " [3 5 9 8 4]\n",
            " [1 5 9 6 8]]\n",
            "[7 4 3 4 5 7 7 9 9 5 5 2 4 2 4 3 5 9 8 4 1 5 9 6 8]\n",
            "[[7 4 3 4 5]\n",
            " [7 7 9 9 5]\n",
            " [5 2 4 2 4]\n",
            " [3 5 9 8 4]\n",
            " [1 5 9 6 8]]\n"
          ]
        }
      ]
    },
    {
      "cell_type": "code",
      "source": [
        "import numpy as np\n",
        "\n",
        "def reshape_matrix(a: list[list[int|float]], new_shape: tuple[int, int]) -> list[list[int|float]]:\n",
        "\t#Write your code here and return a python list after reshaping by using numpy's tolist() method\n",
        "  arr = np.array(a)\n",
        "  if arr.size != new_shape[0] * new_shape[1]:\n",
        "      return []\n",
        "  arr = arr.reshape(new_shape[0],new_shape[1])\n",
        "  return arr.tolist()\n",
        "\n",
        "print(reshape_matrix([[1,2,3,4],[5,6,7,8]], (2, 4)))"
      ],
      "metadata": {
        "colab": {
          "base_uri": "https://localhost:8080/"
        },
        "id": "jaUTQcf0R9Bk",
        "outputId": "af729ca3-ff5f-4d53-8103-2143d66de9f9"
      },
      "execution_count": null,
      "outputs": [
        {
          "output_type": "stream",
          "name": "stdout",
          "text": [
            "[[1, 2, 3, 4], [5, 6, 7, 8]]\n"
          ]
        }
      ]
    },
    {
      "cell_type": "markdown",
      "source": [
        "### **Boolean Indexing**\n",
        "\n",
        "1. Create a NumPy array of shape (4, 4) filled with random integers. Use boolean indexing to set all elements greater than 10 to 10."
      ],
      "metadata": {
        "id": "2p_e-uUDvkI2"
      }
    },
    {
      "cell_type": "code",
      "source": [
        "arr = np.random.randint(1, 100, size=(5, 5))\n",
        "arr\n",
        "print(arr)"
      ],
      "metadata": {
        "colab": {
          "base_uri": "https://localhost:8080/"
        },
        "id": "je71U6iiPkOC",
        "outputId": "e5795ff0-db3f-46c9-9abc-ca1f840f01d7"
      },
      "execution_count": null,
      "outputs": [
        {
          "output_type": "stream",
          "name": "stdout",
          "text": [
            "[[98 24  6 57 45]\n",
            " [92 21 59 74 32]\n",
            " [39 45 19  7 20]\n",
            " [ 7 48 64 58 11]\n",
            " [12 72 97 86 55]]\n"
          ]
        }
      ]
    },
    {
      "cell_type": "code",
      "source": [
        "print(arr[arr>10])\n",
        "arr[arr>10] = 10\n",
        "print(arr)"
      ],
      "metadata": {
        "colab": {
          "base_uri": "https://localhost:8080/"
        },
        "id": "t9FKAqkwP2KS",
        "outputId": "e01e34e4-ae08-48eb-dd62-4371d4b3c6f8"
      },
      "execution_count": null,
      "outputs": [
        {
          "output_type": "stream",
          "name": "stdout",
          "text": [
            "[98 24 57 45 92 21 59 74 32 39 45 19 20 48 64 58 11 12 72 97 86 55]\n",
            "[[10 10  6 10 10]\n",
            " [10 10 10 10 10]\n",
            " [10 10 10  7 10]\n",
            " [ 7 10 10 10 10]\n",
            " [10 10 10 10 10]]\n"
          ]
        }
      ]
    },
    {
      "cell_type": "markdown",
      "source": [
        "# Problem Solving\n"
      ],
      "metadata": {
        "id": "DDRg4DBvShMI"
      }
    },
    {
      "cell_type": "markdown",
      "source": [
        "Easy\n",
        "https://www.deep-ml.com/problems/3"
      ],
      "metadata": {
        "id": "S5ay11PWS7Dv"
      }
    },
    {
      "cell_type": "code",
      "source": [
        "import numpy as np\n",
        "\n",
        "def reshape_matrix(a: list[list[int|float]], new_shape: tuple[int, int]) -> list[list[int|float]]:\n",
        "    #Write your code here and return a python list after reshaping by using numpy's tolist() method\n",
        "    arr = np.array(a)\n",
        "    if arr.size != new_shape[0] * new_shape[1]:\n",
        "        return []\n",
        "    arr = arr.reshape(new_shape[0],new_shape[1])\n",
        "    return arr.tolist()"
      ],
      "metadata": {
        "id": "gxa_xQnlSl7g"
      },
      "execution_count": null,
      "outputs": []
    },
    {
      "cell_type": "markdown",
      "source": [
        "Easy\n",
        "https://www.deep-ml.com/problems/5"
      ],
      "metadata": {
        "id": "HLRsxtKLS9VP"
      }
    },
    {
      "cell_type": "code",
      "source": [
        "import numpy as np\n",
        "def scalar_multiply(matrix: list[list[int|float]], scalar: int|float) -> list[list[int|float]]:\n",
        "    arr = np.array(matrix)\n",
        "    arr = arr * scalar\n",
        "\treturn arr.tolist()"
      ],
      "metadata": {
        "id": "mAOqIcObTGnP"
      },
      "execution_count": null,
      "outputs": []
    },
    {
      "cell_type": "markdown",
      "source": [
        "Easy\n",
        "https://www.deep-ml.com/problems/35"
      ],
      "metadata": {
        "id": "wJUZdu18TG-H"
      }
    },
    {
      "cell_type": "code",
      "source": [
        "import numpy as np\n",
        "\n",
        "def make_diagonal(x):\n",
        "\t# Your code here\n",
        "\treturn np.diag(x)"
      ],
      "metadata": {
        "id": "leIvylvkWkre"
      },
      "execution_count": null,
      "outputs": []
    },
    {
      "cell_type": "markdown",
      "source": [
        "Easy\n",
        "https://www.deep-ml.com/problems/83\n"
      ],
      "metadata": {
        "id": "DFTQ6pRdXwpN"
      }
    },
    {
      "cell_type": "code",
      "source": [
        "import numpy as np\n",
        "\n",
        "def calculate_dot_product(vec1, vec2) -> float:\n",
        "\t\"\"\"\n",
        "\tCalculate the dot product of two vectors.\n",
        "\tArgs:\n",
        "\t\tvec1 (numpy.ndarray): 1D array representing the first vector.\n",
        "\t\tvec2 (numpy.ndarray): 1D array representing the second vector.\n",
        "\t\"\"\"\n",
        "\t# Your code here\n",
        "\treturn np.dot(vec1, vec2)"
      ],
      "metadata": {
        "id": "7eNWs3CuXxoW"
      },
      "execution_count": null,
      "outputs": []
    },
    {
      "cell_type": "markdown",
      "source": [
        "Easy\n",
        "https://www.deep-ml.com/problems/121"
      ],
      "metadata": {
        "id": "_8x-sXLpZEpv"
      }
    },
    {
      "cell_type": "code",
      "source": [],
      "metadata": {
        "id": "HGbOG5qCZUQ1"
      },
      "execution_count": null,
      "outputs": []
    }
  ]
}